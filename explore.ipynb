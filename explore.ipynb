{
 "cells": [
  {
   "cell_type": "code",
   "execution_count": 2,
   "id": "7477fadc",
   "metadata": {
    "collapsed": true
   },
   "outputs": [
    {
     "name": "stdout",
     "output_type": "stream",
     "text": [
      "\u001b[33mWARNING: Retrying (Retry(total=4, connect=None, read=None, redirect=None, status=None)) after connection broken by 'NewConnectionError('<pip._vendor.urllib3.connection.HTTPSConnection object at 0x7fa16f5ea790>: Failed to establish a new connection: [Errno -3] Temporary failure in name resolution')': /simple/torchpack/\u001b[0m\n",
      "\u001b[33mWARNING: Retrying (Retry(total=3, connect=None, read=None, redirect=None, status=None)) after connection broken by 'NewConnectionError('<pip._vendor.urllib3.connection.HTTPSConnection object at 0x7fa16f5eaca0>: Failed to establish a new connection: [Errno -3] Temporary failure in name resolution')': /simple/torchpack/\u001b[0m\n",
      "\u001b[33mWARNING: Retrying (Retry(total=2, connect=None, read=None, redirect=None, status=None)) after connection broken by 'NewConnectionError('<pip._vendor.urllib3.connection.HTTPSConnection object at 0x7fa16f5eacd0>: Failed to establish a new connection: [Errno -3] Temporary failure in name resolution')': /simple/torchpack/\u001b[0m\n",
      "\u001b[33mWARNING: Retrying (Retry(total=1, connect=None, read=None, redirect=None, status=None)) after connection broken by 'NewConnectionError('<pip._vendor.urllib3.connection.HTTPSConnection object at 0x7fa16f5eab50>: Failed to establish a new connection: [Errno -3] Temporary failure in name resolution')': /simple/torchpack/\u001b[0m\n",
      "\u001b[33mWARNING: Retrying (Retry(total=0, connect=None, read=None, redirect=None, status=None)) after connection broken by 'NewConnectionError('<pip._vendor.urllib3.connection.HTTPSConnection object at 0x7fa16f5ea5b0>: Failed to establish a new connection: [Errno -3] Temporary failure in name resolution')': /simple/torchpack/\u001b[0m\n",
      "Collecting torchpack\n",
      "  Using cached torchpack-0.3.1-py3-none-any.whl (34 kB)\n",
      "Collecting multimethod\n",
      "  Using cached multimethod-1.8-py3-none-any.whl (9.8 kB)\n",
      "Requirement already satisfied: torch>=1.5.0 in /usr/local/lib/python3.8/dist-packages (from torchpack) (1.10.0+cu113)\n",
      "Collecting loguru\n",
      "  Downloading loguru-0.6.0-py3-none-any.whl (58 kB)\n",
      "\u001b[K     |████████████████████████████████| 58 kB 63 kB/s eta 0:00:01\n",
      "\u001b[?25hRequirement already satisfied: pyyaml in /usr/lib/python3/dist-packages (from torchpack) (5.3.1)\n",
      "Requirement already satisfied: torchvision in /usr/local/lib/python3.8/dist-packages (from torchpack) (0.11.1+cu113)\n",
      "Requirement already satisfied: numpy in /usr/local/lib/python3.8/dist-packages (from torchpack) (1.22.1)\n",
      "Collecting h5py\n",
      "  Downloading h5py-3.7.0-cp38-cp38-manylinux_2_12_x86_64.manylinux2010_x86_64.whl (4.5 MB)\n",
      "\u001b[K     |████████████████████████████████| 4.5 MB 102 kB/s eta 0:00:01\n",
      "\u001b[?25hRequirement already satisfied: scipy in /usr/local/lib/python3.8/dist-packages (from torchpack) (1.7.3)\n",
      "Collecting tensorpack\n",
      "  Using cached tensorpack-0.11-py2.py3-none-any.whl (296 kB)\n",
      "Requirement already satisfied: toml in /usr/local/lib/python3.8/dist-packages (from torchpack) (0.10.2)\n",
      "Requirement already satisfied: tqdm in /usr/local/lib/python3.8/dist-packages (from torchpack) (4.62.3)\n",
      "Requirement already satisfied: tensorboard in /usr/local/lib/python3.8/dist-packages (from torchpack) (2.8.0)\n",
      "Requirement already satisfied: typing-extensions in /usr/local/lib/python3.8/dist-packages (from torch>=1.5.0->torchpack) (4.0.1)\n",
      "Requirement already satisfied: markdown>=2.6.8 in /usr/local/lib/python3.8/dist-packages (from tensorboard->torchpack) (3.3.6)\n",
      "Requirement already satisfied: google-auth<3,>=1.6.3 in /usr/local/lib/python3.8/dist-packages (from tensorboard->torchpack) (2.3.3)\n",
      "Requirement already satisfied: protobuf>=3.6.0 in /usr/local/lib/python3.8/dist-packages (from tensorboard->torchpack) (3.17.2)\n",
      "Requirement already satisfied: tensorboard-plugin-wit>=1.6.0 in /usr/local/lib/python3.8/dist-packages (from tensorboard->torchpack) (1.8.1)\n",
      "Requirement already satisfied: werkzeug>=0.11.15 in /usr/local/lib/python3.8/dist-packages (from tensorboard->torchpack) (2.0.2)\n",
      "Requirement already satisfied: setuptools>=41.0.0 in /usr/lib/python3/dist-packages (from tensorboard->torchpack) (45.2.0)\n",
      "Requirement already satisfied: grpcio>=1.24.3 in /usr/local/lib/python3.8/dist-packages (from tensorboard->torchpack) (1.43.0)\n",
      "Requirement already satisfied: absl-py>=0.4 in /usr/local/lib/python3.8/dist-packages (from tensorboard->torchpack) (1.0.0)\n",
      "Requirement already satisfied: google-auth-oauthlib<0.5,>=0.4.1 in /usr/local/lib/python3.8/dist-packages (from tensorboard->torchpack) (0.4.6)\n",
      "Requirement already satisfied: tensorboard-data-server<0.7.0,>=0.6.0 in /usr/local/lib/python3.8/dist-packages (from tensorboard->torchpack) (0.6.1)\n",
      "Requirement already satisfied: wheel>=0.26 in /usr/lib/python3/dist-packages (from tensorboard->torchpack) (0.34.2)\n",
      "Requirement already satisfied: requests<3,>=2.21.0 in /usr/local/lib/python3.8/dist-packages (from tensorboard->torchpack) (2.27.1)\n",
      "Requirement already satisfied: six in /usr/local/lib/python3.8/dist-packages (from absl-py>=0.4->tensorboard->torchpack) (1.16.0)\n",
      "Requirement already satisfied: cachetools<5.0,>=2.0.0 in /usr/local/lib/python3.8/dist-packages (from google-auth<3,>=1.6.3->tensorboard->torchpack) (4.2.4)\n",
      "Requirement already satisfied: pyasn1-modules>=0.2.1 in /usr/lib/python3/dist-packages (from google-auth<3,>=1.6.3->tensorboard->torchpack) (0.2.1)\n",
      "Requirement already satisfied: rsa<5,>=3.1.4 in /usr/local/lib/python3.8/dist-packages (from google-auth<3,>=1.6.3->tensorboard->torchpack) (4.8)\n",
      "Requirement already satisfied: requests-oauthlib>=0.7.0 in /usr/local/lib/python3.8/dist-packages (from google-auth-oauthlib<0.5,>=0.4.1->tensorboard->torchpack) (1.3.0)\n",
      "Requirement already satisfied: importlib-metadata>=4.4 in /usr/local/lib/python3.8/dist-packages (from markdown>=2.6.8->tensorboard->torchpack) (4.10.1)\n",
      "Requirement already satisfied: zipp>=0.5 in /usr/local/lib/python3.8/dist-packages (from importlib-metadata>=4.4->markdown>=2.6.8->tensorboard->torchpack) (3.7.0)\n",
      "Requirement already satisfied: certifi>=2017.4.17 in /usr/local/lib/python3.8/dist-packages (from requests<3,>=2.21.0->tensorboard->torchpack) (2021.10.8)\n",
      "Requirement already satisfied: idna<4,>=2.5 in /usr/lib/python3/dist-packages (from requests<3,>=2.21.0->tensorboard->torchpack) (2.8)\n",
      "Requirement already satisfied: charset-normalizer~=2.0.0 in /usr/local/lib/python3.8/dist-packages (from requests<3,>=2.21.0->tensorboard->torchpack) (2.0.10)\n",
      "Requirement already satisfied: urllib3<1.27,>=1.21.1 in /usr/local/lib/python3.8/dist-packages (from requests<3,>=2.21.0->tensorboard->torchpack) (1.26.8)\n",
      "Requirement already satisfied: oauthlib>=3.0.0 in /usr/local/lib/python3.8/dist-packages (from requests-oauthlib>=0.7.0->google-auth-oauthlib<0.5,>=0.4.1->tensorboard->torchpack) (3.1.1)\n",
      "Requirement already satisfied: pyasn1>=0.1.3 in /usr/lib/python3/dist-packages (from rsa<5,>=3.1.4->google-auth<3,>=1.6.3->tensorboard->torchpack) (0.4.2)\n",
      "Requirement already satisfied: termcolor>=1.1 in /usr/local/lib/python3.8/dist-packages (from tensorpack->torchpack) (1.1.0)\n",
      "Collecting msgpack>=0.5.2\n",
      "  Downloading msgpack-1.0.4-cp38-cp38-manylinux_2_17_x86_64.manylinux2014_x86_64.whl (322 kB)\n",
      "\u001b[K     |████████████████████████████████| 322 kB 50 kB/s eta 0:00:01\n",
      "\u001b[?25hCollecting tabulate>=0.7.7\n",
      "  Downloading tabulate-0.8.10-py3-none-any.whl (29 kB)\n",
      "Collecting msgpack-numpy>=0.4.4.2\n",
      "  Downloading msgpack_numpy-0.4.8-py2.py3-none-any.whl (6.9 kB)\n",
      "Requirement already satisfied: psutil>=5 in /usr/local/lib/python3.8/dist-packages (from tensorpack->torchpack) (5.9.0)\n",
      "Requirement already satisfied: pyzmq>=16 in /usr/local/lib/python3.8/dist-packages (from tensorpack->torchpack) (22.3.0)\n",
      "Requirement already satisfied: pillow!=8.3.0,>=5.3.0 in /usr/local/lib/python3.8/dist-packages (from torchvision->torchpack) (9.0.0)\n",
      "Installing collected packages: msgpack, tabulate, msgpack-numpy, tensorpack, multimethod, loguru, h5py, torchpack\n",
      "Successfully installed h5py-3.7.0 loguru-0.6.0 msgpack-1.0.4 msgpack-numpy-0.4.8 multimethod-1.8 tabulate-0.8.10 tensorpack-0.11 torchpack-0.3.1\n",
      "\u001b[33mWARNING: Running pip as root will break packages and permissions. You should install packages reliably by using venv: https://pip.pypa.io/warnings/venv\u001b[0m\n",
      "\u001b[33mWARNING: You are using pip version 21.1.2; however, version 22.2.2 is available.\n",
      "You should consider upgrading via the '/usr/bin/python -m pip install --upgrade pip' command.\u001b[0m\n"
     ]
    }
   ],
   "source": [
    "!pip install torchpack"
   ]
  },
  {
   "cell_type": "code",
   "execution_count": 1,
   "id": "43740186",
   "metadata": {},
   "outputs": [],
   "source": [
    "import argparse\n",
    "import copy\n",
    "import os\n",
    "import warnings\n",
    "\n",
    "import mmcv\n",
    "from mmcv.utils import build_from_cfg\n",
    "import torch\n",
    "from torchpack.utils.config import configs\n",
    "from torchpack import distributed as dist\n",
    "from mmcv import Config, DictAction\n",
    "from mmcv.cnn import fuse_conv_bn\n",
    "from mmcv.parallel import MMDataParallel, MMDistributedDataParallel\n",
    "from mmcv.runner import get_dist_info, init_dist, load_checkpoint, wrap_fp16_model\n",
    "from mmdet3d.apis import single_gpu_test\n",
    "from mmdet3d.datasets import build_dataloader, build_dataset\n",
    "from mmdet3d.models import build_model\n",
    "from mmdet.apis import multi_gpu_test, set_random_seed\n",
    "from mmdet.datasets import replace_ImageToTensor\n",
    "from mmdet3d.utils import recursive_eval"
   ]
  },
  {
   "cell_type": "code",
   "execution_count": 2,
   "id": "3e80da31",
   "metadata": {},
   "outputs": [],
   "source": [
    "parser = argparse.ArgumentParser()\n",
    "parser.add_argument(\"config\", metavar=\"FILE\")\n",
    "parser.add_argument(\"--mode\", type=str, default=\"pred\", choices=[\"gt\", \"pred\"])\n",
    "parser.add_argument(\"--checkpoint\", type=str, default=None)\n",
    "parser.add_argument(\"--split\", type=str, default=\"val\", choices=[\"train\", \"val\"])\n",
    "parser.add_argument(\"--bbox-classes\", nargs=\"+\", type=int, default=None)\n",
    "parser.add_argument(\"--bbox-score\", type=float, default=None)\n",
    "parser.add_argument(\"--map-score\", type=float, default=0.5)\n",
    "parser.add_argument(\"--out-dir\", type=str, default=\"viz\")\n",
    "parser.add_argument(\"--fp16\", action=\"store_true\")\n",
    "args, opts = parser.parse_known_args(['configs/nuscenes/det/transfusion/secfpn/camera+lidar/swint_v0p075/convfuser.yaml', '--checkpoint', 'pretrained/bevfusion-det.pth', '--fp16'])"
   ]
  },
  {
   "cell_type": "code",
   "execution_count": 3,
   "id": "f2bd1906",
   "metadata": {},
   "outputs": [],
   "source": [
    "#configs.update(opts)\n",
    "config_file = 'configs/nuscenes/det/transfusion/secfpn/camera+lidar/swint_v0p075/convfuser.yaml'\n",
    "configs.load(config_file, recursive=True)\n",
    "checkpoint = 'pretrained/bevfusion-det.pth'\n",
    "cfg = Config(recursive_eval(configs), filename=config_file)"
   ]
  },
  {
   "cell_type": "code",
   "execution_count": 4,
   "id": "dc9be2c5",
   "metadata": {},
   "outputs": [],
   "source": [
    "cfg['data']['test']['pipeline'][4]['final_dim'] = [128, 360]\n",
    "cfg.model.encoders['camera'].vtransform['image_size'] = [128,360]\n",
    "cfg.model.encoders['camera'].vtransform['feature_size'] = [16, 45]"
   ]
  },
  {
   "cell_type": "code",
   "execution_count": 5,
   "id": "15c3692f",
   "metadata": {},
   "outputs": [],
   "source": [
    "torch.backends.cudnn.benchmark = cfg.cudnn_benchmark\n",
    "torch.cuda.set_device(dist.local_rank())"
   ]
  },
  {
   "cell_type": "code",
   "execution_count": 6,
   "id": "3fd61341",
   "metadata": {},
   "outputs": [],
   "source": [
    "dataset = build_dataset(cfg.data['test'])\n",
    "dataflow = build_dataloader(\n",
    "    dataset,\n",
    "    samples_per_gpu=1,\n",
    "    workers_per_gpu=2,\n",
    "    dist=False,\n",
    "    shuffle=False,\n",
    ")"
   ]
  },
  {
   "cell_type": "code",
   "execution_count": 7,
   "id": "30ba26eb",
   "metadata": {},
   "outputs": [
    {
     "name": "stderr",
     "output_type": "stream",
     "text": [
      "/usr/local/lib/python3.8/dist-packages/torch/functional.py:445: UserWarning: torch.meshgrid: in an upcoming release, it will be required to pass the indexing argument. (Triggered internally at  ../aten/src/ATen/native/TensorShape.cpp:2157.)\n",
      "  return _VF.meshgrid(tensors, **kwargs)  # type: ignore[attr-defined]\n",
      "2022-08-11 18:15:17,524 - mmdet - INFO - load checkpoint from local path: /workspace/catkin_ws_devel/src/conav_perception/conav_bev_detection/src/bevfusion/pretrained/swin_tiny_patch4_window7_224.pth\n"
     ]
    },
    {
     "name": "stdout",
     "output_type": "stream",
     "text": [
      "load checkpoint from local path: pretrained/bevfusion-det.pth\n",
      "The model and loaded state dict do not match exactly\n",
      "\n",
      "size mismatch for encoders.camera.vtransform.frustum: copying a param with shape torch.Size([118, 32, 88, 3]) from checkpoint, the shape in current model is torch.Size([118, 16, 45, 3]).\n"
     ]
    },
    {
     "data": {
      "text/plain": [
       "'model = MMDataParallel(\\n            model.cuda(),\\n            device_ids=[torch.cuda.current_device()],\\n        )'"
      ]
     },
     "execution_count": 7,
     "metadata": {},
     "output_type": "execute_result"
    }
   ],
   "source": [
    "model = build_model(cfg.model, test_cfg=cfg.get(\"test_cfg\"))\n",
    "#wrap_fp16_model(model)\n",
    "sd = load_checkpoint(model, checkpoint, map_location=\"cpu\")\n",
    "model = model.to('cuda')\n",
    "\"\"\"model = MMDataParallel(\n",
    "            model.cuda(),\n",
    "            device_ids=[torch.cuda.current_device()],\n",
    "        )\"\"\""
   ]
  },
  {
   "cell_type": "code",
   "execution_count": 30,
   "id": "f2bd876c",
   "metadata": {
    "collapsed": true
   },
   "outputs": [
    {
     "data": {
      "text/plain": [
       "tensor([[[[  0.0000,   0.0000,   1.0000],\n",
       "          [  8.0805,   0.0000,   1.0000],\n",
       "          [ 16.1609,   0.0000,   1.0000],\n",
       "          ...,\n",
       "          [686.8391,   0.0000,   1.0000],\n",
       "          [694.9196,   0.0000,   1.0000],\n",
       "          [703.0000,   0.0000,   1.0000]],\n",
       "\n",
       "         [[  0.0000,   8.2258,   1.0000],\n",
       "          [  8.0805,   8.2258,   1.0000],\n",
       "          [ 16.1609,   8.2258,   1.0000],\n",
       "          ...,\n",
       "          [686.8391,   8.2258,   1.0000],\n",
       "          [694.9196,   8.2258,   1.0000],\n",
       "          [703.0000,   8.2258,   1.0000]],\n",
       "\n",
       "         [[  0.0000,  16.4516,   1.0000],\n",
       "          [  8.0805,  16.4516,   1.0000],\n",
       "          [ 16.1609,  16.4516,   1.0000],\n",
       "          ...,\n",
       "          [686.8391,  16.4516,   1.0000],\n",
       "          [694.9196,  16.4516,   1.0000],\n",
       "          [703.0000,  16.4516,   1.0000]],\n",
       "\n",
       "         ...,\n",
       "\n",
       "         [[  0.0000, 238.5484,   1.0000],\n",
       "          [  8.0805, 238.5484,   1.0000],\n",
       "          [ 16.1609, 238.5484,   1.0000],\n",
       "          ...,\n",
       "          [686.8391, 238.5484,   1.0000],\n",
       "          [694.9196, 238.5484,   1.0000],\n",
       "          [703.0000, 238.5484,   1.0000]],\n",
       "\n",
       "         [[  0.0000, 246.7742,   1.0000],\n",
       "          [  8.0805, 246.7742,   1.0000],\n",
       "          [ 16.1609, 246.7742,   1.0000],\n",
       "          ...,\n",
       "          [686.8391, 246.7742,   1.0000],\n",
       "          [694.9196, 246.7742,   1.0000],\n",
       "          [703.0000, 246.7742,   1.0000]],\n",
       "\n",
       "         [[  0.0000, 255.0000,   1.0000],\n",
       "          [  8.0805, 255.0000,   1.0000],\n",
       "          [ 16.1609, 255.0000,   1.0000],\n",
       "          ...,\n",
       "          [686.8391, 255.0000,   1.0000],\n",
       "          [694.9196, 255.0000,   1.0000],\n",
       "          [703.0000, 255.0000,   1.0000]]],\n",
       "\n",
       "\n",
       "        [[[  0.0000,   0.0000,   1.5000],\n",
       "          [  8.0805,   0.0000,   1.5000],\n",
       "          [ 16.1609,   0.0000,   1.5000],\n",
       "          ...,\n",
       "          [686.8391,   0.0000,   1.5000],\n",
       "          [694.9196,   0.0000,   1.5000],\n",
       "          [703.0000,   0.0000,   1.5000]],\n",
       "\n",
       "         [[  0.0000,   8.2258,   1.5000],\n",
       "          [  8.0805,   8.2258,   1.5000],\n",
       "          [ 16.1609,   8.2258,   1.5000],\n",
       "          ...,\n",
       "          [686.8391,   8.2258,   1.5000],\n",
       "          [694.9196,   8.2258,   1.5000],\n",
       "          [703.0000,   8.2258,   1.5000]],\n",
       "\n",
       "         [[  0.0000,  16.4516,   1.5000],\n",
       "          [  8.0805,  16.4516,   1.5000],\n",
       "          [ 16.1609,  16.4516,   1.5000],\n",
       "          ...,\n",
       "          [686.8391,  16.4516,   1.5000],\n",
       "          [694.9196,  16.4516,   1.5000],\n",
       "          [703.0000,  16.4516,   1.5000]],\n",
       "\n",
       "         ...,\n",
       "\n",
       "         [[  0.0000, 238.5484,   1.5000],\n",
       "          [  8.0805, 238.5484,   1.5000],\n",
       "          [ 16.1609, 238.5484,   1.5000],\n",
       "          ...,\n",
       "          [686.8391, 238.5484,   1.5000],\n",
       "          [694.9196, 238.5484,   1.5000],\n",
       "          [703.0000, 238.5484,   1.5000]],\n",
       "\n",
       "         [[  0.0000, 246.7742,   1.5000],\n",
       "          [  8.0805, 246.7742,   1.5000],\n",
       "          [ 16.1609, 246.7742,   1.5000],\n",
       "          ...,\n",
       "          [686.8391, 246.7742,   1.5000],\n",
       "          [694.9196, 246.7742,   1.5000],\n",
       "          [703.0000, 246.7742,   1.5000]],\n",
       "\n",
       "         [[  0.0000, 255.0000,   1.5000],\n",
       "          [  8.0805, 255.0000,   1.5000],\n",
       "          [ 16.1609, 255.0000,   1.5000],\n",
       "          ...,\n",
       "          [686.8391, 255.0000,   1.5000],\n",
       "          [694.9196, 255.0000,   1.5000],\n",
       "          [703.0000, 255.0000,   1.5000]]],\n",
       "\n",
       "\n",
       "        [[[  0.0000,   0.0000,   2.0000],\n",
       "          [  8.0805,   0.0000,   2.0000],\n",
       "          [ 16.1609,   0.0000,   2.0000],\n",
       "          ...,\n",
       "          [686.8391,   0.0000,   2.0000],\n",
       "          [694.9196,   0.0000,   2.0000],\n",
       "          [703.0000,   0.0000,   2.0000]],\n",
       "\n",
       "         [[  0.0000,   8.2258,   2.0000],\n",
       "          [  8.0805,   8.2258,   2.0000],\n",
       "          [ 16.1609,   8.2258,   2.0000],\n",
       "          ...,\n",
       "          [686.8391,   8.2258,   2.0000],\n",
       "          [694.9196,   8.2258,   2.0000],\n",
       "          [703.0000,   8.2258,   2.0000]],\n",
       "\n",
       "         [[  0.0000,  16.4516,   2.0000],\n",
       "          [  8.0805,  16.4516,   2.0000],\n",
       "          [ 16.1609,  16.4516,   2.0000],\n",
       "          ...,\n",
       "          [686.8391,  16.4516,   2.0000],\n",
       "          [694.9196,  16.4516,   2.0000],\n",
       "          [703.0000,  16.4516,   2.0000]],\n",
       "\n",
       "         ...,\n",
       "\n",
       "         [[  0.0000, 238.5484,   2.0000],\n",
       "          [  8.0805, 238.5484,   2.0000],\n",
       "          [ 16.1609, 238.5484,   2.0000],\n",
       "          ...,\n",
       "          [686.8391, 238.5484,   2.0000],\n",
       "          [694.9196, 238.5484,   2.0000],\n",
       "          [703.0000, 238.5484,   2.0000]],\n",
       "\n",
       "         [[  0.0000, 246.7742,   2.0000],\n",
       "          [  8.0805, 246.7742,   2.0000],\n",
       "          [ 16.1609, 246.7742,   2.0000],\n",
       "          ...,\n",
       "          [686.8391, 246.7742,   2.0000],\n",
       "          [694.9196, 246.7742,   2.0000],\n",
       "          [703.0000, 246.7742,   2.0000]],\n",
       "\n",
       "         [[  0.0000, 255.0000,   2.0000],\n",
       "          [  8.0805, 255.0000,   2.0000],\n",
       "          [ 16.1609, 255.0000,   2.0000],\n",
       "          ...,\n",
       "          [686.8391, 255.0000,   2.0000],\n",
       "          [694.9196, 255.0000,   2.0000],\n",
       "          [703.0000, 255.0000,   2.0000]]],\n",
       "\n",
       "\n",
       "        ...,\n",
       "\n",
       "\n",
       "        [[[  0.0000,   0.0000,  58.5000],\n",
       "          [  8.0805,   0.0000,  58.5000],\n",
       "          [ 16.1609,   0.0000,  58.5000],\n",
       "          ...,\n",
       "          [686.8391,   0.0000,  58.5000],\n",
       "          [694.9196,   0.0000,  58.5000],\n",
       "          [703.0000,   0.0000,  58.5000]],\n",
       "\n",
       "         [[  0.0000,   8.2258,  58.5000],\n",
       "          [  8.0805,   8.2258,  58.5000],\n",
       "          [ 16.1609,   8.2258,  58.5000],\n",
       "          ...,\n",
       "          [686.8391,   8.2258,  58.5000],\n",
       "          [694.9196,   8.2258,  58.5000],\n",
       "          [703.0000,   8.2258,  58.5000]],\n",
       "\n",
       "         [[  0.0000,  16.4516,  58.5000],\n",
       "          [  8.0805,  16.4516,  58.5000],\n",
       "          [ 16.1609,  16.4516,  58.5000],\n",
       "          ...,\n",
       "          [686.8391,  16.4516,  58.5000],\n",
       "          [694.9196,  16.4516,  58.5000],\n",
       "          [703.0000,  16.4516,  58.5000]],\n",
       "\n",
       "         ...,\n",
       "\n",
       "         [[  0.0000, 238.5484,  58.5000],\n",
       "          [  8.0805, 238.5484,  58.5000],\n",
       "          [ 16.1609, 238.5484,  58.5000],\n",
       "          ...,\n",
       "          [686.8391, 238.5484,  58.5000],\n",
       "          [694.9196, 238.5484,  58.5000],\n",
       "          [703.0000, 238.5484,  58.5000]],\n",
       "\n",
       "         [[  0.0000, 246.7742,  58.5000],\n",
       "          [  8.0805, 246.7742,  58.5000],\n",
       "          [ 16.1609, 246.7742,  58.5000],\n",
       "          ...,\n",
       "          [686.8391, 246.7742,  58.5000],\n",
       "          [694.9196, 246.7742,  58.5000],\n",
       "          [703.0000, 246.7742,  58.5000]],\n",
       "\n",
       "         [[  0.0000, 255.0000,  58.5000],\n",
       "          [  8.0805, 255.0000,  58.5000],\n",
       "          [ 16.1609, 255.0000,  58.5000],\n",
       "          ...,\n",
       "          [686.8391, 255.0000,  58.5000],\n",
       "          [694.9196, 255.0000,  58.5000],\n",
       "          [703.0000, 255.0000,  58.5000]]],\n",
       "\n",
       "\n",
       "        [[[  0.0000,   0.0000,  59.0000],\n",
       "          [  8.0805,   0.0000,  59.0000],\n",
       "          [ 16.1609,   0.0000,  59.0000],\n",
       "          ...,\n",
       "          [686.8391,   0.0000,  59.0000],\n",
       "          [694.9196,   0.0000,  59.0000],\n",
       "          [703.0000,   0.0000,  59.0000]],\n",
       "\n",
       "         [[  0.0000,   8.2258,  59.0000],\n",
       "          [  8.0805,   8.2258,  59.0000],\n",
       "          [ 16.1609,   8.2258,  59.0000],\n",
       "          ...,\n",
       "          [686.8391,   8.2258,  59.0000],\n",
       "          [694.9196,   8.2258,  59.0000],\n",
       "          [703.0000,   8.2258,  59.0000]],\n",
       "\n",
       "         [[  0.0000,  16.4516,  59.0000],\n",
       "          [  8.0805,  16.4516,  59.0000],\n",
       "          [ 16.1609,  16.4516,  59.0000],\n",
       "          ...,\n",
       "          [686.8391,  16.4516,  59.0000],\n",
       "          [694.9196,  16.4516,  59.0000],\n",
       "          [703.0000,  16.4516,  59.0000]],\n",
       "\n",
       "         ...,\n",
       "\n",
       "         [[  0.0000, 238.5484,  59.0000],\n",
       "          [  8.0805, 238.5484,  59.0000],\n",
       "          [ 16.1609, 238.5484,  59.0000],\n",
       "          ...,\n",
       "          [686.8391, 238.5484,  59.0000],\n",
       "          [694.9196, 238.5484,  59.0000],\n",
       "          [703.0000, 238.5484,  59.0000]],\n",
       "\n",
       "         [[  0.0000, 246.7742,  59.0000],\n",
       "          [  8.0805, 246.7742,  59.0000],\n",
       "          [ 16.1609, 246.7742,  59.0000],\n",
       "          ...,\n",
       "          [686.8391, 246.7742,  59.0000],\n",
       "          [694.9196, 246.7742,  59.0000],\n",
       "          [703.0000, 246.7742,  59.0000]],\n",
       "\n",
       "         [[  0.0000, 255.0000,  59.0000],\n",
       "          [  8.0805, 255.0000,  59.0000],\n",
       "          [ 16.1609, 255.0000,  59.0000],\n",
       "          ...,\n",
       "          [686.8391, 255.0000,  59.0000],\n",
       "          [694.9196, 255.0000,  59.0000],\n",
       "          [703.0000, 255.0000,  59.0000]]],\n",
       "\n",
       "\n",
       "        [[[  0.0000,   0.0000,  59.5000],\n",
       "          [  8.0805,   0.0000,  59.5000],\n",
       "          [ 16.1609,   0.0000,  59.5000],\n",
       "          ...,\n",
       "          [686.8391,   0.0000,  59.5000],\n",
       "          [694.9196,   0.0000,  59.5000],\n",
       "          [703.0000,   0.0000,  59.5000]],\n",
       "\n",
       "         [[  0.0000,   8.2258,  59.5000],\n",
       "          [  8.0805,   8.2258,  59.5000],\n",
       "          [ 16.1609,   8.2258,  59.5000],\n",
       "          ...,\n",
       "          [686.8391,   8.2258,  59.5000],\n",
       "          [694.9196,   8.2258,  59.5000],\n",
       "          [703.0000,   8.2258,  59.5000]],\n",
       "\n",
       "         [[  0.0000,  16.4516,  59.5000],\n",
       "          [  8.0805,  16.4516,  59.5000],\n",
       "          [ 16.1609,  16.4516,  59.5000],\n",
       "          ...,\n",
       "          [686.8391,  16.4516,  59.5000],\n",
       "          [694.9196,  16.4516,  59.5000],\n",
       "          [703.0000,  16.4516,  59.5000]],\n",
       "\n",
       "         ...,\n",
       "\n",
       "         [[  0.0000, 238.5484,  59.5000],\n",
       "          [  8.0805, 238.5484,  59.5000],\n",
       "          [ 16.1609, 238.5484,  59.5000],\n",
       "          ...,\n",
       "          [686.8391, 238.5484,  59.5000],\n",
       "          [694.9196, 238.5484,  59.5000],\n",
       "          [703.0000, 238.5484,  59.5000]],\n",
       "\n",
       "         [[  0.0000, 246.7742,  59.5000],\n",
       "          [  8.0805, 246.7742,  59.5000],\n",
       "          [ 16.1609, 246.7742,  59.5000],\n",
       "          ...,\n",
       "          [686.8391, 246.7742,  59.5000],\n",
       "          [694.9196, 246.7742,  59.5000],\n",
       "          [703.0000, 246.7742,  59.5000]],\n",
       "\n",
       "         [[  0.0000, 255.0000,  59.5000],\n",
       "          [  8.0805, 255.0000,  59.5000],\n",
       "          [ 16.1609, 255.0000,  59.5000],\n",
       "          ...,\n",
       "          [686.8391, 255.0000,  59.5000],\n",
       "          [694.9196, 255.0000,  59.5000],\n",
       "          [703.0000, 255.0000,  59.5000]]]])"
      ]
     },
     "execution_count": 30,
     "metadata": {},
     "output_type": "execute_result"
    }
   ],
   "source": [
    "sd['state_dict']['encoders.camera.vtransform.frustum']\n"
   ]
  },
  {
   "cell_type": "code",
   "execution_count": 23,
   "id": "7902cebb",
   "metadata": {
    "collapsed": true
   },
   "outputs": [
    {
     "data": {
      "text/plain": [
       "Parameter containing:\n",
       "tensor([[[[  0.0000,   0.0000,   1.0000],\n",
       "          [  8.1591,   0.0000,   1.0000],\n",
       "          [ 16.3182,   0.0000,   1.0000],\n",
       "          ...,\n",
       "          [342.6818,   0.0000,   1.0000],\n",
       "          [350.8409,   0.0000,   1.0000],\n",
       "          [359.0000,   0.0000,   1.0000]],\n",
       "\n",
       "         [[  0.0000,   8.4667,   1.0000],\n",
       "          [  8.1591,   8.4667,   1.0000],\n",
       "          [ 16.3182,   8.4667,   1.0000],\n",
       "          ...,\n",
       "          [342.6818,   8.4667,   1.0000],\n",
       "          [350.8409,   8.4667,   1.0000],\n",
       "          [359.0000,   8.4667,   1.0000]],\n",
       "\n",
       "         [[  0.0000,  16.9333,   1.0000],\n",
       "          [  8.1591,  16.9333,   1.0000],\n",
       "          [ 16.3182,  16.9333,   1.0000],\n",
       "          ...,\n",
       "          [342.6818,  16.9333,   1.0000],\n",
       "          [350.8409,  16.9333,   1.0000],\n",
       "          [359.0000,  16.9333,   1.0000]],\n",
       "\n",
       "         ...,\n",
       "\n",
       "         [[  0.0000, 110.0667,   1.0000],\n",
       "          [  8.1591, 110.0667,   1.0000],\n",
       "          [ 16.3182, 110.0667,   1.0000],\n",
       "          ...,\n",
       "          [342.6818, 110.0667,   1.0000],\n",
       "          [350.8409, 110.0667,   1.0000],\n",
       "          [359.0000, 110.0667,   1.0000]],\n",
       "\n",
       "         [[  0.0000, 118.5333,   1.0000],\n",
       "          [  8.1591, 118.5333,   1.0000],\n",
       "          [ 16.3182, 118.5333,   1.0000],\n",
       "          ...,\n",
       "          [342.6818, 118.5333,   1.0000],\n",
       "          [350.8409, 118.5333,   1.0000],\n",
       "          [359.0000, 118.5333,   1.0000]],\n",
       "\n",
       "         [[  0.0000, 127.0000,   1.0000],\n",
       "          [  8.1591, 127.0000,   1.0000],\n",
       "          [ 16.3182, 127.0000,   1.0000],\n",
       "          ...,\n",
       "          [342.6818, 127.0000,   1.0000],\n",
       "          [350.8409, 127.0000,   1.0000],\n",
       "          [359.0000, 127.0000,   1.0000]]],\n",
       "\n",
       "\n",
       "        [[[  0.0000,   0.0000,   1.5000],\n",
       "          [  8.1591,   0.0000,   1.5000],\n",
       "          [ 16.3182,   0.0000,   1.5000],\n",
       "          ...,\n",
       "          [342.6818,   0.0000,   1.5000],\n",
       "          [350.8409,   0.0000,   1.5000],\n",
       "          [359.0000,   0.0000,   1.5000]],\n",
       "\n",
       "         [[  0.0000,   8.4667,   1.5000],\n",
       "          [  8.1591,   8.4667,   1.5000],\n",
       "          [ 16.3182,   8.4667,   1.5000],\n",
       "          ...,\n",
       "          [342.6818,   8.4667,   1.5000],\n",
       "          [350.8409,   8.4667,   1.5000],\n",
       "          [359.0000,   8.4667,   1.5000]],\n",
       "\n",
       "         [[  0.0000,  16.9333,   1.5000],\n",
       "          [  8.1591,  16.9333,   1.5000],\n",
       "          [ 16.3182,  16.9333,   1.5000],\n",
       "          ...,\n",
       "          [342.6818,  16.9333,   1.5000],\n",
       "          [350.8409,  16.9333,   1.5000],\n",
       "          [359.0000,  16.9333,   1.5000]],\n",
       "\n",
       "         ...,\n",
       "\n",
       "         [[  0.0000, 110.0667,   1.5000],\n",
       "          [  8.1591, 110.0667,   1.5000],\n",
       "          [ 16.3182, 110.0667,   1.5000],\n",
       "          ...,\n",
       "          [342.6818, 110.0667,   1.5000],\n",
       "          [350.8409, 110.0667,   1.5000],\n",
       "          [359.0000, 110.0667,   1.5000]],\n",
       "\n",
       "         [[  0.0000, 118.5333,   1.5000],\n",
       "          [  8.1591, 118.5333,   1.5000],\n",
       "          [ 16.3182, 118.5333,   1.5000],\n",
       "          ...,\n",
       "          [342.6818, 118.5333,   1.5000],\n",
       "          [350.8409, 118.5333,   1.5000],\n",
       "          [359.0000, 118.5333,   1.5000]],\n",
       "\n",
       "         [[  0.0000, 127.0000,   1.5000],\n",
       "          [  8.1591, 127.0000,   1.5000],\n",
       "          [ 16.3182, 127.0000,   1.5000],\n",
       "          ...,\n",
       "          [342.6818, 127.0000,   1.5000],\n",
       "          [350.8409, 127.0000,   1.5000],\n",
       "          [359.0000, 127.0000,   1.5000]]],\n",
       "\n",
       "\n",
       "        [[[  0.0000,   0.0000,   2.0000],\n",
       "          [  8.1591,   0.0000,   2.0000],\n",
       "          [ 16.3182,   0.0000,   2.0000],\n",
       "          ...,\n",
       "          [342.6818,   0.0000,   2.0000],\n",
       "          [350.8409,   0.0000,   2.0000],\n",
       "          [359.0000,   0.0000,   2.0000]],\n",
       "\n",
       "         [[  0.0000,   8.4667,   2.0000],\n",
       "          [  8.1591,   8.4667,   2.0000],\n",
       "          [ 16.3182,   8.4667,   2.0000],\n",
       "          ...,\n",
       "          [342.6818,   8.4667,   2.0000],\n",
       "          [350.8409,   8.4667,   2.0000],\n",
       "          [359.0000,   8.4667,   2.0000]],\n",
       "\n",
       "         [[  0.0000,  16.9333,   2.0000],\n",
       "          [  8.1591,  16.9333,   2.0000],\n",
       "          [ 16.3182,  16.9333,   2.0000],\n",
       "          ...,\n",
       "          [342.6818,  16.9333,   2.0000],\n",
       "          [350.8409,  16.9333,   2.0000],\n",
       "          [359.0000,  16.9333,   2.0000]],\n",
       "\n",
       "         ...,\n",
       "\n",
       "         [[  0.0000, 110.0667,   2.0000],\n",
       "          [  8.1591, 110.0667,   2.0000],\n",
       "          [ 16.3182, 110.0667,   2.0000],\n",
       "          ...,\n",
       "          [342.6818, 110.0667,   2.0000],\n",
       "          [350.8409, 110.0667,   2.0000],\n",
       "          [359.0000, 110.0667,   2.0000]],\n",
       "\n",
       "         [[  0.0000, 118.5333,   2.0000],\n",
       "          [  8.1591, 118.5333,   2.0000],\n",
       "          [ 16.3182, 118.5333,   2.0000],\n",
       "          ...,\n",
       "          [342.6818, 118.5333,   2.0000],\n",
       "          [350.8409, 118.5333,   2.0000],\n",
       "          [359.0000, 118.5333,   2.0000]],\n",
       "\n",
       "         [[  0.0000, 127.0000,   2.0000],\n",
       "          [  8.1591, 127.0000,   2.0000],\n",
       "          [ 16.3182, 127.0000,   2.0000],\n",
       "          ...,\n",
       "          [342.6818, 127.0000,   2.0000],\n",
       "          [350.8409, 127.0000,   2.0000],\n",
       "          [359.0000, 127.0000,   2.0000]]],\n",
       "\n",
       "\n",
       "        ...,\n",
       "\n",
       "\n",
       "        [[[  0.0000,   0.0000,  58.5000],\n",
       "          [  8.1591,   0.0000,  58.5000],\n",
       "          [ 16.3182,   0.0000,  58.5000],\n",
       "          ...,\n",
       "          [342.6818,   0.0000,  58.5000],\n",
       "          [350.8409,   0.0000,  58.5000],\n",
       "          [359.0000,   0.0000,  58.5000]],\n",
       "\n",
       "         [[  0.0000,   8.4667,  58.5000],\n",
       "          [  8.1591,   8.4667,  58.5000],\n",
       "          [ 16.3182,   8.4667,  58.5000],\n",
       "          ...,\n",
       "          [342.6818,   8.4667,  58.5000],\n",
       "          [350.8409,   8.4667,  58.5000],\n",
       "          [359.0000,   8.4667,  58.5000]],\n",
       "\n",
       "         [[  0.0000,  16.9333,  58.5000],\n",
       "          [  8.1591,  16.9333,  58.5000],\n",
       "          [ 16.3182,  16.9333,  58.5000],\n",
       "          ...,\n",
       "          [342.6818,  16.9333,  58.5000],\n",
       "          [350.8409,  16.9333,  58.5000],\n",
       "          [359.0000,  16.9333,  58.5000]],\n",
       "\n",
       "         ...,\n",
       "\n",
       "         [[  0.0000, 110.0667,  58.5000],\n",
       "          [  8.1591, 110.0667,  58.5000],\n",
       "          [ 16.3182, 110.0667,  58.5000],\n",
       "          ...,\n",
       "          [342.6818, 110.0667,  58.5000],\n",
       "          [350.8409, 110.0667,  58.5000],\n",
       "          [359.0000, 110.0667,  58.5000]],\n",
       "\n",
       "         [[  0.0000, 118.5333,  58.5000],\n",
       "          [  8.1591, 118.5333,  58.5000],\n",
       "          [ 16.3182, 118.5333,  58.5000],\n",
       "          ...,\n",
       "          [342.6818, 118.5333,  58.5000],\n",
       "          [350.8409, 118.5333,  58.5000],\n",
       "          [359.0000, 118.5333,  58.5000]],\n",
       "\n",
       "         [[  0.0000, 127.0000,  58.5000],\n",
       "          [  8.1591, 127.0000,  58.5000],\n",
       "          [ 16.3182, 127.0000,  58.5000],\n",
       "          ...,\n",
       "          [342.6818, 127.0000,  58.5000],\n",
       "          [350.8409, 127.0000,  58.5000],\n",
       "          [359.0000, 127.0000,  58.5000]]],\n",
       "\n",
       "\n",
       "        [[[  0.0000,   0.0000,  59.0000],\n",
       "          [  8.1591,   0.0000,  59.0000],\n",
       "          [ 16.3182,   0.0000,  59.0000],\n",
       "          ...,\n",
       "          [342.6818,   0.0000,  59.0000],\n",
       "          [350.8409,   0.0000,  59.0000],\n",
       "          [359.0000,   0.0000,  59.0000]],\n",
       "\n",
       "         [[  0.0000,   8.4667,  59.0000],\n",
       "          [  8.1591,   8.4667,  59.0000],\n",
       "          [ 16.3182,   8.4667,  59.0000],\n",
       "          ...,\n",
       "          [342.6818,   8.4667,  59.0000],\n",
       "          [350.8409,   8.4667,  59.0000],\n",
       "          [359.0000,   8.4667,  59.0000]],\n",
       "\n",
       "         [[  0.0000,  16.9333,  59.0000],\n",
       "          [  8.1591,  16.9333,  59.0000],\n",
       "          [ 16.3182,  16.9333,  59.0000],\n",
       "          ...,\n",
       "          [342.6818,  16.9333,  59.0000],\n",
       "          [350.8409,  16.9333,  59.0000],\n",
       "          [359.0000,  16.9333,  59.0000]],\n",
       "\n",
       "         ...,\n",
       "\n",
       "         [[  0.0000, 110.0667,  59.0000],\n",
       "          [  8.1591, 110.0667,  59.0000],\n",
       "          [ 16.3182, 110.0667,  59.0000],\n",
       "          ...,\n",
       "          [342.6818, 110.0667,  59.0000],\n",
       "          [350.8409, 110.0667,  59.0000],\n",
       "          [359.0000, 110.0667,  59.0000]],\n",
       "\n",
       "         [[  0.0000, 118.5333,  59.0000],\n",
       "          [  8.1591, 118.5333,  59.0000],\n",
       "          [ 16.3182, 118.5333,  59.0000],\n",
       "          ...,\n",
       "          [342.6818, 118.5333,  59.0000],\n",
       "          [350.8409, 118.5333,  59.0000],\n",
       "          [359.0000, 118.5333,  59.0000]],\n",
       "\n",
       "         [[  0.0000, 127.0000,  59.0000],\n",
       "          [  8.1591, 127.0000,  59.0000],\n",
       "          [ 16.3182, 127.0000,  59.0000],\n",
       "          ...,\n",
       "          [342.6818, 127.0000,  59.0000],\n",
       "          [350.8409, 127.0000,  59.0000],\n",
       "          [359.0000, 127.0000,  59.0000]]],\n",
       "\n",
       "\n",
       "        [[[  0.0000,   0.0000,  59.5000],\n",
       "          [  8.1591,   0.0000,  59.5000],\n",
       "          [ 16.3182,   0.0000,  59.5000],\n",
       "          ...,\n",
       "          [342.6818,   0.0000,  59.5000],\n",
       "          [350.8409,   0.0000,  59.5000],\n",
       "          [359.0000,   0.0000,  59.5000]],\n",
       "\n",
       "         [[  0.0000,   8.4667,  59.5000],\n",
       "          [  8.1591,   8.4667,  59.5000],\n",
       "          [ 16.3182,   8.4667,  59.5000],\n",
       "          ...,\n",
       "          [342.6818,   8.4667,  59.5000],\n",
       "          [350.8409,   8.4667,  59.5000],\n",
       "          [359.0000,   8.4667,  59.5000]],\n",
       "\n",
       "         [[  0.0000,  16.9333,  59.5000],\n",
       "          [  8.1591,  16.9333,  59.5000],\n",
       "          [ 16.3182,  16.9333,  59.5000],\n",
       "          ...,\n",
       "          [342.6818,  16.9333,  59.5000],\n",
       "          [350.8409,  16.9333,  59.5000],\n",
       "          [359.0000,  16.9333,  59.5000]],\n",
       "\n",
       "         ...,\n",
       "\n",
       "         [[  0.0000, 110.0667,  59.5000],\n",
       "          [  8.1591, 110.0667,  59.5000],\n",
       "          [ 16.3182, 110.0667,  59.5000],\n",
       "          ...,\n",
       "          [342.6818, 110.0667,  59.5000],\n",
       "          [350.8409, 110.0667,  59.5000],\n",
       "          [359.0000, 110.0667,  59.5000]],\n",
       "\n",
       "         [[  0.0000, 118.5333,  59.5000],\n",
       "          [  8.1591, 118.5333,  59.5000],\n",
       "          [ 16.3182, 118.5333,  59.5000],\n",
       "          ...,\n",
       "          [342.6818, 118.5333,  59.5000],\n",
       "          [350.8409, 118.5333,  59.5000],\n",
       "          [359.0000, 118.5333,  59.5000]],\n",
       "\n",
       "         [[  0.0000, 127.0000,  59.5000],\n",
       "          [  8.1591, 127.0000,  59.5000],\n",
       "          [ 16.3182, 127.0000,  59.5000],\n",
       "          ...,\n",
       "          [342.6818, 127.0000,  59.5000],\n",
       "          [350.8409, 127.0000,  59.5000],\n",
       "          [359.0000, 127.0000,  59.5000]]]], device='cuda:0')"
      ]
     },
     "execution_count": 23,
     "metadata": {},
     "output_type": "execute_result"
    }
   ],
   "source": [
    "model.encoders.camera.vtransform.frustum"
   ]
  },
  {
   "cell_type": "code",
   "execution_count": 26,
   "id": "e1b72f1c",
   "metadata": {
    "collapsed": true
   },
   "outputs": [
    {
     "data": {
      "text/plain": [
       "DepthLSSTransform(\n",
       "  (dtransform): Sequential(\n",
       "    (0): Conv2d(1, 8, kernel_size=(1, 1), stride=(1, 1))\n",
       "    (1): BatchNorm2d(8, eps=1e-05, momentum=0.1, affine=True, track_running_stats=True)\n",
       "    (2): ReLU(inplace=True)\n",
       "    (3): Conv2d(8, 32, kernel_size=(5, 5), stride=(4, 4), padding=(2, 2))\n",
       "    (4): BatchNorm2d(32, eps=1e-05, momentum=0.1, affine=True, track_running_stats=True)\n",
       "    (5): ReLU(inplace=True)\n",
       "    (6): Conv2d(32, 64, kernel_size=(5, 5), stride=(2, 2), padding=(2, 2))\n",
       "    (7): BatchNorm2d(64, eps=1e-05, momentum=0.1, affine=True, track_running_stats=True)\n",
       "    (8): ReLU(inplace=True)\n",
       "  )\n",
       "  (depthnet): Sequential(\n",
       "    (0): Conv2d(320, 256, kernel_size=(3, 3), stride=(1, 1), padding=(1, 1))\n",
       "    (1): BatchNorm2d(256, eps=1e-05, momentum=0.1, affine=True, track_running_stats=True)\n",
       "    (2): ReLU(inplace=True)\n",
       "    (3): Conv2d(256, 256, kernel_size=(3, 3), stride=(1, 1), padding=(1, 1))\n",
       "    (4): BatchNorm2d(256, eps=1e-05, momentum=0.1, affine=True, track_running_stats=True)\n",
       "    (5): ReLU(inplace=True)\n",
       "    (6): Conv2d(256, 198, kernel_size=(1, 1), stride=(1, 1))\n",
       "  )\n",
       "  (downsample): Sequential(\n",
       "    (0): Conv2d(80, 80, kernel_size=(3, 3), stride=(1, 1), padding=(1, 1), bias=False)\n",
       "    (1): BatchNorm2d(80, eps=1e-05, momentum=0.1, affine=True, track_running_stats=True)\n",
       "    (2): ReLU(inplace=True)\n",
       "    (3): Conv2d(80, 80, kernel_size=(3, 3), stride=(2, 2), padding=(1, 1), bias=False)\n",
       "    (4): BatchNorm2d(80, eps=1e-05, momentum=0.1, affine=True, track_running_stats=True)\n",
       "    (5): ReLU(inplace=True)\n",
       "    (6): Conv2d(80, 80, kernel_size=(3, 3), stride=(1, 1), padding=(1, 1), bias=False)\n",
       "    (7): BatchNorm2d(80, eps=1e-05, momentum=0.1, affine=True, track_running_stats=True)\n",
       "    (8): ReLU(inplace=True)\n",
       "  )\n",
       ")"
      ]
     },
     "execution_count": 26,
     "metadata": {},
     "output_type": "execute_result"
    }
   ],
   "source": [
    "model.encoders.camera.vtransform"
   ]
  },
  {
   "cell_type": "code",
   "execution_count": 8,
   "id": "85d6b5ba",
   "metadata": {},
   "outputs": [],
   "source": [
    "model = model.eval()"
   ]
  },
  {
   "cell_type": "code",
   "execution_count": 9,
   "id": "f27725bf",
   "metadata": {
    "collapsed": true
   },
   "outputs": [
    {
     "name": "stderr",
     "output_type": "stream",
     "text": [
      "  0%|                                                    | 0/81 [00:00<?, ?it/s]/usr/local/lib/python3.8/dist-packages/nuscenes/map_expansion/map_api.py:1823: ShapelyDeprecationWarning: Iteration over multi-part geometries is deprecated and will be removed in Shapely 2.0. Use the `geoms` property to access the constituent parts of a multi-part geometry.\n",
      "  exteriors = [int_coords(poly.exterior.coords) for poly in polygons]\n",
      "/usr/local/lib/python3.8/dist-packages/nuscenes/map_expansion/map_api.py:1824: ShapelyDeprecationWarning: Iteration over multi-part geometries is deprecated and will be removed in Shapely 2.0. Use the `geoms` property to access the constituent parts of a multi-part geometry.\n",
      "  interiors = [int_coords(pi.coords) for poly in polygons for pi in poly.interiors]\n",
      "/usr/local/lib/python3.8/dist-packages/nuscenes/map_expansion/map_api.py:1823: ShapelyDeprecationWarning: Iteration over multi-part geometries is deprecated and will be removed in Shapely 2.0. Use the `geoms` property to access the constituent parts of a multi-part geometry.\n",
      "  exteriors = [int_coords(poly.exterior.coords) for poly in polygons]\n",
      "/usr/local/lib/python3.8/dist-packages/nuscenes/map_expansion/map_api.py:1824: ShapelyDeprecationWarning: Iteration over multi-part geometries is deprecated and will be removed in Shapely 2.0. Use the `geoms` property to access the constituent parts of a multi-part geometry.\n",
      "  interiors = [int_coords(pi.coords) for poly in polygons for pi in poly.interiors]\n",
      "  0%|                                                    | 0/81 [00:01<?, ?it/s]\n"
     ]
    }
   ],
   "source": [
    "from tqdm import tqdm\n",
    "for data in tqdm(dataflow):\n",
    "    \"\"\"for key in data.keys():\n",
    "            if isinstance(data[key].data[0], torch.Tensor):\n",
    "                if not key.startswith('gt'):\n",
    "                    print(key, data[key].data[0].shape)\n",
    "                    data[key].data[0] = data[key].data[0][:,:4]\"\"\"\n",
    "    break"
   ]
  },
  {
   "cell_type": "code",
   "execution_count": 10,
   "id": "072f4ab8",
   "metadata": {
    "collapsed": true
   },
   "outputs": [
    {
     "ename": "AttributeError",
     "evalue": "DataContainer has no attribute size for type <class 'list'>",
     "output_type": "error",
     "traceback": [
      "\u001b[0;31m---------------------------------------------------------------------------\u001b[0m",
      "\u001b[0;31mAttributeError\u001b[0m                            Traceback (most recent call last)",
      "Input \u001b[0;32mIn [10]\u001b[0m, in \u001b[0;36m<module>\u001b[0;34m\u001b[0m\n\u001b[1;32m      1\u001b[0m \u001b[38;5;28;01mwith\u001b[39;00m torch\u001b[38;5;241m.\u001b[39mno_grad():\n\u001b[0;32m----> 2\u001b[0m     op \u001b[38;5;241m=\u001b[39m \u001b[43mmodel\u001b[49m\u001b[43m(\u001b[49m\u001b[38;5;241;43m*\u001b[39;49m\u001b[38;5;241;43m*\u001b[39;49m\u001b[43mdata\u001b[49m\u001b[43m)\u001b[49m\n",
      "File \u001b[0;32m/usr/local/lib/python3.8/dist-packages/torch/nn/modules/module.py:1102\u001b[0m, in \u001b[0;36mModule._call_impl\u001b[0;34m(self, *input, **kwargs)\u001b[0m\n\u001b[1;32m   1098\u001b[0m \u001b[38;5;66;03m# If we don't have any hooks, we want to skip the rest of the logic in\u001b[39;00m\n\u001b[1;32m   1099\u001b[0m \u001b[38;5;66;03m# this function, and just call forward.\u001b[39;00m\n\u001b[1;32m   1100\u001b[0m \u001b[38;5;28;01mif\u001b[39;00m \u001b[38;5;129;01mnot\u001b[39;00m (\u001b[38;5;28mself\u001b[39m\u001b[38;5;241m.\u001b[39m_backward_hooks \u001b[38;5;129;01mor\u001b[39;00m \u001b[38;5;28mself\u001b[39m\u001b[38;5;241m.\u001b[39m_forward_hooks \u001b[38;5;129;01mor\u001b[39;00m \u001b[38;5;28mself\u001b[39m\u001b[38;5;241m.\u001b[39m_forward_pre_hooks \u001b[38;5;129;01mor\u001b[39;00m _global_backward_hooks\n\u001b[1;32m   1101\u001b[0m         \u001b[38;5;129;01mor\u001b[39;00m _global_forward_hooks \u001b[38;5;129;01mor\u001b[39;00m _global_forward_pre_hooks):\n\u001b[0;32m-> 1102\u001b[0m     \u001b[38;5;28;01mreturn\u001b[39;00m \u001b[43mforward_call\u001b[49m\u001b[43m(\u001b[49m\u001b[38;5;241;43m*\u001b[39;49m\u001b[38;5;28;43minput\u001b[39;49m\u001b[43m,\u001b[49m\u001b[43m \u001b[49m\u001b[38;5;241;43m*\u001b[39;49m\u001b[38;5;241;43m*\u001b[39;49m\u001b[43mkwargs\u001b[49m\u001b[43m)\u001b[49m\n\u001b[1;32m   1103\u001b[0m \u001b[38;5;66;03m# Do not call functions when jit is used\u001b[39;00m\n\u001b[1;32m   1104\u001b[0m full_backward_hooks, non_full_backward_hooks \u001b[38;5;241m=\u001b[39m [], []\n",
      "File \u001b[0;32m/usr/local/lib/python3.8/dist-packages/mmcv/runner/fp16_utils.py:98\u001b[0m, in \u001b[0;36mauto_fp16.<locals>.auto_fp16_wrapper.<locals>.new_func\u001b[0;34m(*args, **kwargs)\u001b[0m\n\u001b[1;32m     95\u001b[0m     \u001b[38;5;28;01mraise\u001b[39;00m \u001b[38;5;167;01mTypeError\u001b[39;00m(\u001b[38;5;124m'\u001b[39m\u001b[38;5;124m@auto_fp16 can only be used to decorate the \u001b[39m\u001b[38;5;124m'\u001b[39m\n\u001b[1;32m     96\u001b[0m                     \u001b[38;5;124m'\u001b[39m\u001b[38;5;124mmethod of nn.Module\u001b[39m\u001b[38;5;124m'\u001b[39m)\n\u001b[1;32m     97\u001b[0m \u001b[38;5;28;01mif\u001b[39;00m \u001b[38;5;129;01mnot\u001b[39;00m (\u001b[38;5;28mhasattr\u001b[39m(args[\u001b[38;5;241m0\u001b[39m], \u001b[38;5;124m'\u001b[39m\u001b[38;5;124mfp16_enabled\u001b[39m\u001b[38;5;124m'\u001b[39m) \u001b[38;5;129;01mand\u001b[39;00m args[\u001b[38;5;241m0\u001b[39m]\u001b[38;5;241m.\u001b[39mfp16_enabled):\n\u001b[0;32m---> 98\u001b[0m     \u001b[38;5;28;01mreturn\u001b[39;00m \u001b[43mold_func\u001b[49m\u001b[43m(\u001b[49m\u001b[38;5;241;43m*\u001b[39;49m\u001b[43margs\u001b[49m\u001b[43m,\u001b[49m\u001b[43m \u001b[49m\u001b[38;5;241;43m*\u001b[39;49m\u001b[38;5;241;43m*\u001b[39;49m\u001b[43mkwargs\u001b[49m\u001b[43m)\u001b[49m\n\u001b[1;32m    100\u001b[0m \u001b[38;5;66;03m# get the arg spec of the decorated method\u001b[39;00m\n\u001b[1;32m    101\u001b[0m args_info \u001b[38;5;241m=\u001b[39m getfullargspec(old_func)\n",
      "File \u001b[0;32m/workspace/catkin_ws_devel/src/conav_perception/conav_bev_detection/src/bevfusion/mmdet3d/models/fusion_models/bevfusion.py:172\u001b[0m, in \u001b[0;36mBEVFusion.forward\u001b[0;34m(self, img, points, camera2ego, lidar2ego, lidar2camera, lidar2image, camera_intrinsics, img_aug_matrix, lidar_aug_matrix, metas, gt_masks_bev, gt_bboxes_3d, gt_labels_3d, **kwargs)\u001b[0m\n\u001b[1;32m    170\u001b[0m \u001b[38;5;28;01mfor\u001b[39;00m sensor \u001b[38;5;129;01min\u001b[39;00m sensors:\n\u001b[1;32m    171\u001b[0m     \u001b[38;5;28;01mif\u001b[39;00m sensor \u001b[38;5;241m==\u001b[39m \u001b[38;5;124m\"\u001b[39m\u001b[38;5;124mcamera\u001b[39m\u001b[38;5;124m\"\u001b[39m:\n\u001b[0;32m--> 172\u001b[0m         feature \u001b[38;5;241m=\u001b[39m \u001b[38;5;28;43mself\u001b[39;49m\u001b[38;5;241;43m.\u001b[39;49m\u001b[43mextract_camera_features\u001b[49m\u001b[43m(\u001b[49m\n\u001b[1;32m    173\u001b[0m \u001b[43m            \u001b[49m\u001b[43mimg\u001b[49m\u001b[43m,\u001b[49m\n\u001b[1;32m    174\u001b[0m \u001b[43m            \u001b[49m\u001b[43mpoints\u001b[49m\u001b[43m,\u001b[49m\n\u001b[1;32m    175\u001b[0m \u001b[43m            \u001b[49m\u001b[43mcamera2ego\u001b[49m\u001b[43m,\u001b[49m\n\u001b[1;32m    176\u001b[0m \u001b[43m            \u001b[49m\u001b[43mlidar2ego\u001b[49m\u001b[43m,\u001b[49m\n\u001b[1;32m    177\u001b[0m \u001b[43m            \u001b[49m\u001b[43mlidar2camera\u001b[49m\u001b[43m,\u001b[49m\n\u001b[1;32m    178\u001b[0m \u001b[43m            \u001b[49m\u001b[43mlidar2image\u001b[49m\u001b[43m,\u001b[49m\n\u001b[1;32m    179\u001b[0m \u001b[43m            \u001b[49m\u001b[43mcamera_intrinsics\u001b[49m\u001b[43m,\u001b[49m\n\u001b[1;32m    180\u001b[0m \u001b[43m            \u001b[49m\u001b[43mimg_aug_matrix\u001b[49m\u001b[43m,\u001b[49m\n\u001b[1;32m    181\u001b[0m \u001b[43m            \u001b[49m\u001b[43mlidar_aug_matrix\u001b[49m\u001b[43m,\u001b[49m\n\u001b[1;32m    182\u001b[0m \u001b[43m            \u001b[49m\u001b[43mmetas\u001b[49m\u001b[43m,\u001b[49m\n\u001b[1;32m    183\u001b[0m \u001b[43m        \u001b[49m\u001b[43m)\u001b[49m\n\u001b[1;32m    184\u001b[0m         \u001b[38;5;28mprint\u001b[39m(\u001b[38;5;124m'\u001b[39m\u001b[38;5;124mcamera featuress extracted\u001b[39m\u001b[38;5;124m'\u001b[39m)\n\u001b[1;32m    185\u001b[0m     \u001b[38;5;28;01melif\u001b[39;00m sensor \u001b[38;5;241m==\u001b[39m \u001b[38;5;124m\"\u001b[39m\u001b[38;5;124mlidar\u001b[39m\u001b[38;5;124m\"\u001b[39m:\n",
      "File \u001b[0;32m/workspace/catkin_ws_devel/src/conav_perception/conav_bev_detection/src/bevfusion/mmdet3d/models/fusion_models/bevfusion.py:98\u001b[0m, in \u001b[0;36mBEVFusion.extract_camera_features\u001b[0;34m(self, x, points, camera2ego, lidar2ego, lidar2camera, lidar2image, camera_intrinsics, img_aug_matrix, lidar_aug_matrix, img_metas)\u001b[0m\n\u001b[1;32m     85\u001b[0m \u001b[38;5;28;01mdef\u001b[39;00m \u001b[38;5;21mextract_camera_features\u001b[39m(\n\u001b[1;32m     86\u001b[0m     \u001b[38;5;28mself\u001b[39m,\n\u001b[1;32m     87\u001b[0m     x,\n\u001b[0;32m   (...)\u001b[0m\n\u001b[1;32m     96\u001b[0m     img_metas,\n\u001b[1;32m     97\u001b[0m ) \u001b[38;5;241m-\u001b[39m\u001b[38;5;241m>\u001b[39m torch\u001b[38;5;241m.\u001b[39mTensor:\n\u001b[0;32m---> 98\u001b[0m     B, N, C, H, W \u001b[38;5;241m=\u001b[39m \u001b[43mx\u001b[49m\u001b[38;5;241;43m.\u001b[39;49m\u001b[43msize\u001b[49m\u001b[43m(\u001b[49m\u001b[43m)\u001b[49m\n\u001b[1;32m     99\u001b[0m     x \u001b[38;5;241m=\u001b[39m x\u001b[38;5;241m.\u001b[39mview(B \u001b[38;5;241m*\u001b[39m N, C, H, W)\n\u001b[1;32m    101\u001b[0m     x \u001b[38;5;241m=\u001b[39m \u001b[38;5;28mself\u001b[39m\u001b[38;5;241m.\u001b[39mencoders[\u001b[38;5;124m\"\u001b[39m\u001b[38;5;124mcamera\u001b[39m\u001b[38;5;124m\"\u001b[39m][\u001b[38;5;124m\"\u001b[39m\u001b[38;5;124mbackbone\u001b[39m\u001b[38;5;124m\"\u001b[39m](x)\n",
      "File \u001b[0;32m/usr/local/lib/python3.8/dist-packages/mmcv/parallel/data_container.py:12\u001b[0m, in \u001b[0;36massert_tensor_type.<locals>.wrapper\u001b[0;34m(*args, **kwargs)\u001b[0m\n\u001b[1;32m      9\u001b[0m \u001b[38;5;129m@functools\u001b[39m\u001b[38;5;241m.\u001b[39mwraps(func)\n\u001b[1;32m     10\u001b[0m \u001b[38;5;28;01mdef\u001b[39;00m \u001b[38;5;21mwrapper\u001b[39m(\u001b[38;5;241m*\u001b[39margs, \u001b[38;5;241m*\u001b[39m\u001b[38;5;241m*\u001b[39mkwargs):\n\u001b[1;32m     11\u001b[0m     \u001b[38;5;28;01mif\u001b[39;00m \u001b[38;5;129;01mnot\u001b[39;00m \u001b[38;5;28misinstance\u001b[39m(args[\u001b[38;5;241m0\u001b[39m]\u001b[38;5;241m.\u001b[39mdata, torch\u001b[38;5;241m.\u001b[39mTensor):\n\u001b[0;32m---> 12\u001b[0m         \u001b[38;5;28;01mraise\u001b[39;00m \u001b[38;5;167;01mAttributeError\u001b[39;00m(\n\u001b[1;32m     13\u001b[0m             \u001b[38;5;124mf\u001b[39m\u001b[38;5;124m'\u001b[39m\u001b[38;5;132;01m{\u001b[39;00margs[\u001b[38;5;241m0\u001b[39m]\u001b[38;5;241m.\u001b[39m\u001b[38;5;18m__class__\u001b[39m\u001b[38;5;241m.\u001b[39m\u001b[38;5;18m__name__\u001b[39m\u001b[38;5;132;01m}\u001b[39;00m\u001b[38;5;124m has no attribute \u001b[39m\u001b[38;5;124m'\u001b[39m\n\u001b[1;32m     14\u001b[0m             \u001b[38;5;124mf\u001b[39m\u001b[38;5;124m'\u001b[39m\u001b[38;5;132;01m{\u001b[39;00mfunc\u001b[38;5;241m.\u001b[39m\u001b[38;5;18m__name__\u001b[39m\u001b[38;5;132;01m}\u001b[39;00m\u001b[38;5;124m for type \u001b[39m\u001b[38;5;132;01m{\u001b[39;00margs[\u001b[38;5;241m0\u001b[39m]\u001b[38;5;241m.\u001b[39mdatatype\u001b[38;5;132;01m}\u001b[39;00m\u001b[38;5;124m'\u001b[39m)\n\u001b[1;32m     15\u001b[0m     \u001b[38;5;28;01mreturn\u001b[39;00m func(\u001b[38;5;241m*\u001b[39margs, \u001b[38;5;241m*\u001b[39m\u001b[38;5;241m*\u001b[39mkwargs)\n",
      "\u001b[0;31mAttributeError\u001b[0m: DataContainer has no attribute size for type <class 'list'>"
     ]
    }
   ],
   "source": [
    "with torch.no_grad():\n",
    "    op = model(**data)"
   ]
  },
  {
   "cell_type": "code",
   "execution_count": 14,
   "id": "a1bd47e8",
   "metadata": {},
   "outputs": [
    {
     "data": {
      "text/plain": [
       "{'stats/object/loss_heatmap': tensor(4.2321, device='cuda:0'),\n",
       " 'stats/object/layer_-1_loss_cls': tensor(0.5990, device='cuda:0'),\n",
       " 'stats/object/layer_-1_loss_bbox': tensor(6.9312, device='cuda:0'),\n",
       " 'stats/object/matched_ious': tensor(0.0440, device='cuda:0')}"
      ]
     },
     "execution_count": 14,
     "metadata": {},
     "output_type": "execute_result"
    }
   ],
   "source": [
    "op"
   ]
  },
  {
   "cell_type": "code",
   "execution_count": 14,
   "id": "8b13296e",
   "metadata": {},
   "outputs": [
    {
     "data": {
      "text/plain": [
       "<bound method Module.bfloat16 of SubMConv3d()>"
      ]
     },
     "execution_count": 14,
     "metadata": {},
     "output_type": "execute_result"
    }
   ],
   "source": [
    "model.module.encoders['lidar'].backbone.encoder_layers.encoder_layer1[0].conv1.bfloat16"
   ]
  },
  {
   "cell_type": "code",
   "execution_count": 12,
   "id": "d0d74858",
   "metadata": {},
   "outputs": [
    {
     "name": "stderr",
     "output_type": "stream",
     "text": [
      "2022-08-08 17:57:32,796 - mmdet - INFO - load checkpoint from local path: pretrained/swin_tiny_patch4_window7_224.pth\n"
     ]
    },
    {
     "name": "stdout",
     "output_type": "stream",
     "text": [
      "load checkpoint from local path: pretrained/bevfusion-det.pth\n",
      "The model and loaded state dict do not match exactly\n",
      "\n",
      "size mismatch for encoders.camera.vtransform.frustum: copying a param with shape torch.Size([118, 32, 88, 3]) from checkpoint, the shape in current model is torch.Size([118, 16, 45, 3]).\n"
     ]
    }
   ],
   "source": [
    "model = build_model(cfg.model)\n",
    "sd = load_checkpoint(model, checkpoint, map_location=\"cpu\")\n",
    "#wrap_fp16_model(model)\n",
    "#model = model.to('cuda')\n",
    "model = MMDataParallel(\n",
    "            model.cuda(),\n",
    "            device_ids=[torch.cuda.current_device()],\n",
    "        )"
   ]
  },
  {
   "cell_type": "code",
   "execution_count": 15,
   "id": "0c7e80bc",
   "metadata": {},
   "outputs": [
    {
     "name": "stderr",
     "output_type": "stream",
     "text": [
      "  0%|                                                                                                                                                                                  | 0/81 [00:00<?, ?it/s]/usr/local/lib/python3.8/dist-packages/nuscenes/map_expansion/map_api.py:1823: ShapelyDeprecationWarning: Iteration over multi-part geometries is deprecated and will be removed in Shapely 2.0. Use the `geoms` property to access the constituent parts of a multi-part geometry.\n",
      "  exteriors = [int_coords(poly.exterior.coords) for poly in polygons]\n",
      "/usr/local/lib/python3.8/dist-packages/nuscenes/map_expansion/map_api.py:1824: ShapelyDeprecationWarning: Iteration over multi-part geometries is deprecated and will be removed in Shapely 2.0. Use the `geoms` property to access the constituent parts of a multi-part geometry.\n",
      "  interiors = [int_coords(pi.coords) for poly in polygons for pi in poly.interiors]\n",
      "/usr/local/lib/python3.8/dist-packages/nuscenes/map_expansion/map_api.py:1823: ShapelyDeprecationWarning: Iteration over multi-part geometries is deprecated and will be removed in Shapely 2.0. Use the `geoms` property to access the constituent parts of a multi-part geometry.\n",
      "  exteriors = [int_coords(poly.exterior.coords) for poly in polygons]\n",
      "/usr/local/lib/python3.8/dist-packages/nuscenes/map_expansion/map_api.py:1824: ShapelyDeprecationWarning: Iteration over multi-part geometries is deprecated and will be removed in Shapely 2.0. Use the `geoms` property to access the constituent parts of a multi-part geometry.\n",
      "  interiors = [int_coords(pi.coords) for poly in polygons for pi in poly.interiors]\n",
      "  0%|                                                                                                                                                                                  | 0/81 [00:01<?, ?it/s]\n"
     ]
    }
   ],
   "source": [
    "from tqdm import tqdm\n",
    "for data in tqdm(dataflow):\n",
    "    \"\"\"for key in data.keys():\n",
    "            if isinstance(data[key].data[0], torch.Tensor):\n",
    "                if not key.startswith('gt'):\n",
    "                    print(key, data[key].data[0].shape)\n",
    "                    data[key].data[0] = data[key].data[0][:,:4]\"\"\"\n",
    "    break"
   ]
  },
  {
   "cell_type": "code",
   "execution_count": 16,
   "id": "57dc0e89",
   "metadata": {},
   "outputs": [
    {
     "name": "stdout",
     "output_type": "stream",
     "text": [
      "lidar featuress extracted\n",
      "[128, 360]\n",
      "camera featuress extracted\n"
     ]
    }
   ],
   "source": [
    "model = model.eval()\n",
    "with torch.inference_mode():\n",
    "    op = model(**data)"
   ]
  },
  {
   "cell_type": "code",
   "execution_count": 19,
   "id": "09d43a3a",
   "metadata": {
    "collapsed": true
   },
   "outputs": [
    {
     "data": {
      "text/plain": [
       "tensor([[-5.7437e+00,  6.3812e+00, -2.5997e+00],\n",
       "        [-5.1823e+00,  8.8124e+00, -2.2661e+00],\n",
       "        [ 6.1482e-01, -1.9569e+01, -1.4872e+00],\n",
       "        [-4.1648e-01, -1.7927e+01, -2.4257e+00],\n",
       "        [-9.5414e+00,  7.8801e-01, -1.1570e+00],\n",
       "        [-9.5050e+00,  1.9483e+00, -1.2074e+00],\n",
       "        [-6.4013e+00,  6.3365e+00, -1.7546e+00],\n",
       "        [-6.1581e+00,  3.2099e+01, -2.3964e-02],\n",
       "        [-6.2377e+00,  5.3622e+01,  2.8905e-01],\n",
       "        [ 9.0829e+00, -5.6738e+00,  5.9229e-02],\n",
       "        [ 5.8179e+00,  1.7086e+01, -1.1511e+00],\n",
       "        [-5.7589e+00, -5.6633e+00, -2.9378e+00],\n",
       "        [-7.3706e-01, -1.7831e+01, -1.6173e+00],\n",
       "        [-1.0719e+01, -5.5927e+00, -1.0708e+00],\n",
       "        [ 5.1826e+00, -6.4060e+00, -9.4386e-01],\n",
       "        [ 5.1371e+00, -5.1961e+00, -9.1201e-01],\n",
       "        [-4.7206e+00,  8.8437e+00, -1.8410e+00],\n",
       "        [ 5.1229e+00, -5.1577e+00, -9.7169e-01],\n",
       "        [ 2.8162e+00,  2.4307e+00, -1.9742e+00],\n",
       "        [ 1.0505e+00,  6.7921e-01, -6.3047e-01],\n",
       "        [-2.5490e+00, -2.1917e+01, -2.3698e+00],\n",
       "        [ 4.5930e+00, -5.1497e+00, -1.7081e+00],\n",
       "        [-6.1320e+00,  3.2154e+01,  1.8951e-01],\n",
       "        [-2.7881e+01,  8.8283e+00, -2.2153e+00],\n",
       "        [-6.9463e+00,  5.0032e+01,  1.3462e-01],\n",
       "        [-8.6192e+00, -1.2275e+01, -2.1595e+00],\n",
       "        [ 2.7981e+00,  1.8388e+00, -1.8473e+00],\n",
       "        [ 8.2518e+00,  1.2249e+01, -5.9132e-01],\n",
       "        [-1.4759e+01,  4.3575e+01, -3.3932e-01],\n",
       "        [-7.6569e-01, -1.8200e+01, -1.1102e+00],\n",
       "        [-3.9840e+00, -2.1340e+01, -1.8364e+00],\n",
       "        [-5.7642e+00,  3.2050e+01,  4.7507e-02],\n",
       "        [ 5.0566e+00, -5.1336e+01, -1.8305e+00],\n",
       "        [ 3.0812e-01,  8.2904e+00, -1.0957e+00],\n",
       "        [ 2.7780e+00,  2.7101e+00, -2.4336e+00],\n",
       "        [-7.9845e+00, -2.3685e+01, -1.4351e+00],\n",
       "        [-2.5298e+00, -2.1995e+01, -2.6800e+00],\n",
       "        [-6.3949e+00,  5.3681e+01,  6.5011e-01],\n",
       "        [-7.9942e+00, -1.7100e+01, -1.5611e+00],\n",
       "        [ 4.6063e+00, -5.1257e+01, -1.9798e+00],\n",
       "        [ 6.8919e+00, -2.3222e+00, -6.0988e-01],\n",
       "        [ 5.0929e+00, -5.1322e+01, -1.7669e+00],\n",
       "        [ 4.5360e+00,  2.9853e+00, -1.7486e+00],\n",
       "        [ 1.1327e+01,  4.0402e+01, -4.5980e-01],\n",
       "        [ 2.7792e+00,  3.0497e-01, -1.9784e+00],\n",
       "        [ 1.7152e+01,  5.3771e+01,  2.0960e-01],\n",
       "        [-1.0314e+00, -6.6993e+00, -1.4603e+00],\n",
       "        [-4.6465e+00, -5.6676e+00, -2.4600e+00],\n",
       "        [-2.0777e+00, -3.2793e+01, -2.2251e+00],\n",
       "        [-1.5839e+01,  4.3614e+01, -1.3727e-01],\n",
       "        [-4.2331e+00, -2.3585e+01, -2.0210e+00],\n",
       "        [-8.0381e+00, -1.8852e+01, -1.3326e+00],\n",
       "        [ 4.5383e+00, -3.3397e+00, -1.6954e+00],\n",
       "        [ 6.3022e+00,  1.7055e+01, -5.0091e-01],\n",
       "        [ 7.8844e+00, -2.6576e+00, -3.5706e-01],\n",
       "        [-6.2036e+00,  5.3614e+01, -3.6866e-01],\n",
       "        [-6.7763e+00,  8.6436e+00, -1.5773e+00],\n",
       "        [ 8.7622e+00,  1.2185e+01, -5.5404e-01],\n",
       "        [ 1.6974e+01,  5.3732e+01,  4.9575e-01],\n",
       "        [-4.1561e+01,  3.2680e+01, -1.3674e+00],\n",
       "        [ 4.6399e+00,  9.7669e-01, -1.5025e+00],\n",
       "        [-8.0222e+00, -1.8298e+01, -1.3550e+00],\n",
       "        [ 3.2905e+00,  1.5793e+00, -2.3931e+00],\n",
       "        [ 3.2269e-01, -1.8183e+01, -1.1946e+00],\n",
       "        [-3.8138e+00,  3.3134e+01,  1.9845e-01],\n",
       "        [ 8.4769e-01,  1.1929e+00,  1.5893e-01],\n",
       "        [ 4.5930e+00, -5.1700e+00, -1.7164e+00],\n",
       "        [ 3.5203e-01,  2.5817e-01, -7.9562e-01],\n",
       "        [-5.9321e+00,  8.2341e+00, -5.3700e-01],\n",
       "        [-3.2545e+01,  3.0303e+01, -1.7114e+00],\n",
       "        [ 7.9423e+00, -3.5108e+00,  3.9928e-01],\n",
       "        [ 4.2348e+00,  1.9073e+00, -1.0800e+00],\n",
       "        [ 3.7152e+00,  6.2838e-01, -1.9124e+00],\n",
       "        [-6.4968e+00,  5.1779e+01,  1.5079e-01],\n",
       "        [-2.7226e+01,  1.6597e+01, -2.5414e+00],\n",
       "        [ 3.2827e+00,  2.6988e+00, -2.5516e+00],\n",
       "        [-3.2971e+00, -2.7594e+00, -2.6217e+00],\n",
       "        [-3.9705e+00, -2.1298e+01, -1.8788e+00],\n",
       "        [ 6.4100e+00, -3.3768e-01, -1.0968e+00],\n",
       "        [ 9.5738e+00, -6.8382e+00,  2.6574e-01],\n",
       "        [-7.1750e+00, -6.2915e-01, -1.7207e+00],\n",
       "        [-3.9753e+00,  5.2782e+01,  7.8991e-01],\n",
       "        [-9.9882e-01,  8.2879e+00, -1.1651e+00],\n",
       "        [ 4.5979e+00, -5.7726e+00, -1.6348e+00],\n",
       "        [-5.9594e+00,  3.3528e+01,  8.5739e-02],\n",
       "        [ 5.0651e+00, -3.9012e+00, -7.6846e-01],\n",
       "        [ 7.9061e+00, -1.3355e+00,  2.2016e-01],\n",
       "        [-3.9962e+00, -2.0826e+01, -2.0226e+00],\n",
       "        [-2.4360e+01,  1.7638e+01, -1.7721e+00],\n",
       "        [-7.6333e+00,  6.9478e+00, -2.4419e+00],\n",
       "        [ 8.7979e+00, -4.6450e+00,  1.0874e-01],\n",
       "        [-2.2374e+00, -2.1907e+01, -1.9282e+00],\n",
       "        [-7.3868e+00,  6.9263e+00, -1.7531e+00],\n",
       "        [ 3.9694e-01, -9.3689e-01, -8.1828e-01],\n",
       "        [-1.3548e+01,  2.1828e+01, -6.6500e-01],\n",
       "        [-1.1232e+01, -1.0022e+01, -1.2043e+00],\n",
       "        [ 4.7433e+00,  5.2212e+00, -6.3751e-01],\n",
       "        [ 9.2186e-01, -5.6778e+00, -2.4967e+00],\n",
       "        [-5.3697e+01, -5.4103e+01, -7.2302e-01],\n",
       "        [-2.6747e+01,  1.3411e+01, -2.1971e+00],\n",
       "        [ 5.1047e+00, -4.5287e+00, -2.0209e+00],\n",
       "        [ 1.6510e-01, -3.5225e+01,  5.4699e-01],\n",
       "        [ 6.2861e+00,  6.3786e-01, -6.4929e-01],\n",
       "        [ 3.4345e+00, -4.3555e-01, -1.4271e+00],\n",
       "        [ 5.6490e+00,  1.4013e+01, -1.1941e+00],\n",
       "        [-1.1091e+01,  6.2862e+00, -1.2138e+00],\n",
       "        [ 5.0984e+00, -2.7038e+00, -1.0664e+00],\n",
       "        [ 3.6342e+01,  1.1593e+01, -9.5233e-01],\n",
       "        [-7.5107e+00,  6.9901e+00, -2.3881e+00],\n",
       "        [-3.2550e+01,  3.0806e+01, -1.8450e+00],\n",
       "        [ 5.3892e+01, -5.4097e+01, -4.4958e-01],\n",
       "        [-1.0637e+01,  2.0376e+00, -1.9632e+00],\n",
       "        [-6.1966e+00,  7.4695e+00, -9.1050e-01],\n",
       "        [ 4.0653e+00,  1.3904e+00, -2.0622e+00],\n",
       "        [-7.5279e+00,  5.2144e+00, -2.5231e+00],\n",
       "        [-6.2128e+00,  8.6151e+00, -1.4519e+00],\n",
       "        [-1.0965e+01,  8.6554e+00, -1.3650e+00],\n",
       "        [-6.4046e+00, -1.7374e+01, -9.7674e-01],\n",
       "        [ 7.6303e+00, -5.3128e+01, -1.5663e+00],\n",
       "        [ 5.2477e+00,  1.4074e+01, -8.5384e-01],\n",
       "        [-6.9124e+00,  3.9383e+00, -2.4519e+00],\n",
       "        [-8.3634e+00, -1.1031e+01, -4.8796e-01],\n",
       "        [-2.6611e+01,  1.7012e+01, -2.5568e+00],\n",
       "        [ 3.4486e+00,  7.4076e-01, -1.5349e+00],\n",
       "        [-1.1060e+01,  7.4529e+00, -6.7455e-01],\n",
       "        [-3.9357e+01,  1.9387e+01, -1.6855e+00],\n",
       "        [-3.3122e+01,  2.9614e+01, -1.6611e+00],\n",
       "        [-6.7786e+00, -1.1595e+01, -2.0612e-01],\n",
       "        [ 7.5598e+00,  1.7553e+01, -3.9786e-01],\n",
       "        [ 7.6992e+00,  8.6852e+00, -4.4128e-01],\n",
       "        [-7.3919e+00,  7.4941e+00, -1.6478e+00],\n",
       "        [ 7.5428e+00, -4.5861e+01, -1.5762e+00],\n",
       "        [ 2.3909e+00,  5.7314e-01,  1.9304e-01],\n",
       "        [-8.5888e+00, -1.2302e+01, -2.2221e+00],\n",
       "        [-7.4650e+00,  9.8638e+00, -1.5937e+00],\n",
       "        [-8.0164e+00, -1.1636e+01, -1.5883e+00],\n",
       "        [ 4.8805e+00, -3.8656e+00, -1.3058e+00],\n",
       "        [-8.1002e+00, -2.3590e+01, -2.4787e+00],\n",
       "        [ 9.5996e+00, -6.5287e+00, -7.2113e-02],\n",
       "        [ 4.5346e+00, -2.1446e+00, -1.5054e+00],\n",
       "        [-2.7728e+01,  1.6913e+01, -3.2508e+00],\n",
       "        [-7.9535e+00,  9.4155e+00, -1.9886e+00],\n",
       "        [ 5.1703e+00, -6.3834e+00, -1.3084e+00],\n",
       "        [-2.6009e+00, -2.1872e+01, -1.6203e+00],\n",
       "        [ 2.6949e+00, -1.7313e+01,  2.8818e-01],\n",
       "        [-1.2123e+01,  7.4443e+00, -5.1306e-01],\n",
       "        [-5.6883e+00,  9.3170e+00, -1.9759e+00],\n",
       "        [-1.0419e+01,  1.4656e+01, -9.1180e-01],\n",
       "        [ 8.4829e+00, -4.4890e+00,  1.8197e-01],\n",
       "        [ 4.1704e+00, -2.1504e+00, -1.3265e+00],\n",
       "        [ 5.1065e+00, -3.9581e+00, -8.6971e-01],\n",
       "        [-5.6669e+00,  6.8159e+00, -5.7626e-02],\n",
       "        [-7.3774e+00,  8.6948e+00, -1.6814e+00],\n",
       "        [-1.4059e+01,  2.1795e+01, -6.3595e-01],\n",
       "        [ 2.1139e+00,  3.5157e+00, -2.2746e+00],\n",
       "        [-7.9131e+00,  6.8817e+00, -1.3162e+00],\n",
       "        [-3.2761e+01,  2.9768e+01, -1.4168e+00],\n",
       "        [-5.3054e+00,  6.6447e+00,  4.5718e-01],\n",
       "        [ 1.5912e-01,  1.6226e+00, -3.8057e-02],\n",
       "        [ 4.0066e+00, -3.2680e+00, -1.4249e+00],\n",
       "        [-1.1101e+01, -2.7614e-01, -1.3176e+00],\n",
       "        [ 4.2330e+00,  4.6256e-01, -1.4628e+00],\n",
       "        [ 3.3378e+00,  4.0060e-01, -1.2613e+00],\n",
       "        [ 1.0593e+00, -8.0258e-01, -4.5255e-01],\n",
       "        [-8.0404e+00, -2.3618e+01, -2.4471e+00],\n",
       "        [-1.1047e+01,  6.2009e+00, -1.0828e+00],\n",
       "        [ 4.6128e+00, -5.7106e+00, -1.6299e+00],\n",
       "        [ 2.4017e+00, -2.2406e-01,  2.4723e-01],\n",
       "        [ 9.9537e-01, -5.1302e+00, -2.6220e+00],\n",
       "        [-8.5390e+00,  2.1802e+01, -1.8214e-01],\n",
       "        [-5.6635e+00,  1.0529e+01, -2.0813e+00],\n",
       "        [ 5.0773e+00, -5.1913e+01, -1.7944e+00],\n",
       "        [ 1.4890e+00, -5.0852e+00, -2.3392e+00],\n",
       "        [-7.4632e+00,  7.0622e+00, -1.8469e+00],\n",
       "        [-5.6520e+00,  3.3114e+01, -1.1723e-01],\n",
       "        [ 3.8643e-01, -5.7260e+00, -2.1678e+00],\n",
       "        [ 5.1069e+00, -5.1440e+00, -1.5444e+00],\n",
       "        [ 5.2294e+00,  1.4052e+01, -9.5923e-01],\n",
       "        [ 4.5195e+00,  3.7905e-01, -1.6160e+00],\n",
       "        [-1.0969e+01,  8.7443e+00, -7.2378e-01],\n",
       "        [-1.0447e+01,  6.8285e+00, -6.6750e-01],\n",
       "        [ 3.0990e-01,  1.6979e+01, -8.6600e-01],\n",
       "        [-3.9705e+00, -2.0838e+01, -1.9252e+00],\n",
       "        [-4.2332e+00, -2.0784e+01, -1.5122e+00],\n",
       "        [-1.0436e+01,  7.4404e+00, -7.5111e-01],\n",
       "        [-7.5793e+00,  5.3286e+01,  6.2324e-01],\n",
       "        [-4.8289e+00, -2.6039e+00, -2.1722e+00],\n",
       "        [-8.6096e+00, -1.1134e+01, -2.5251e+00],\n",
       "        [-7.3714e+00,  5.6854e+00, -1.9469e+00],\n",
       "        [-5.6677e+00,  6.2257e+00, -1.2468e+00],\n",
       "        [-1.8765e-01, -6.1178e+00, -1.2755e+00],\n",
       "        [-5.7165e+00,  6.2458e+00,  1.1979e-01],\n",
       "        [-4.1510e+01,  3.2726e+01, -1.4745e+00],\n",
       "        [-7.4479e+00,  5.7351e+00, -8.5244e-01],\n",
       "        [-1.0436e+01,  8.0346e+00, -9.9028e-01],\n",
       "        [-7.9189e+00, -1.0601e+01, -1.0201e+00],\n",
       "        [ 7.5432e+00,  1.7081e+01, -2.4978e-01],\n",
       "        [-1.1067e+01, -2.7728e-01, -1.4883e+00],\n",
       "        [-8.6175e+00, -1.8883e+01, -1.3853e+00],\n",
       "        [-1.1542e+01,  7.4380e+00, -4.0616e-01]])"
      ]
     },
     "execution_count": 19,
     "metadata": {},
     "output_type": "execute_result"
    }
   ],
   "source": [
    "op[0]['boxes_3d'].center"
   ]
  },
  {
   "cell_type": "code",
   "execution_count": 17,
   "id": "a1b6b0c5",
   "metadata": {
    "collapsed": true
   },
   "outputs": [
    {
     "data": {
      "text/plain": [
       "[{'boxes_3d': LiDARInstance3DBoxes(\n",
       "      tensor([[-5.7437e+00,  6.3812e+00, -2.5997e+00,  ..., -2.3723e+00,\n",
       "            1.0003e-01,  2.7994e-01],\n",
       "          [-5.1823e+00,  8.8124e+00, -2.2661e+00,  ..., -2.4272e+00,\n",
       "            1.6967e-02,  1.6725e-01],\n",
       "          [ 6.1482e-01, -1.9569e+01, -1.4872e+00,  ..., -2.4025e+00,\n",
       "           -1.7416e-01, -3.4264e-01],\n",
       "          ...,\n",
       "          [-1.1067e+01, -2.7728e-01, -1.4883e+00,  ...,  2.8130e+00,\n",
       "           -3.6019e-01, -2.5236e-01],\n",
       "          [-8.6175e+00, -1.8883e+01, -1.3853e+00,  ..., -2.1663e+00,\n",
       "           -5.1443e-04, -2.3917e-03],\n",
       "          [-1.1542e+01,  7.4380e+00, -4.0616e-01,  ...,  2.2316e+00,\n",
       "           -4.8096e-04, -2.8448e-03]])),\n",
       "  'scores_3d': tensor([5.5366e-03, 1.8386e-03, 4.6990e-07, 1.0725e-03, 5.6083e-04, 5.7997e-04,\n",
       "          1.2708e-03, 8.6969e-04, 6.5436e-04, 1.0384e-05, 4.8818e-04, 5.8379e-04,\n",
       "          3.6558e-04, 5.0699e-04, 5.3108e-04, 3.4859e-04, 3.6513e-04, 2.8120e-04,\n",
       "          1.5266e-04, 4.6069e-07, 3.0434e-04, 2.1322e-04, 1.6562e-04, 3.7397e-04,\n",
       "          3.6976e-04, 2.6808e-04, 1.6253e-04, 6.2502e-04, 4.2165e-04, 1.5612e-04,\n",
       "          2.8622e-04, 3.1715e-04, 4.6272e-04, 3.0909e-04, 2.6530e-04, 1.5261e-04,\n",
       "          4.5828e-04, 7.5369e-05, 3.3724e-04, 4.3198e-04, 6.7935e-07, 2.5290e-04,\n",
       "          1.4903e-06, 3.3025e-04, 2.5216e-04, 1.8521e-04, 5.6335e-04, 3.3874e-04,\n",
       "          3.9122e-04, 2.4958e-04, 9.6924e-06, 1.2244e-04, 2.5656e-04, 5.1935e-05,\n",
       "          4.5299e-07, 2.4460e-04, 6.0791e-05, 3.5560e-04, 8.6691e-05, 1.4364e-04,\n",
       "          5.8587e-06, 9.8338e-05, 1.6084e-04, 1.3330e-04, 5.5810e-06, 2.2021e-07,\n",
       "          2.0109e-04, 4.5258e-05, 7.5510e-06, 2.7150e-04, 2.4035e-07, 9.2487e-06,\n",
       "          4.4367e-05, 1.7498e-04, 1.3916e-04, 2.0259e-04, 3.8870e-04, 1.0601e-04,\n",
       "          4.7234e-04, 4.3319e-06, 3.3482e-04, 5.8608e-07, 1.4563e-04, 1.3642e-04,\n",
       "          3.9674e-06, 1.3632e-04, 1.7065e-07, 1.6829e-04, 1.3078e-04, 1.7242e-04,\n",
       "          2.4889e-07, 2.1321e-04, 7.7376e-05, 2.0868e-04, 2.0429e-04, 2.3840e-04,\n",
       "          1.8502e-07, 8.1002e-05, 1.9646e-05, 1.3895e-04, 5.5392e-04, 1.5666e-07,\n",
       "          2.0647e-07, 7.7804e-05, 2.2023e-04, 1.3850e-04, 1.3571e-04, 2.7847e-04,\n",
       "          1.5212e-04, 1.6801e-04, 5.9678e-05, 3.4341e-04, 4.3630e-05, 1.2429e-05,\n",
       "          1.4743e-04, 6.2605e-05, 7.9288e-05, 9.1852e-06, 3.2267e-07, 1.2507e-04,\n",
       "          1.6854e-04, 3.2127e-07, 1.7682e-04, 5.9532e-05, 1.6934e-05, 1.7475e-04,\n",
       "          1.1419e-04, 4.2394e-07, 1.9491e-04, 2.7953e-04, 8.7731e-05, 2.5740e-04,\n",
       "          1.0866e-07, 2.0151e-04, 2.1793e-04, 1.4981e-04, 2.4929e-05, 2.2974e-04,\n",
       "          5.1114e-06, 1.4326e-04, 1.9683e-05, 1.3941e-04, 1.6252e-04, 4.4982e-05,\n",
       "          1.1645e-07, 1.4134e-06, 1.5398e-04, 1.0946e-04, 3.5604e-06, 5.1937e-05,\n",
       "          9.9020e-05, 1.5661e-05, 7.6301e-05, 8.6078e-05, 4.1386e-05, 1.2275e-04,\n",
       "          1.5456e-04, 2.8278e-06, 9.2525e-07, 1.0854e-04, 1.2952e-04, 4.5633e-05,\n",
       "          3.5853e-05, 4.9405e-07, 3.4150e-04, 6.3480e-05, 9.8722e-05, 1.2355e-07,\n",
       "          7.4127e-05, 8.2207e-05, 1.4836e-04, 1.2786e-04, 7.8085e-05, 2.3841e-05,\n",
       "          2.9009e-04, 1.8232e-04, 1.7156e-04, 9.9596e-05, 6.2616e-05, 2.6964e-06,\n",
       "          2.1767e-05, 1.5832e-04, 1.4262e-04, 1.0888e-04, 1.4602e-05, 7.2714e-06,\n",
       "          2.3547e-04, 1.4897e-04, 5.7596e-05, 3.5683e-05, 1.3671e-06, 2.6695e-06,\n",
       "          2.0072e-04, 1.1525e-07, 5.0644e-05, 1.5903e-05, 1.4006e-04, 8.7250e-05,\n",
       "          1.5835e-04, 4.4435e-05]),\n",
       "  'labels_3d': tensor([2, 2, 8, 8, 4, 4, 4, 9, 8, 9, 7, 2, 8, 4, 9, 9, 4, 8, 8, 8, 7, 8, 7, 7,\n",
       "          5, 8, 8, 9, 5, 8, 7, 9, 8, 4, 8, 9, 5, 8, 9, 5, 8, 9, 8, 9, 7, 8, 4, 4,\n",
       "          8, 5, 8, 9, 8, 9, 8, 9, 9, 9, 8, 7, 8, 9, 8, 8, 9, 8, 9, 8, 9, 5, 8, 8,\n",
       "          8, 5, 9, 8, 5, 9, 9, 9, 2, 8, 4, 9, 9, 8, 8, 8, 7, 6, 8, 8, 9, 8, 7, 4,\n",
       "          8, 8, 8, 7, 0, 8, 8, 8, 8, 7, 8, 9, 7, 9, 8, 0, 9, 8, 7, 9, 9, 9, 8, 8,\n",
       "          7, 8, 9, 8, 9, 7, 9, 8, 9, 9, 9, 8, 8, 9, 8, 8, 9, 7, 9, 8, 9, 7, 8, 8,\n",
       "          8, 9, 7, 9, 9, 8, 9, 9, 9, 9, 8, 8, 8, 9, 8, 8, 7, 8, 8, 8, 5, 9, 8, 8,\n",
       "          8, 7, 7, 7, 8, 8, 9, 8, 7, 8, 8, 9, 9, 4, 9, 8, 9, 8, 4, 5, 9, 9, 8, 9,\n",
       "          8, 8, 9, 8, 9, 8, 9, 9], dtype=torch.int32)}]"
      ]
     },
     "execution_count": 17,
     "metadata": {},
     "output_type": "execute_result"
    }
   ],
   "source": [
    "op"
   ]
  },
  {
   "cell_type": "code",
   "execution_count": 15,
   "id": "20dab471",
   "metadata": {
    "collapsed": true
   },
   "outputs": [
    {
     "name": "stderr",
     "output_type": "stream",
     "text": [
      "  0%|                                                    | 0/81 [00:00<?, ?it/s]/usr/local/lib/python3.8/dist-packages/nuscenes/map_expansion/map_api.py:1823: ShapelyDeprecationWarning: Iteration over multi-part geometries is deprecated and will be removed in Shapely 2.0. Use the `geoms` property to access the constituent parts of a multi-part geometry.\n",
      "  exteriors = [int_coords(poly.exterior.coords) for poly in polygons]\n",
      "/usr/local/lib/python3.8/dist-packages/nuscenes/map_expansion/map_api.py:1824: ShapelyDeprecationWarning: Iteration over multi-part geometries is deprecated and will be removed in Shapely 2.0. Use the `geoms` property to access the constituent parts of a multi-part geometry.\n",
      "  interiors = [int_coords(pi.coords) for poly in polygons for pi in poly.interiors]\n",
      "/usr/local/lib/python3.8/dist-packages/nuscenes/map_expansion/map_api.py:1823: ShapelyDeprecationWarning: Iteration over multi-part geometries is deprecated and will be removed in Shapely 2.0. Use the `geoms` property to access the constituent parts of a multi-part geometry.\n",
      "  exteriors = [int_coords(poly.exterior.coords) for poly in polygons]\n",
      "/usr/local/lib/python3.8/dist-packages/nuscenes/map_expansion/map_api.py:1824: ShapelyDeprecationWarning: Iteration over multi-part geometries is deprecated and will be removed in Shapely 2.0. Use the `geoms` property to access the constituent parts of a multi-part geometry.\n",
      "  interiors = [int_coords(pi.coords) for poly in polygons for pi in poly.interiors]\n",
      "  0%|                                                    | 0/81 [00:01<?, ?it/s]\n"
     ]
    }
   ],
   "source": [
    "from tqdm import tqdm\n",
    "for data in tqdm(dataflow):\n",
    "        metas = data[\"metas\"].data[0][0]\n",
    "        name = \"{}-{}\".format(metas[\"timestamp\"], metas[\"token\"])\n",
    "        for key in data.keys():\n",
    "            data[key] = data[key].data[0]\n",
    "            if key =='points':\n",
    "                data[key][0] = data[key][0].to('cuda')\n",
    "            if isinstance(data[key], torch.Tensor):\n",
    "                data[key] = data[key].to('cuda')\n",
    "            \"\"\"if key.startswith('gt'):\n",
    "                data[key] = None\"\"\"\n",
    "        \n",
    "        break"
   ]
  },
  {
   "cell_type": "code",
   "execution_count": 21,
   "id": "1d38f25c",
   "metadata": {
    "scrolled": true
   },
   "outputs": [
    {
     "name": "stdout",
     "output_type": "stream",
     "text": [
      "[128, 360]\n",
      "camera featuress extracted\n",
      "lidar featuress extracted\n"
     ]
    }
   ],
   "source": [
    "with torch.inference_mode():\n",
    "    outputs = model(**data)"
   ]
  },
  {
   "cell_type": "code",
   "execution_count": 31,
   "id": "8d3f53a3",
   "metadata": {},
   "outputs": [],
   "source": [
    "from mmdet3d.core import LiDARInstance3DBoxes\n",
    "bboxes = outputs[0][\"boxes_3d\"].tensor.numpy()\n",
    "scores = outputs[0][\"scores_3d\"].numpy()\n",
    "labels = outputs[0][\"labels_3d\"].numpy()\n",
    "bbox_score = 0.3\n",
    "if args.bbox_classes is not None:\n",
    "    indices = np.isin(labels, args.bbox_classes)\n",
    "    bboxes = bboxes[indices]\n",
    "    scores = scores[indices]\n",
    "    labels = labels[indices]\n",
    "\n",
    "if bbox_score is not None:\n",
    "    indices = scores >= bbox_score\n",
    "    bboxes = bboxes[indices]\n",
    "    scores = scores[indices]\n",
    "    labels = labels[indices]\n",
    "\n",
    "bboxes[..., 2] -= bboxes[..., 5] / 2\n",
    "bboxes = LiDARInstance3DBoxes(bboxes, box_dim=9)"
   ]
  },
  {
   "cell_type": "code",
   "execution_count": 30,
   "id": "8ff66631",
   "metadata": {},
   "outputs": [
    {
     "ename": "NameError",
     "evalue": "name 'bbox_score' is not defined",
     "output_type": "error",
     "traceback": [
      "\u001b[0;31m---------------------------------------------------------------------------\u001b[0m",
      "\u001b[0;31mNameError\u001b[0m                                 Traceback (most recent call last)",
      "Input \u001b[0;32mIn [30]\u001b[0m, in \u001b[0;36m<module>\u001b[0;34m\u001b[0m\n\u001b[0;32m----> 1\u001b[0m \u001b[43mbbox_score\u001b[49m\n",
      "\u001b[0;31mNameError\u001b[0m: name 'bbox_score' is not defined"
     ]
    }
   ],
   "source": [
    "bbox_score"
   ]
  },
  {
   "cell_type": "code",
   "execution_count": 23,
   "id": "45bc5f2c",
   "metadata": {
    "collapsed": true
   },
   "outputs": [
    {
     "data": {
      "text/plain": [
       "LiDARInstance3DBoxes(\n",
       "    tensor([[ 5.6580e+00, -2.2935e-01, -1.6376e+00,  ..., -2.4811e+00,\n",
       "          1.4811e-01,  1.9587e-01],\n",
       "        [ 6.4855e+00, -1.5290e-01, -1.5548e+00,  ...,  3.1097e+00,\n",
       "          1.5066e-03, -1.4600e-02],\n",
       "        [ 7.5322e+00,  1.7415e+01, -1.1808e+00,  ...,  8.2848e-04,\n",
       "         -2.8021e-02, -4.4113e-01],\n",
       "        ...,\n",
       "        [ 2.3820e+01,  3.8223e+01, -4.2124e-01,  ..., -1.7480e+00,\n",
       "          5.2935e-03,  6.3262e-03],\n",
       "        [-4.5935e+01,  1.5636e+01, -2.3868e+00,  ..., -1.6260e+00,\n",
       "          1.2399e-01, -2.0970e-02],\n",
       "        [ 4.4504e+00, -3.9212e+01, -3.2324e+00,  ...,  1.3137e+00,\n",
       "          7.0493e-06,  1.1545e-06]]))"
      ]
     },
     "execution_count": 23,
     "metadata": {},
     "output_type": "execute_result"
    }
   ],
   "source": [
    "bboxes"
   ]
  },
  {
   "cell_type": "code",
   "execution_count": 24,
   "id": "1b8941ec",
   "metadata": {
    "collapsed": true
   },
   "outputs": [
    {
     "data": {
      "text/plain": [
       "[tensor([[-3.1226e+00, -4.2449e-01, -1.8768e+00,  4.0000e+00,  0.0000e+00],\n",
       "         [-3.2819e+00, -4.2313e-01, -1.8688e+00,  5.0000e+00,  0.0000e+00],\n",
       "         [-3.4933e+00, -4.2222e-01, -1.8821e+00,  6.0000e+00,  0.0000e+00],\n",
       "         ...,\n",
       "         [-7.9269e+00, -1.4184e-03, -1.6849e+00,  3.4000e+01,  0.0000e+00],\n",
       "         [-8.2272e+00,  1.4265e-03, -1.5501e+00,  2.0000e+01,  0.0000e+00],\n",
       "         [-8.5262e+00, -3.2753e-02, -1.1983e+00,  1.0000e+02,  0.0000e+00]],\n",
       "        device='cuda:0')]"
      ]
     },
     "execution_count": 24,
     "metadata": {},
     "output_type": "execute_result"
    }
   ],
   "source": [
    "data['points']"
   ]
  },
  {
   "cell_type": "code",
   "execution_count": 32,
   "id": "1023c028",
   "metadata": {},
   "outputs": [],
   "source": [
    "from mmdet3d.core.utils import visualize_camera, visualize_lidar\n",
    "lidar = data[\"points\"][0].to('cpu').numpy()\n",
    "visualize_lidar(\n",
    "    os.path.join(\"temp.png\"),\n",
    "    lidar,\n",
    "    bboxes=bboxes,\n",
    "    labels=labels,\n",
    "    xlim=[cfg.point_cloud_range[d] for d in [0, 3]],\n",
    "    ylim=[cfg.point_cloud_range[d] for d in [1, 4]],\n",
    "    classes=cfg.object_classes,\n",
    ")"
   ]
  },
  {
   "cell_type": "code",
   "execution_count": null,
   "id": "6390be05",
   "metadata": {},
   "outputs": [],
   "source": [
    "visualize_camera(\n",
    "    os.path.join(\"temp_cam.png\"),\n",
    "    lidar,\n",
    "    bboxes=bboxes,\n",
    "    labels=labels,\n",
    "    xlim=[cfg.point_cloud_range[d] for d in [0, 3]],\n",
    "    ylim=[cfg.point_cloud_range[d] for d in [1, 4]],\n",
    "    classes=cfg.object_classes,\n",
    ")"
   ]
  },
  {
   "cell_type": "code",
   "execution_count": 56,
   "id": "049b9b69",
   "metadata": {},
   "outputs": [
    {
     "name": "stdout",
     "output_type": "stream",
     "text": [
      "torch.Size([6, 256, 16, 45])\n",
      "torch.Size([6, 256, 8, 23])\n"
     ]
    }
   ],
   "source": [
    "x  = model.encoders['camera']['backbone'](data['img'][0])\n",
    "x = model.encoders['camera']['neck'](x)\n",
    "for i in range(len(x)):\n",
    "    print(x[i].shape)\n",
    "#feature size  = (256, 16, 45)\n",
    "x = x[0]"
   ]
  },
  {
   "cell_type": "code",
   "execution_count": 57,
   "id": "77917eab",
   "metadata": {
    "scrolled": true
   },
   "outputs": [
    {
     "name": "stdout",
     "output_type": "stream",
     "text": [
      "[128, 360]\n"
     ]
    }
   ],
   "source": [
    "x = x.unsqueeze(0)\n",
    "cam_features = model.encoders[\"camera\"][\"vtransform\"](x, data['points'],\n",
    "        data['camera2ego'],\n",
    "        data['lidar2ego'],\n",
    "        data['lidar2camera'],\n",
    "        data['lidar2image'],\n",
    "        data['camera_intrinsics'],\n",
    "        data['img_aug_matrix'],\n",
    "        data['lidar_aug_matrix'],\n",
    "        data['metas'])"
   ]
  },
  {
   "cell_type": "code",
   "execution_count": 47,
   "id": "602e66b0",
   "metadata": {},
   "outputs": [
    {
     "data": {
      "text/plain": [
       "[32, 88]"
      ]
     },
     "execution_count": 47,
     "metadata": {},
     "output_type": "execute_result"
    }
   ],
   "source": [
    "model.encoders[\"camera\"][\"vtransform\"].feature_size"
   ]
  },
  {
   "cell_type": "code",
   "execution_count": 12,
   "id": "3d0076cb",
   "metadata": {},
   "outputs": [],
   "source": [
    "model = model.to('cuda').half()\n",
    "\n",
    "#model = model.eval()"
   ]
  },
  {
   "cell_type": "code",
   "execution_count": 8,
   "id": "f23f70a2",
   "metadata": {},
   "outputs": [],
   "source": [
    "feats, coords, sizes = model.encoders['lidar'].voxelize(data['points'][0])"
   ]
  },
  {
   "cell_type": "code",
   "execution_count": 11,
   "id": "b3f0e576",
   "metadata": {},
   "outputs": [
    {
     "data": {
      "text/plain": [
       "torch.Size([207998, 5])"
      ]
     },
     "execution_count": 11,
     "metadata": {},
     "output_type": "execute_result"
    }
   ],
   "source": [
    "data['points'][0].shape"
   ]
  },
  {
   "cell_type": "code",
   "execution_count": 9,
   "id": "6306a0ba",
   "metadata": {
    "collapsed": true
   },
   "outputs": [
    {
     "ename": "RuntimeError",
     "evalue": "/workspace/catkin_ws_devel/src/conav_perception/conav_bev_detection/src/bevfusion/mmdet3d/ops/spconv/include/spconv/spconv_ops.h 40\nkernelSize.size() == coorDim assert faild. error",
     "output_type": "error",
     "traceback": [
      "\u001b[0;31m---------------------------------------------------------------------------\u001b[0m",
      "\u001b[0;31mRuntimeError\u001b[0m                              Traceback (most recent call last)",
      "Input \u001b[0;32mIn [9]\u001b[0m, in \u001b[0;36m<module>\u001b[0;34m\u001b[0m\n\u001b[1;32m      1\u001b[0m batch_size \u001b[38;5;241m=\u001b[39m coords[\u001b[38;5;241m-\u001b[39m\u001b[38;5;241m1\u001b[39m, \u001b[38;5;241m0\u001b[39m] \u001b[38;5;241m+\u001b[39m \u001b[38;5;241m1\u001b[39m\n\u001b[0;32m----> 2\u001b[0m x \u001b[38;5;241m=\u001b[39m \u001b[43mmodel\u001b[49m\u001b[38;5;241;43m.\u001b[39;49m\u001b[43mencoders\u001b[49m\u001b[43m[\u001b[49m\u001b[38;5;124;43m\"\u001b[39;49m\u001b[38;5;124;43mlidar\u001b[39;49m\u001b[38;5;124;43m\"\u001b[39;49m\u001b[43m]\u001b[49m\u001b[43m[\u001b[49m\u001b[38;5;124;43m\"\u001b[39;49m\u001b[38;5;124;43mbackbone\u001b[39;49m\u001b[38;5;124;43m\"\u001b[39;49m\u001b[43m]\u001b[49m\u001b[43m(\u001b[49m\u001b[43mfeats\u001b[49m\u001b[43m,\u001b[49m\u001b[43m \u001b[49m\u001b[43mcoords\u001b[49m\u001b[43m,\u001b[49m\u001b[43m \u001b[49m\u001b[43mbatch_size\u001b[49m\u001b[43m,\u001b[49m\u001b[43m \u001b[49m\u001b[43msizes\u001b[49m\u001b[38;5;241;43m=\u001b[39;49m\u001b[43msizes\u001b[49m\u001b[43m)\u001b[49m\n",
      "File \u001b[0;32m/usr/local/lib/python3.8/dist-packages/torch/nn/modules/module.py:1102\u001b[0m, in \u001b[0;36mModule._call_impl\u001b[0;34m(self, *input, **kwargs)\u001b[0m\n\u001b[1;32m   1098\u001b[0m \u001b[38;5;66;03m# If we don't have any hooks, we want to skip the rest of the logic in\u001b[39;00m\n\u001b[1;32m   1099\u001b[0m \u001b[38;5;66;03m# this function, and just call forward.\u001b[39;00m\n\u001b[1;32m   1100\u001b[0m \u001b[38;5;28;01mif\u001b[39;00m \u001b[38;5;129;01mnot\u001b[39;00m (\u001b[38;5;28mself\u001b[39m\u001b[38;5;241m.\u001b[39m_backward_hooks \u001b[38;5;129;01mor\u001b[39;00m \u001b[38;5;28mself\u001b[39m\u001b[38;5;241m.\u001b[39m_forward_hooks \u001b[38;5;129;01mor\u001b[39;00m \u001b[38;5;28mself\u001b[39m\u001b[38;5;241m.\u001b[39m_forward_pre_hooks \u001b[38;5;129;01mor\u001b[39;00m _global_backward_hooks\n\u001b[1;32m   1101\u001b[0m         \u001b[38;5;129;01mor\u001b[39;00m _global_forward_hooks \u001b[38;5;129;01mor\u001b[39;00m _global_forward_pre_hooks):\n\u001b[0;32m-> 1102\u001b[0m     \u001b[38;5;28;01mreturn\u001b[39;00m \u001b[43mforward_call\u001b[49m\u001b[43m(\u001b[49m\u001b[38;5;241;43m*\u001b[39;49m\u001b[38;5;28;43minput\u001b[39;49m\u001b[43m,\u001b[49m\u001b[43m \u001b[49m\u001b[38;5;241;43m*\u001b[39;49m\u001b[38;5;241;43m*\u001b[39;49m\u001b[43mkwargs\u001b[49m\u001b[43m)\u001b[49m\n\u001b[1;32m   1103\u001b[0m \u001b[38;5;66;03m# Do not call functions when jit is used\u001b[39;00m\n\u001b[1;32m   1104\u001b[0m full_backward_hooks, non_full_backward_hooks \u001b[38;5;241m=\u001b[39m [], []\n",
      "File \u001b[0;32m/usr/local/lib/python3.8/dist-packages/mmcv/runner/fp16_utils.py:98\u001b[0m, in \u001b[0;36mauto_fp16.<locals>.auto_fp16_wrapper.<locals>.new_func\u001b[0;34m(*args, **kwargs)\u001b[0m\n\u001b[1;32m     95\u001b[0m     \u001b[38;5;28;01mraise\u001b[39;00m \u001b[38;5;167;01mTypeError\u001b[39;00m(\u001b[38;5;124m'\u001b[39m\u001b[38;5;124m@auto_fp16 can only be used to decorate the \u001b[39m\u001b[38;5;124m'\u001b[39m\n\u001b[1;32m     96\u001b[0m                     \u001b[38;5;124m'\u001b[39m\u001b[38;5;124mmethod of nn.Module\u001b[39m\u001b[38;5;124m'\u001b[39m)\n\u001b[1;32m     97\u001b[0m \u001b[38;5;28;01mif\u001b[39;00m \u001b[38;5;129;01mnot\u001b[39;00m (\u001b[38;5;28mhasattr\u001b[39m(args[\u001b[38;5;241m0\u001b[39m], \u001b[38;5;124m'\u001b[39m\u001b[38;5;124mfp16_enabled\u001b[39m\u001b[38;5;124m'\u001b[39m) \u001b[38;5;129;01mand\u001b[39;00m args[\u001b[38;5;241m0\u001b[39m]\u001b[38;5;241m.\u001b[39mfp16_enabled):\n\u001b[0;32m---> 98\u001b[0m     \u001b[38;5;28;01mreturn\u001b[39;00m \u001b[43mold_func\u001b[49m\u001b[43m(\u001b[49m\u001b[38;5;241;43m*\u001b[39;49m\u001b[43margs\u001b[49m\u001b[43m,\u001b[49m\u001b[43m \u001b[49m\u001b[38;5;241;43m*\u001b[39;49m\u001b[38;5;241;43m*\u001b[39;49m\u001b[43mkwargs\u001b[49m\u001b[43m)\u001b[49m\n\u001b[1;32m    100\u001b[0m \u001b[38;5;66;03m# get the arg spec of the decorated method\u001b[39;00m\n\u001b[1;32m    101\u001b[0m args_info \u001b[38;5;241m=\u001b[39m getfullargspec(old_func)\n",
      "File \u001b[0;32m/workspace/catkin_ws_devel/src/conav_perception/conav_bev_detection/src/bevfusion/mmdet3d/models/backbones/sparse_encoder.py:116\u001b[0m, in \u001b[0;36mSparseEncoder.forward\u001b[0;34m(self, voxel_features, coors, batch_size, **kwargs)\u001b[0m\n\u001b[1;32m    112\u001b[0m coors \u001b[38;5;241m=\u001b[39m coors\u001b[38;5;241m.\u001b[39mint()\n\u001b[1;32m    113\u001b[0m input_sp_tensor \u001b[38;5;241m=\u001b[39m spconv\u001b[38;5;241m.\u001b[39mSparseConvTensor(\n\u001b[1;32m    114\u001b[0m     voxel_features, coors, \u001b[38;5;28mself\u001b[39m\u001b[38;5;241m.\u001b[39msparse_shape, batch_size\n\u001b[1;32m    115\u001b[0m )\n\u001b[0;32m--> 116\u001b[0m x \u001b[38;5;241m=\u001b[39m \u001b[38;5;28;43mself\u001b[39;49m\u001b[38;5;241;43m.\u001b[39;49m\u001b[43mconv_input\u001b[49m\u001b[43m(\u001b[49m\u001b[43minput_sp_tensor\u001b[49m\u001b[43m)\u001b[49m\n\u001b[1;32m    118\u001b[0m encode_features \u001b[38;5;241m=\u001b[39m []\n\u001b[1;32m    119\u001b[0m \u001b[38;5;28;01mfor\u001b[39;00m encoder_layer \u001b[38;5;129;01min\u001b[39;00m \u001b[38;5;28mself\u001b[39m\u001b[38;5;241m.\u001b[39mencoder_layers:\n",
      "File \u001b[0;32m/usr/local/lib/python3.8/dist-packages/torch/nn/modules/module.py:1102\u001b[0m, in \u001b[0;36mModule._call_impl\u001b[0;34m(self, *input, **kwargs)\u001b[0m\n\u001b[1;32m   1098\u001b[0m \u001b[38;5;66;03m# If we don't have any hooks, we want to skip the rest of the logic in\u001b[39;00m\n\u001b[1;32m   1099\u001b[0m \u001b[38;5;66;03m# this function, and just call forward.\u001b[39;00m\n\u001b[1;32m   1100\u001b[0m \u001b[38;5;28;01mif\u001b[39;00m \u001b[38;5;129;01mnot\u001b[39;00m (\u001b[38;5;28mself\u001b[39m\u001b[38;5;241m.\u001b[39m_backward_hooks \u001b[38;5;129;01mor\u001b[39;00m \u001b[38;5;28mself\u001b[39m\u001b[38;5;241m.\u001b[39m_forward_hooks \u001b[38;5;129;01mor\u001b[39;00m \u001b[38;5;28mself\u001b[39m\u001b[38;5;241m.\u001b[39m_forward_pre_hooks \u001b[38;5;129;01mor\u001b[39;00m _global_backward_hooks\n\u001b[1;32m   1101\u001b[0m         \u001b[38;5;129;01mor\u001b[39;00m _global_forward_hooks \u001b[38;5;129;01mor\u001b[39;00m _global_forward_pre_hooks):\n\u001b[0;32m-> 1102\u001b[0m     \u001b[38;5;28;01mreturn\u001b[39;00m \u001b[43mforward_call\u001b[49m\u001b[43m(\u001b[49m\u001b[38;5;241;43m*\u001b[39;49m\u001b[38;5;28;43minput\u001b[39;49m\u001b[43m,\u001b[49m\u001b[43m \u001b[49m\u001b[38;5;241;43m*\u001b[39;49m\u001b[38;5;241;43m*\u001b[39;49m\u001b[43mkwargs\u001b[49m\u001b[43m)\u001b[49m\n\u001b[1;32m   1103\u001b[0m \u001b[38;5;66;03m# Do not call functions when jit is used\u001b[39;00m\n\u001b[1;32m   1104\u001b[0m full_backward_hooks, non_full_backward_hooks \u001b[38;5;241m=\u001b[39m [], []\n",
      "File \u001b[0;32m/workspace/catkin_ws_devel/src/conav_perception/conav_bev_detection/src/bevfusion/mmdet3d/ops/spconv/modules.py:132\u001b[0m, in \u001b[0;36mSparseSequential.forward\u001b[0;34m(self, input)\u001b[0m\n\u001b[1;32m    130\u001b[0m     \u001b[38;5;28;01massert\u001b[39;00m \u001b[38;5;28misinstance\u001b[39m(\u001b[38;5;28minput\u001b[39m, SparseConvTensor)\n\u001b[1;32m    131\u001b[0m     \u001b[38;5;28mself\u001b[39m\u001b[38;5;241m.\u001b[39m_sparity_dict[k] \u001b[38;5;241m=\u001b[39m \u001b[38;5;28minput\u001b[39m\u001b[38;5;241m.\u001b[39msparity\n\u001b[0;32m--> 132\u001b[0m     \u001b[38;5;28minput\u001b[39m \u001b[38;5;241m=\u001b[39m \u001b[43mmodule\u001b[49m\u001b[43m(\u001b[49m\u001b[38;5;28;43minput\u001b[39;49m\u001b[43m)\u001b[49m\n\u001b[1;32m    133\u001b[0m \u001b[38;5;28;01melse\u001b[39;00m:\n\u001b[1;32m    134\u001b[0m     \u001b[38;5;28;01mif\u001b[39;00m \u001b[38;5;28misinstance\u001b[39m(\u001b[38;5;28minput\u001b[39m, SparseConvTensor):\n",
      "File \u001b[0;32m/usr/local/lib/python3.8/dist-packages/torch/nn/modules/module.py:1102\u001b[0m, in \u001b[0;36mModule._call_impl\u001b[0;34m(self, *input, **kwargs)\u001b[0m\n\u001b[1;32m   1098\u001b[0m \u001b[38;5;66;03m# If we don't have any hooks, we want to skip the rest of the logic in\u001b[39;00m\n\u001b[1;32m   1099\u001b[0m \u001b[38;5;66;03m# this function, and just call forward.\u001b[39;00m\n\u001b[1;32m   1100\u001b[0m \u001b[38;5;28;01mif\u001b[39;00m \u001b[38;5;129;01mnot\u001b[39;00m (\u001b[38;5;28mself\u001b[39m\u001b[38;5;241m.\u001b[39m_backward_hooks \u001b[38;5;129;01mor\u001b[39;00m \u001b[38;5;28mself\u001b[39m\u001b[38;5;241m.\u001b[39m_forward_hooks \u001b[38;5;129;01mor\u001b[39;00m \u001b[38;5;28mself\u001b[39m\u001b[38;5;241m.\u001b[39m_forward_pre_hooks \u001b[38;5;129;01mor\u001b[39;00m _global_backward_hooks\n\u001b[1;32m   1101\u001b[0m         \u001b[38;5;129;01mor\u001b[39;00m _global_forward_hooks \u001b[38;5;129;01mor\u001b[39;00m _global_forward_pre_hooks):\n\u001b[0;32m-> 1102\u001b[0m     \u001b[38;5;28;01mreturn\u001b[39;00m \u001b[43mforward_call\u001b[49m\u001b[43m(\u001b[49m\u001b[38;5;241;43m*\u001b[39;49m\u001b[38;5;28;43minput\u001b[39;49m\u001b[43m,\u001b[49m\u001b[43m \u001b[49m\u001b[38;5;241;43m*\u001b[39;49m\u001b[38;5;241;43m*\u001b[39;49m\u001b[43mkwargs\u001b[49m\u001b[43m)\u001b[49m\n\u001b[1;32m   1103\u001b[0m \u001b[38;5;66;03m# Do not call functions when jit is used\u001b[39;00m\n\u001b[1;32m   1104\u001b[0m full_backward_hooks, non_full_backward_hooks \u001b[38;5;241m=\u001b[39m [], []\n",
      "File \u001b[0;32m/workspace/catkin_ws_devel/src/conav_perception/conav_bev_detection/src/bevfusion/mmdet3d/ops/spconv/conv.py:163\u001b[0m, in \u001b[0;36mSparseConvolution.forward\u001b[0;34m(self, input)\u001b[0m\n\u001b[1;32m    161\u001b[0m         outids, _, indice_pairs, indice_pair_num, _ \u001b[38;5;241m=\u001b[39m datas\n\u001b[1;32m    162\u001b[0m     \u001b[38;5;28;01melse\u001b[39;00m:\n\u001b[0;32m--> 163\u001b[0m         outids, indice_pairs, indice_pair_num \u001b[38;5;241m=\u001b[39m \u001b[43mops\u001b[49m\u001b[38;5;241;43m.\u001b[39;49m\u001b[43mget_indice_pairs\u001b[49m\u001b[43m(\u001b[49m\n\u001b[1;32m    164\u001b[0m \u001b[43m            \u001b[49m\u001b[43mindices\u001b[49m\u001b[43m,\u001b[49m\n\u001b[1;32m    165\u001b[0m \u001b[43m            \u001b[49m\u001b[43mbatch_size\u001b[49m\u001b[43m,\u001b[49m\n\u001b[1;32m    166\u001b[0m \u001b[43m            \u001b[49m\u001b[43mspatial_shape\u001b[49m\u001b[43m,\u001b[49m\n\u001b[1;32m    167\u001b[0m \u001b[43m            \u001b[49m\u001b[38;5;28;43mself\u001b[39;49m\u001b[38;5;241;43m.\u001b[39;49m\u001b[43mkernel_size\u001b[49m\u001b[43m,\u001b[49m\n\u001b[1;32m    168\u001b[0m \u001b[43m            \u001b[49m\u001b[38;5;28;43mself\u001b[39;49m\u001b[38;5;241;43m.\u001b[39;49m\u001b[43mstride\u001b[49m\u001b[43m,\u001b[49m\n\u001b[1;32m    169\u001b[0m \u001b[43m            \u001b[49m\u001b[38;5;28;43mself\u001b[39;49m\u001b[38;5;241;43m.\u001b[39;49m\u001b[43mpadding\u001b[49m\u001b[43m,\u001b[49m\n\u001b[1;32m    170\u001b[0m \u001b[43m            \u001b[49m\u001b[38;5;28;43mself\u001b[39;49m\u001b[38;5;241;43m.\u001b[39;49m\u001b[43mdilation\u001b[49m\u001b[43m,\u001b[49m\n\u001b[1;32m    171\u001b[0m \u001b[43m            \u001b[49m\u001b[38;5;28;43mself\u001b[39;49m\u001b[38;5;241;43m.\u001b[39;49m\u001b[43moutput_padding\u001b[49m\u001b[43m,\u001b[49m\n\u001b[1;32m    172\u001b[0m \u001b[43m            \u001b[49m\u001b[38;5;28;43mself\u001b[39;49m\u001b[38;5;241;43m.\u001b[39;49m\u001b[43msubm\u001b[49m\u001b[43m,\u001b[49m\n\u001b[1;32m    173\u001b[0m \u001b[43m            \u001b[49m\u001b[38;5;28;43mself\u001b[39;49m\u001b[38;5;241;43m.\u001b[39;49m\u001b[43mtransposed\u001b[49m\u001b[43m,\u001b[49m\n\u001b[1;32m    174\u001b[0m \u001b[43m            \u001b[49m\u001b[43mgrid\u001b[49m\u001b[38;5;241;43m=\u001b[39;49m\u001b[38;5;28;43minput\u001b[39;49m\u001b[38;5;241;43m.\u001b[39;49m\u001b[43mgrid\u001b[49m\u001b[43m,\u001b[49m\n\u001b[1;32m    175\u001b[0m \u001b[43m        \u001b[49m\u001b[43m)\u001b[49m\n\u001b[1;32m    176\u001b[0m         \u001b[38;5;28minput\u001b[39m\u001b[38;5;241m.\u001b[39mindice_dict[\u001b[38;5;28mself\u001b[39m\u001b[38;5;241m.\u001b[39mindice_key] \u001b[38;5;241m=\u001b[39m (\n\u001b[1;32m    177\u001b[0m             outids,\n\u001b[1;32m    178\u001b[0m             indices,\n\u001b[0;32m   (...)\u001b[0m\n\u001b[1;32m    181\u001b[0m             spatial_shape,\n\u001b[1;32m    182\u001b[0m         )\n\u001b[1;32m    183\u001b[0m \u001b[38;5;28;01mif\u001b[39;00m \u001b[38;5;28mself\u001b[39m\u001b[38;5;241m.\u001b[39mfused_bn:\n",
      "File \u001b[0;32m/workspace/catkin_ws_devel/src/conav_perception/conav_bev_detection/src/bevfusion/mmdet3d/ops/spconv/ops.py:92\u001b[0m, in \u001b[0;36mget_indice_pairs\u001b[0;34m(indices, batch_size, spatial_shape, ksize, stride, padding, dilation, out_padding, subm, transpose, grid)\u001b[0m\n\u001b[1;32m     90\u001b[0m     \u001b[38;5;28;01melse\u001b[39;00m:\n\u001b[1;32m     91\u001b[0m         \u001b[38;5;28;01mraise\u001b[39;00m \u001b[38;5;167;01mNotImplementedError\u001b[39;00m\n\u001b[0;32m---> 92\u001b[0m     \u001b[38;5;28;01mreturn\u001b[39;00m \u001b[43mget_indice_pairs_func\u001b[49m\u001b[43m(\u001b[49m\n\u001b[1;32m     93\u001b[0m \u001b[43m        \u001b[49m\u001b[43mindices\u001b[49m\u001b[43m,\u001b[49m\n\u001b[1;32m     94\u001b[0m \u001b[43m        \u001b[49m\u001b[43mbatch_size\u001b[49m\u001b[43m,\u001b[49m\n\u001b[1;32m     95\u001b[0m \u001b[43m        \u001b[49m\u001b[43mout_shape\u001b[49m\u001b[43m,\u001b[49m\n\u001b[1;32m     96\u001b[0m \u001b[43m        \u001b[49m\u001b[43mspatial_shape\u001b[49m\u001b[43m,\u001b[49m\n\u001b[1;32m     97\u001b[0m \u001b[43m        \u001b[49m\u001b[43mksize\u001b[49m\u001b[43m,\u001b[49m\n\u001b[1;32m     98\u001b[0m \u001b[43m        \u001b[49m\u001b[43mstride\u001b[49m\u001b[43m,\u001b[49m\n\u001b[1;32m     99\u001b[0m \u001b[43m        \u001b[49m\u001b[43mpadding\u001b[49m\u001b[43m,\u001b[49m\n\u001b[1;32m    100\u001b[0m \u001b[43m        \u001b[49m\u001b[43mdilation\u001b[49m\u001b[43m,\u001b[49m\n\u001b[1;32m    101\u001b[0m \u001b[43m        \u001b[49m\u001b[43mout_padding\u001b[49m\u001b[43m,\u001b[49m\n\u001b[1;32m    102\u001b[0m \u001b[43m        \u001b[49m\u001b[38;5;28;43mint\u001b[39;49m\u001b[43m(\u001b[49m\u001b[43msubm\u001b[49m\u001b[43m)\u001b[49m\u001b[43m,\u001b[49m\n\u001b[1;32m    103\u001b[0m \u001b[43m        \u001b[49m\u001b[38;5;28;43mint\u001b[39;49m\u001b[43m(\u001b[49m\u001b[43mtranspose\u001b[49m\u001b[43m)\u001b[49m\u001b[43m,\u001b[49m\n\u001b[1;32m    104\u001b[0m \u001b[43m    \u001b[49m\u001b[43m)\u001b[49m\n\u001b[1;32m    105\u001b[0m \u001b[38;5;28;01melse\u001b[39;00m:\n\u001b[1;32m    106\u001b[0m     \u001b[38;5;28;01mif\u001b[39;00m ndim \u001b[38;5;241m==\u001b[39m \u001b[38;5;241m2\u001b[39m:\n",
      "\u001b[0;31mRuntimeError\u001b[0m: /workspace/catkin_ws_devel/src/conav_perception/conav_bev_detection/src/bevfusion/mmdet3d/ops/spconv/include/spconv/spconv_ops.h 40\nkernelSize.size() == coorDim assert faild. error"
     ]
    }
   ],
   "source": [
    "batch_size = coords[-1, 0] + 1\n",
    "x = model.encoders[\"lidar\"][\"backbone\"](feats, coords, batch_size, sizes=sizes)"
   ]
  },
  {
   "cell_type": "code",
   "execution_count": 11,
   "id": "b9105cfa",
   "metadata": {
    "collapsed": true
   },
   "outputs": [
    {
     "ename": "RuntimeError",
     "evalue": "\"hard_voxelize_kernel\" not implemented for 'Half'",
     "output_type": "error",
     "traceback": [
      "\u001b[0;31m---------------------------------------------------------------------------\u001b[0m",
      "\u001b[0;31mRuntimeError\u001b[0m                              Traceback (most recent call last)",
      "Input \u001b[0;32mIn [11]\u001b[0m, in \u001b[0;36m<module>\u001b[0;34m\u001b[0m\n\u001b[0;32m----> 1\u001b[0m feats, coords, sizes \u001b[38;5;241m=\u001b[39m \u001b[43mmodel\u001b[49m\u001b[38;5;241;43m.\u001b[39;49m\u001b[43mencoders\u001b[49m\u001b[43m[\u001b[49m\u001b[38;5;124;43m'\u001b[39;49m\u001b[38;5;124;43mlidar\u001b[39;49m\u001b[38;5;124;43m'\u001b[39;49m\u001b[43m]\u001b[49m\u001b[38;5;241;43m.\u001b[39;49m\u001b[43mvoxelize\u001b[49m\u001b[38;5;241;43m.\u001b[39;49m\u001b[43mhalf\u001b[49m\u001b[43m(\u001b[49m\u001b[43m)\u001b[49m\u001b[43m(\u001b[49m\u001b[43mdata\u001b[49m\u001b[43m[\u001b[49m\u001b[38;5;124;43m'\u001b[39;49m\u001b[38;5;124;43mpoints\u001b[39;49m\u001b[38;5;124;43m'\u001b[39;49m\u001b[43m]\u001b[49m\u001b[43m[\u001b[49m\u001b[38;5;241;43m0\u001b[39;49m\u001b[43m]\u001b[49m\u001b[38;5;241;43m.\u001b[39;49m\u001b[43mhalf\u001b[49m\u001b[43m(\u001b[49m\u001b[43m)\u001b[49m\u001b[43m)\u001b[49m\n",
      "File \u001b[0;32m/usr/local/lib/python3.8/dist-packages/torch/nn/modules/module.py:1102\u001b[0m, in \u001b[0;36mModule._call_impl\u001b[0;34m(self, *input, **kwargs)\u001b[0m\n\u001b[1;32m   1098\u001b[0m \u001b[38;5;66;03m# If we don't have any hooks, we want to skip the rest of the logic in\u001b[39;00m\n\u001b[1;32m   1099\u001b[0m \u001b[38;5;66;03m# this function, and just call forward.\u001b[39;00m\n\u001b[1;32m   1100\u001b[0m \u001b[38;5;28;01mif\u001b[39;00m \u001b[38;5;129;01mnot\u001b[39;00m (\u001b[38;5;28mself\u001b[39m\u001b[38;5;241m.\u001b[39m_backward_hooks \u001b[38;5;129;01mor\u001b[39;00m \u001b[38;5;28mself\u001b[39m\u001b[38;5;241m.\u001b[39m_forward_hooks \u001b[38;5;129;01mor\u001b[39;00m \u001b[38;5;28mself\u001b[39m\u001b[38;5;241m.\u001b[39m_forward_pre_hooks \u001b[38;5;129;01mor\u001b[39;00m _global_backward_hooks\n\u001b[1;32m   1101\u001b[0m         \u001b[38;5;129;01mor\u001b[39;00m _global_forward_hooks \u001b[38;5;129;01mor\u001b[39;00m _global_forward_pre_hooks):\n\u001b[0;32m-> 1102\u001b[0m     \u001b[38;5;28;01mreturn\u001b[39;00m \u001b[43mforward_call\u001b[49m\u001b[43m(\u001b[49m\u001b[38;5;241;43m*\u001b[39;49m\u001b[38;5;28;43minput\u001b[39;49m\u001b[43m,\u001b[49m\u001b[43m \u001b[49m\u001b[38;5;241;43m*\u001b[39;49m\u001b[38;5;241;43m*\u001b[39;49m\u001b[43mkwargs\u001b[49m\u001b[43m)\u001b[49m\n\u001b[1;32m   1103\u001b[0m \u001b[38;5;66;03m# Do not call functions when jit is used\u001b[39;00m\n\u001b[1;32m   1104\u001b[0m full_backward_hooks, non_full_backward_hooks \u001b[38;5;241m=\u001b[39m [], []\n",
      "File \u001b[0;32m/usr/local/lib/python3.8/dist-packages/mmcv/ops/voxelize.py:134\u001b[0m, in \u001b[0;36mVoxelization.forward\u001b[0;34m(self, input)\u001b[0m\n\u001b[1;32m    131\u001b[0m \u001b[38;5;28;01melse\u001b[39;00m:\n\u001b[1;32m    132\u001b[0m     max_voxels \u001b[38;5;241m=\u001b[39m \u001b[38;5;28mself\u001b[39m\u001b[38;5;241m.\u001b[39mmax_voxels[\u001b[38;5;241m1\u001b[39m]\n\u001b[0;32m--> 134\u001b[0m \u001b[38;5;28;01mreturn\u001b[39;00m \u001b[43mvoxelization\u001b[49m\u001b[43m(\u001b[49m\u001b[38;5;28;43minput\u001b[39;49m\u001b[43m,\u001b[49m\u001b[43m \u001b[49m\u001b[38;5;28;43mself\u001b[39;49m\u001b[38;5;241;43m.\u001b[39;49m\u001b[43mvoxel_size\u001b[49m\u001b[43m,\u001b[49m\u001b[43m \u001b[49m\u001b[38;5;28;43mself\u001b[39;49m\u001b[38;5;241;43m.\u001b[39;49m\u001b[43mpoint_cloud_range\u001b[49m\u001b[43m,\u001b[49m\n\u001b[1;32m    135\u001b[0m \u001b[43m                    \u001b[49m\u001b[38;5;28;43mself\u001b[39;49m\u001b[38;5;241;43m.\u001b[39;49m\u001b[43mmax_num_points\u001b[49m\u001b[43m,\u001b[49m\u001b[43m \u001b[49m\u001b[43mmax_voxels\u001b[49m\u001b[43m)\u001b[49m\n",
      "File \u001b[0;32m/usr/local/lib/python3.8/dist-packages/mmcv/ops/voxelize.py:62\u001b[0m, in \u001b[0;36m_Voxelization.forward\u001b[0;34m(ctx, points, voxel_size, coors_range, max_points, max_voxels)\u001b[0m\n\u001b[1;32m     59\u001b[0m num_points_per_voxel \u001b[38;5;241m=\u001b[39m points\u001b[38;5;241m.\u001b[39mnew_zeros(\n\u001b[1;32m     60\u001b[0m     size\u001b[38;5;241m=\u001b[39m(max_voxels, ), dtype\u001b[38;5;241m=\u001b[39mtorch\u001b[38;5;241m.\u001b[39mint)\n\u001b[1;32m     61\u001b[0m voxel_num \u001b[38;5;241m=\u001b[39m torch\u001b[38;5;241m.\u001b[39mzeros(size\u001b[38;5;241m=\u001b[39m(), dtype\u001b[38;5;241m=\u001b[39mtorch\u001b[38;5;241m.\u001b[39mlong)\n\u001b[0;32m---> 62\u001b[0m \u001b[43mext_module\u001b[49m\u001b[38;5;241;43m.\u001b[39;49m\u001b[43mhard_voxelize_forward\u001b[49m\u001b[43m(\u001b[49m\n\u001b[1;32m     63\u001b[0m \u001b[43m    \u001b[49m\u001b[43mpoints\u001b[49m\u001b[43m,\u001b[49m\n\u001b[1;32m     64\u001b[0m \u001b[43m    \u001b[49m\u001b[43mtorch\u001b[49m\u001b[38;5;241;43m.\u001b[39;49m\u001b[43mtensor\u001b[49m\u001b[43m(\u001b[49m\u001b[43mvoxel_size\u001b[49m\u001b[43m,\u001b[49m\u001b[43m \u001b[49m\u001b[43mdtype\u001b[49m\u001b[38;5;241;43m=\u001b[39;49m\u001b[43mtorch\u001b[49m\u001b[38;5;241;43m.\u001b[39;49m\u001b[43mfloat\u001b[49m\u001b[43m)\u001b[49m\u001b[43m,\u001b[49m\n\u001b[1;32m     65\u001b[0m \u001b[43m    \u001b[49m\u001b[43mtorch\u001b[49m\u001b[38;5;241;43m.\u001b[39;49m\u001b[43mtensor\u001b[49m\u001b[43m(\u001b[49m\u001b[43mcoors_range\u001b[49m\u001b[43m,\u001b[49m\u001b[43m \u001b[49m\u001b[43mdtype\u001b[49m\u001b[38;5;241;43m=\u001b[39;49m\u001b[43mtorch\u001b[49m\u001b[38;5;241;43m.\u001b[39;49m\u001b[43mfloat\u001b[49m\u001b[43m)\u001b[49m\u001b[43m,\u001b[49m\n\u001b[1;32m     66\u001b[0m \u001b[43m    \u001b[49m\u001b[43mvoxels\u001b[49m\u001b[43m,\u001b[49m\n\u001b[1;32m     67\u001b[0m \u001b[43m    \u001b[49m\u001b[43mcoors\u001b[49m\u001b[43m,\u001b[49m\n\u001b[1;32m     68\u001b[0m \u001b[43m    \u001b[49m\u001b[43mnum_points_per_voxel\u001b[49m\u001b[43m,\u001b[49m\n\u001b[1;32m     69\u001b[0m \u001b[43m    \u001b[49m\u001b[43mvoxel_num\u001b[49m\u001b[43m,\u001b[49m\n\u001b[1;32m     70\u001b[0m \u001b[43m    \u001b[49m\u001b[43mmax_points\u001b[49m\u001b[38;5;241;43m=\u001b[39;49m\u001b[43mmax_points\u001b[49m\u001b[43m,\u001b[49m\n\u001b[1;32m     71\u001b[0m \u001b[43m    \u001b[49m\u001b[43mmax_voxels\u001b[49m\u001b[38;5;241;43m=\u001b[39;49m\u001b[43mmax_voxels\u001b[49m\u001b[43m,\u001b[49m\n\u001b[1;32m     72\u001b[0m \u001b[43m    \u001b[49m\u001b[43mNDim\u001b[49m\u001b[38;5;241;43m=\u001b[39;49m\u001b[38;5;241;43m3\u001b[39;49m\u001b[43m)\u001b[49m\n\u001b[1;32m     73\u001b[0m \u001b[38;5;66;03m# select the valid voxels\u001b[39;00m\n\u001b[1;32m     74\u001b[0m voxels_out \u001b[38;5;241m=\u001b[39m voxels[:voxel_num]\n",
      "\u001b[0;31mRuntimeError\u001b[0m: \"hard_voxelize_kernel\" not implemented for 'Half'"
     ]
    }
   ],
   "source": [
    "feats, coords, sizes = model.encoders['lidar'].voxelize.half()(data['points'][0].half())"
   ]
  },
  {
   "cell_type": "code",
   "execution_count": 15,
   "id": "192635f5",
   "metadata": {},
   "outputs": [
    {
     "data": {
      "text/plain": [
       "(torch.Size([12677, 10, 5]), torch.Size([12677, 3]), torch.Size([12677]))"
      ]
     },
     "execution_count": 15,
     "metadata": {},
     "output_type": "execute_result"
    }
   ],
   "source": [
    "feats.shape, coords.shape, sizes.shape"
   ]
  },
  {
   "cell_type": "code",
   "execution_count": 17,
   "id": "fcd6bb80",
   "metadata": {
    "collapsed": true
   },
   "outputs": [
    {
     "name": "stderr",
     "output_type": "stream",
     "text": [
      "  0%|                                                    | 0/81 [00:00<?, ?it/s]/usr/local/lib/python3.8/dist-packages/nuscenes/map_expansion/map_api.py:1823: ShapelyDeprecationWarning: Iteration over multi-part geometries is deprecated and will be removed in Shapely 2.0. Use the `geoms` property to access the constituent parts of a multi-part geometry.\n",
      "  exteriors = [int_coords(poly.exterior.coords) for poly in polygons]\n",
      "/usr/local/lib/python3.8/dist-packages/nuscenes/map_expansion/map_api.py:1824: ShapelyDeprecationWarning: Iteration over multi-part geometries is deprecated and will be removed in Shapely 2.0. Use the `geoms` property to access the constituent parts of a multi-part geometry.\n",
      "  interiors = [int_coords(pi.coords) for poly in polygons for pi in poly.interiors]\n",
      "/usr/local/lib/python3.8/dist-packages/nuscenes/map_expansion/map_api.py:1823: ShapelyDeprecationWarning: Iteration over multi-part geometries is deprecated and will be removed in Shapely 2.0. Use the `geoms` property to access the constituent parts of a multi-part geometry.\n",
      "  exteriors = [int_coords(poly.exterior.coords) for poly in polygons]\n",
      "/usr/local/lib/python3.8/dist-packages/nuscenes/map_expansion/map_api.py:1824: ShapelyDeprecationWarning: Iteration over multi-part geometries is deprecated and will be removed in Shapely 2.0. Use the `geoms` property to access the constituent parts of a multi-part geometry.\n",
      "  interiors = [int_coords(pi.coords) for poly in polygons for pi in poly.interiors]\n",
      "  0%|                                                    | 0/81 [00:01<?, ?it/s]\n"
     ]
    },
    {
     "ename": "RuntimeError",
     "evalue": "expected scalar type Float but found Half",
     "output_type": "error",
     "traceback": [
      "\u001b[0;31m---------------------------------------------------------------------------\u001b[0m",
      "\u001b[0;31mRuntimeError\u001b[0m                              Traceback (most recent call last)",
      "Input \u001b[0;32mIn [17]\u001b[0m, in \u001b[0;36m<module>\u001b[0;34m\u001b[0m\n\u001b[1;32m     12\u001b[0m         data[key] \u001b[38;5;241m=\u001b[39m \u001b[38;5;28;01mNone\u001b[39;00m\n\u001b[1;32m     13\u001b[0m \u001b[38;5;28;01mwith\u001b[39;00m torch\u001b[38;5;241m.\u001b[39minference_mode():\n\u001b[0;32m---> 14\u001b[0m     outputs \u001b[38;5;241m=\u001b[39m \u001b[43mmodel\u001b[49m\u001b[43m(\u001b[49m\u001b[38;5;241;43m*\u001b[39;49m\u001b[38;5;241;43m*\u001b[39;49m\u001b[43mdata\u001b[49m\u001b[43m)\u001b[49m\n\u001b[1;32m     15\u001b[0m \u001b[38;5;28;01mbreak\u001b[39;00m\n",
      "File \u001b[0;32m/usr/local/lib/python3.8/dist-packages/torch/nn/modules/module.py:1102\u001b[0m, in \u001b[0;36mModule._call_impl\u001b[0;34m(self, *input, **kwargs)\u001b[0m\n\u001b[1;32m   1098\u001b[0m \u001b[38;5;66;03m# If we don't have any hooks, we want to skip the rest of the logic in\u001b[39;00m\n\u001b[1;32m   1099\u001b[0m \u001b[38;5;66;03m# this function, and just call forward.\u001b[39;00m\n\u001b[1;32m   1100\u001b[0m \u001b[38;5;28;01mif\u001b[39;00m \u001b[38;5;129;01mnot\u001b[39;00m (\u001b[38;5;28mself\u001b[39m\u001b[38;5;241m.\u001b[39m_backward_hooks \u001b[38;5;129;01mor\u001b[39;00m \u001b[38;5;28mself\u001b[39m\u001b[38;5;241m.\u001b[39m_forward_hooks \u001b[38;5;129;01mor\u001b[39;00m \u001b[38;5;28mself\u001b[39m\u001b[38;5;241m.\u001b[39m_forward_pre_hooks \u001b[38;5;129;01mor\u001b[39;00m _global_backward_hooks\n\u001b[1;32m   1101\u001b[0m         \u001b[38;5;129;01mor\u001b[39;00m _global_forward_hooks \u001b[38;5;129;01mor\u001b[39;00m _global_forward_pre_hooks):\n\u001b[0;32m-> 1102\u001b[0m     \u001b[38;5;28;01mreturn\u001b[39;00m \u001b[43mforward_call\u001b[49m\u001b[43m(\u001b[49m\u001b[38;5;241;43m*\u001b[39;49m\u001b[38;5;28;43minput\u001b[39;49m\u001b[43m,\u001b[49m\u001b[43m \u001b[49m\u001b[38;5;241;43m*\u001b[39;49m\u001b[38;5;241;43m*\u001b[39;49m\u001b[43mkwargs\u001b[49m\u001b[43m)\u001b[49m\n\u001b[1;32m   1103\u001b[0m \u001b[38;5;66;03m# Do not call functions when jit is used\u001b[39;00m\n\u001b[1;32m   1104\u001b[0m full_backward_hooks, non_full_backward_hooks \u001b[38;5;241m=\u001b[39m [], []\n",
      "File \u001b[0;32m/usr/local/lib/python3.8/dist-packages/mmcv/runner/fp16_utils.py:98\u001b[0m, in \u001b[0;36mauto_fp16.<locals>.auto_fp16_wrapper.<locals>.new_func\u001b[0;34m(*args, **kwargs)\u001b[0m\n\u001b[1;32m     95\u001b[0m     \u001b[38;5;28;01mraise\u001b[39;00m \u001b[38;5;167;01mTypeError\u001b[39;00m(\u001b[38;5;124m'\u001b[39m\u001b[38;5;124m@auto_fp16 can only be used to decorate the \u001b[39m\u001b[38;5;124m'\u001b[39m\n\u001b[1;32m     96\u001b[0m                     \u001b[38;5;124m'\u001b[39m\u001b[38;5;124mmethod of nn.Module\u001b[39m\u001b[38;5;124m'\u001b[39m)\n\u001b[1;32m     97\u001b[0m \u001b[38;5;28;01mif\u001b[39;00m \u001b[38;5;129;01mnot\u001b[39;00m (\u001b[38;5;28mhasattr\u001b[39m(args[\u001b[38;5;241m0\u001b[39m], \u001b[38;5;124m'\u001b[39m\u001b[38;5;124mfp16_enabled\u001b[39m\u001b[38;5;124m'\u001b[39m) \u001b[38;5;129;01mand\u001b[39;00m args[\u001b[38;5;241m0\u001b[39m]\u001b[38;5;241m.\u001b[39mfp16_enabled):\n\u001b[0;32m---> 98\u001b[0m     \u001b[38;5;28;01mreturn\u001b[39;00m \u001b[43mold_func\u001b[49m\u001b[43m(\u001b[49m\u001b[38;5;241;43m*\u001b[39;49m\u001b[43margs\u001b[49m\u001b[43m,\u001b[49m\u001b[43m \u001b[49m\u001b[38;5;241;43m*\u001b[39;49m\u001b[38;5;241;43m*\u001b[39;49m\u001b[43mkwargs\u001b[49m\u001b[43m)\u001b[49m\n\u001b[1;32m    100\u001b[0m \u001b[38;5;66;03m# get the arg spec of the decorated method\u001b[39;00m\n\u001b[1;32m    101\u001b[0m args_info \u001b[38;5;241m=\u001b[39m getfullargspec(old_func)\n",
      "File \u001b[0;32m/workspace/catkin_ws_devel/src/conav_perception/conav_bev_detection/src/bevfusion/mmdet3d/models/fusion_models/bevfusion.py:170\u001b[0m, in \u001b[0;36mBEVFusion.forward\u001b[0;34m(self, img, points, camera2ego, lidar2ego, lidar2camera, lidar2image, camera_intrinsics, img_aug_matrix, lidar_aug_matrix, metas, gt_masks_bev, gt_bboxes_3d, gt_labels_3d, **kwargs)\u001b[0m\n\u001b[1;32m    168\u001b[0m \u001b[38;5;28;01mfor\u001b[39;00m sensor \u001b[38;5;129;01min\u001b[39;00m \u001b[38;5;28mself\u001b[39m\u001b[38;5;241m.\u001b[39mencoders:\n\u001b[1;32m    169\u001b[0m     \u001b[38;5;28;01mif\u001b[39;00m sensor \u001b[38;5;241m==\u001b[39m \u001b[38;5;124m\"\u001b[39m\u001b[38;5;124mcamera\u001b[39m\u001b[38;5;124m\"\u001b[39m:\n\u001b[0;32m--> 170\u001b[0m         feature \u001b[38;5;241m=\u001b[39m \u001b[38;5;28;43mself\u001b[39;49m\u001b[38;5;241;43m.\u001b[39;49m\u001b[43mextract_camera_features\u001b[49m\u001b[43m(\u001b[49m\n\u001b[1;32m    171\u001b[0m \u001b[43m            \u001b[49m\u001b[43mimg\u001b[49m\u001b[43m,\u001b[49m\n\u001b[1;32m    172\u001b[0m \u001b[43m            \u001b[49m\u001b[43mpoints\u001b[49m\u001b[43m,\u001b[49m\n\u001b[1;32m    173\u001b[0m \u001b[43m            \u001b[49m\u001b[43mcamera2ego\u001b[49m\u001b[43m,\u001b[49m\n\u001b[1;32m    174\u001b[0m \u001b[43m            \u001b[49m\u001b[43mlidar2ego\u001b[49m\u001b[43m,\u001b[49m\n\u001b[1;32m    175\u001b[0m \u001b[43m            \u001b[49m\u001b[43mlidar2camera\u001b[49m\u001b[43m,\u001b[49m\n\u001b[1;32m    176\u001b[0m \u001b[43m            \u001b[49m\u001b[43mlidar2image\u001b[49m\u001b[43m,\u001b[49m\n\u001b[1;32m    177\u001b[0m \u001b[43m            \u001b[49m\u001b[43mcamera_intrinsics\u001b[49m\u001b[43m,\u001b[49m\n\u001b[1;32m    178\u001b[0m \u001b[43m            \u001b[49m\u001b[43mimg_aug_matrix\u001b[49m\u001b[43m,\u001b[49m\n\u001b[1;32m    179\u001b[0m \u001b[43m            \u001b[49m\u001b[43mlidar_aug_matrix\u001b[49m\u001b[43m,\u001b[49m\n\u001b[1;32m    180\u001b[0m \u001b[43m            \u001b[49m\u001b[43mmetas\u001b[49m\u001b[43m,\u001b[49m\n\u001b[1;32m    181\u001b[0m \u001b[43m        \u001b[49m\u001b[43m)\u001b[49m\n\u001b[1;32m    182\u001b[0m         \u001b[38;5;28mprint\u001b[39m(\u001b[38;5;124m'\u001b[39m\u001b[38;5;124mcamera featuress extracted\u001b[39m\u001b[38;5;124m'\u001b[39m)\n\u001b[1;32m    183\u001b[0m     \u001b[38;5;28;01melif\u001b[39;00m sensor \u001b[38;5;241m==\u001b[39m \u001b[38;5;124m\"\u001b[39m\u001b[38;5;124mlidar\u001b[39m\u001b[38;5;124m\"\u001b[39m:\n",
      "File \u001b[0;32m/workspace/catkin_ws_devel/src/conav_perception/conav_bev_detection/src/bevfusion/mmdet3d/models/fusion_models/bevfusion.py:100\u001b[0m, in \u001b[0;36mBEVFusion.extract_camera_features\u001b[0;34m(self, x, points, camera2ego, lidar2ego, lidar2camera, lidar2image, camera_intrinsics, img_aug_matrix, lidar_aug_matrix, img_metas)\u001b[0m\n\u001b[1;32m     97\u001b[0m B, N, C, H, W \u001b[38;5;241m=\u001b[39m x\u001b[38;5;241m.\u001b[39msize()\n\u001b[1;32m     98\u001b[0m x \u001b[38;5;241m=\u001b[39m x\u001b[38;5;241m.\u001b[39mview(B \u001b[38;5;241m*\u001b[39m N, C, H, W)\n\u001b[0;32m--> 100\u001b[0m x \u001b[38;5;241m=\u001b[39m \u001b[38;5;28;43mself\u001b[39;49m\u001b[38;5;241;43m.\u001b[39;49m\u001b[43mencoders\u001b[49m\u001b[43m[\u001b[49m\u001b[38;5;124;43m\"\u001b[39;49m\u001b[38;5;124;43mcamera\u001b[39;49m\u001b[38;5;124;43m\"\u001b[39;49m\u001b[43m]\u001b[49m\u001b[43m[\u001b[49m\u001b[38;5;124;43m\"\u001b[39;49m\u001b[38;5;124;43mbackbone\u001b[39;49m\u001b[38;5;124;43m\"\u001b[39;49m\u001b[43m]\u001b[49m\u001b[43m(\u001b[49m\u001b[43mx\u001b[49m\u001b[43m)\u001b[49m\n\u001b[1;32m    101\u001b[0m x \u001b[38;5;241m=\u001b[39m \u001b[38;5;28mself\u001b[39m\u001b[38;5;241m.\u001b[39mencoders[\u001b[38;5;124m\"\u001b[39m\u001b[38;5;124mcamera\u001b[39m\u001b[38;5;124m\"\u001b[39m][\u001b[38;5;124m\"\u001b[39m\u001b[38;5;124mneck\u001b[39m\u001b[38;5;124m\"\u001b[39m](x)\n\u001b[1;32m    103\u001b[0m \u001b[38;5;28;01mif\u001b[39;00m \u001b[38;5;129;01mnot\u001b[39;00m \u001b[38;5;28misinstance\u001b[39m(x, torch\u001b[38;5;241m.\u001b[39mTensor):\n",
      "File \u001b[0;32m/usr/local/lib/python3.8/dist-packages/torch/nn/modules/module.py:1102\u001b[0m, in \u001b[0;36mModule._call_impl\u001b[0;34m(self, *input, **kwargs)\u001b[0m\n\u001b[1;32m   1098\u001b[0m \u001b[38;5;66;03m# If we don't have any hooks, we want to skip the rest of the logic in\u001b[39;00m\n\u001b[1;32m   1099\u001b[0m \u001b[38;5;66;03m# this function, and just call forward.\u001b[39;00m\n\u001b[1;32m   1100\u001b[0m \u001b[38;5;28;01mif\u001b[39;00m \u001b[38;5;129;01mnot\u001b[39;00m (\u001b[38;5;28mself\u001b[39m\u001b[38;5;241m.\u001b[39m_backward_hooks \u001b[38;5;129;01mor\u001b[39;00m \u001b[38;5;28mself\u001b[39m\u001b[38;5;241m.\u001b[39m_forward_hooks \u001b[38;5;129;01mor\u001b[39;00m \u001b[38;5;28mself\u001b[39m\u001b[38;5;241m.\u001b[39m_forward_pre_hooks \u001b[38;5;129;01mor\u001b[39;00m _global_backward_hooks\n\u001b[1;32m   1101\u001b[0m         \u001b[38;5;129;01mor\u001b[39;00m _global_forward_hooks \u001b[38;5;129;01mor\u001b[39;00m _global_forward_pre_hooks):\n\u001b[0;32m-> 1102\u001b[0m     \u001b[38;5;28;01mreturn\u001b[39;00m \u001b[43mforward_call\u001b[49m\u001b[43m(\u001b[49m\u001b[38;5;241;43m*\u001b[39;49m\u001b[38;5;28;43minput\u001b[39;49m\u001b[43m,\u001b[49m\u001b[43m \u001b[49m\u001b[38;5;241;43m*\u001b[39;49m\u001b[38;5;241;43m*\u001b[39;49m\u001b[43mkwargs\u001b[49m\u001b[43m)\u001b[49m\n\u001b[1;32m   1103\u001b[0m \u001b[38;5;66;03m# Do not call functions when jit is used\u001b[39;00m\n\u001b[1;32m   1104\u001b[0m full_backward_hooks, non_full_backward_hooks \u001b[38;5;241m=\u001b[39m [], []\n",
      "File \u001b[0;32m/usr/local/lib/python3.8/dist-packages/mmdet/models/backbones/swin.py:754\u001b[0m, in \u001b[0;36mSwinTransformer.forward\u001b[0;34m(self, x)\u001b[0m\n\u001b[1;32m    752\u001b[0m outs \u001b[38;5;241m=\u001b[39m []\n\u001b[1;32m    753\u001b[0m \u001b[38;5;28;01mfor\u001b[39;00m i, stage \u001b[38;5;129;01min\u001b[39;00m \u001b[38;5;28menumerate\u001b[39m(\u001b[38;5;28mself\u001b[39m\u001b[38;5;241m.\u001b[39mstages):\n\u001b[0;32m--> 754\u001b[0m     x, hw_shape, out, out_hw_shape \u001b[38;5;241m=\u001b[39m \u001b[43mstage\u001b[49m\u001b[43m(\u001b[49m\u001b[43mx\u001b[49m\u001b[43m,\u001b[49m\u001b[43m \u001b[49m\u001b[43mhw_shape\u001b[49m\u001b[43m)\u001b[49m\n\u001b[1;32m    755\u001b[0m     \u001b[38;5;28;01mif\u001b[39;00m i \u001b[38;5;129;01min\u001b[39;00m \u001b[38;5;28mself\u001b[39m\u001b[38;5;241m.\u001b[39mout_indices:\n\u001b[1;32m    756\u001b[0m         norm_layer \u001b[38;5;241m=\u001b[39m \u001b[38;5;28mgetattr\u001b[39m(\u001b[38;5;28mself\u001b[39m, \u001b[38;5;124mf\u001b[39m\u001b[38;5;124m'\u001b[39m\u001b[38;5;124mnorm\u001b[39m\u001b[38;5;132;01m{\u001b[39;00mi\u001b[38;5;132;01m}\u001b[39;00m\u001b[38;5;124m'\u001b[39m)\n",
      "File \u001b[0;32m/usr/local/lib/python3.8/dist-packages/torch/nn/modules/module.py:1102\u001b[0m, in \u001b[0;36mModule._call_impl\u001b[0;34m(self, *input, **kwargs)\u001b[0m\n\u001b[1;32m   1098\u001b[0m \u001b[38;5;66;03m# If we don't have any hooks, we want to skip the rest of the logic in\u001b[39;00m\n\u001b[1;32m   1099\u001b[0m \u001b[38;5;66;03m# this function, and just call forward.\u001b[39;00m\n\u001b[1;32m   1100\u001b[0m \u001b[38;5;28;01mif\u001b[39;00m \u001b[38;5;129;01mnot\u001b[39;00m (\u001b[38;5;28mself\u001b[39m\u001b[38;5;241m.\u001b[39m_backward_hooks \u001b[38;5;129;01mor\u001b[39;00m \u001b[38;5;28mself\u001b[39m\u001b[38;5;241m.\u001b[39m_forward_hooks \u001b[38;5;129;01mor\u001b[39;00m \u001b[38;5;28mself\u001b[39m\u001b[38;5;241m.\u001b[39m_forward_pre_hooks \u001b[38;5;129;01mor\u001b[39;00m _global_backward_hooks\n\u001b[1;32m   1101\u001b[0m         \u001b[38;5;129;01mor\u001b[39;00m _global_forward_hooks \u001b[38;5;129;01mor\u001b[39;00m _global_forward_pre_hooks):\n\u001b[0;32m-> 1102\u001b[0m     \u001b[38;5;28;01mreturn\u001b[39;00m \u001b[43mforward_call\u001b[49m\u001b[43m(\u001b[49m\u001b[38;5;241;43m*\u001b[39;49m\u001b[38;5;28;43minput\u001b[39;49m\u001b[43m,\u001b[49m\u001b[43m \u001b[49m\u001b[38;5;241;43m*\u001b[39;49m\u001b[38;5;241;43m*\u001b[39;49m\u001b[43mkwargs\u001b[49m\u001b[43m)\u001b[49m\n\u001b[1;32m   1103\u001b[0m \u001b[38;5;66;03m# Do not call functions when jit is used\u001b[39;00m\n\u001b[1;32m   1104\u001b[0m full_backward_hooks, non_full_backward_hooks \u001b[38;5;241m=\u001b[39m [], []\n",
      "File \u001b[0;32m/usr/local/lib/python3.8/dist-packages/mmdet/models/backbones/swin.py:457\u001b[0m, in \u001b[0;36mSwinBlockSequence.forward\u001b[0;34m(self, x, hw_shape)\u001b[0m\n\u001b[1;32m    455\u001b[0m \u001b[38;5;28;01mdef\u001b[39;00m \u001b[38;5;21mforward\u001b[39m(\u001b[38;5;28mself\u001b[39m, x, hw_shape):\n\u001b[1;32m    456\u001b[0m     \u001b[38;5;28;01mfor\u001b[39;00m block \u001b[38;5;129;01min\u001b[39;00m \u001b[38;5;28mself\u001b[39m\u001b[38;5;241m.\u001b[39mblocks:\n\u001b[0;32m--> 457\u001b[0m         x \u001b[38;5;241m=\u001b[39m \u001b[43mblock\u001b[49m\u001b[43m(\u001b[49m\u001b[43mx\u001b[49m\u001b[43m,\u001b[49m\u001b[43m \u001b[49m\u001b[43mhw_shape\u001b[49m\u001b[43m)\u001b[49m\n\u001b[1;32m    459\u001b[0m     \u001b[38;5;28;01mif\u001b[39;00m \u001b[38;5;28mself\u001b[39m\u001b[38;5;241m.\u001b[39mdownsample:\n\u001b[1;32m    460\u001b[0m         x_down, down_hw_shape \u001b[38;5;241m=\u001b[39m \u001b[38;5;28mself\u001b[39m\u001b[38;5;241m.\u001b[39mdownsample(x, hw_shape)\n",
      "File \u001b[0;32m/usr/local/lib/python3.8/dist-packages/torch/nn/modules/module.py:1102\u001b[0m, in \u001b[0;36mModule._call_impl\u001b[0;34m(self, *input, **kwargs)\u001b[0m\n\u001b[1;32m   1098\u001b[0m \u001b[38;5;66;03m# If we don't have any hooks, we want to skip the rest of the logic in\u001b[39;00m\n\u001b[1;32m   1099\u001b[0m \u001b[38;5;66;03m# this function, and just call forward.\u001b[39;00m\n\u001b[1;32m   1100\u001b[0m \u001b[38;5;28;01mif\u001b[39;00m \u001b[38;5;129;01mnot\u001b[39;00m (\u001b[38;5;28mself\u001b[39m\u001b[38;5;241m.\u001b[39m_backward_hooks \u001b[38;5;129;01mor\u001b[39;00m \u001b[38;5;28mself\u001b[39m\u001b[38;5;241m.\u001b[39m_forward_hooks \u001b[38;5;129;01mor\u001b[39;00m \u001b[38;5;28mself\u001b[39m\u001b[38;5;241m.\u001b[39m_forward_pre_hooks \u001b[38;5;129;01mor\u001b[39;00m _global_backward_hooks\n\u001b[1;32m   1101\u001b[0m         \u001b[38;5;129;01mor\u001b[39;00m _global_forward_hooks \u001b[38;5;129;01mor\u001b[39;00m _global_forward_pre_hooks):\n\u001b[0;32m-> 1102\u001b[0m     \u001b[38;5;28;01mreturn\u001b[39;00m \u001b[43mforward_call\u001b[49m\u001b[43m(\u001b[49m\u001b[38;5;241;43m*\u001b[39;49m\u001b[38;5;28;43minput\u001b[39;49m\u001b[43m,\u001b[49m\u001b[43m \u001b[49m\u001b[38;5;241;43m*\u001b[39;49m\u001b[38;5;241;43m*\u001b[39;49m\u001b[43mkwargs\u001b[49m\u001b[43m)\u001b[49m\n\u001b[1;32m   1103\u001b[0m \u001b[38;5;66;03m# Do not call functions when jit is used\u001b[39;00m\n\u001b[1;32m   1104\u001b[0m full_backward_hooks, non_full_backward_hooks \u001b[38;5;241m=\u001b[39m [], []\n",
      "File \u001b[0;32m/usr/local/lib/python3.8/dist-packages/mmdet/models/backbones/swin.py:376\u001b[0m, in \u001b[0;36mSwinBlock.forward\u001b[0;34m(self, x, hw_shape)\u001b[0m\n\u001b[1;32m    374\u001b[0m     x \u001b[38;5;241m=\u001b[39m cp\u001b[38;5;241m.\u001b[39mcheckpoint(_inner_forward, x)\n\u001b[1;32m    375\u001b[0m \u001b[38;5;28;01melse\u001b[39;00m:\n\u001b[0;32m--> 376\u001b[0m     x \u001b[38;5;241m=\u001b[39m \u001b[43m_inner_forward\u001b[49m\u001b[43m(\u001b[49m\u001b[43mx\u001b[49m\u001b[43m)\u001b[49m\n\u001b[1;32m    378\u001b[0m \u001b[38;5;28;01mreturn\u001b[39;00m x\n",
      "File \u001b[0;32m/usr/local/lib/python3.8/dist-packages/mmdet/models/backbones/swin.py:363\u001b[0m, in \u001b[0;36mSwinBlock.forward.<locals>._inner_forward\u001b[0;34m(x)\u001b[0m\n\u001b[1;32m    361\u001b[0m identity \u001b[38;5;241m=\u001b[39m x\n\u001b[1;32m    362\u001b[0m x \u001b[38;5;241m=\u001b[39m \u001b[38;5;28mself\u001b[39m\u001b[38;5;241m.\u001b[39mnorm1(x)\n\u001b[0;32m--> 363\u001b[0m x \u001b[38;5;241m=\u001b[39m \u001b[38;5;28;43mself\u001b[39;49m\u001b[38;5;241;43m.\u001b[39;49m\u001b[43mattn\u001b[49m\u001b[43m(\u001b[49m\u001b[43mx\u001b[49m\u001b[43m,\u001b[49m\u001b[43m \u001b[49m\u001b[43mhw_shape\u001b[49m\u001b[43m)\u001b[49m\n\u001b[1;32m    365\u001b[0m x \u001b[38;5;241m=\u001b[39m x \u001b[38;5;241m+\u001b[39m identity\n\u001b[1;32m    367\u001b[0m identity \u001b[38;5;241m=\u001b[39m x\n",
      "File \u001b[0;32m/usr/local/lib/python3.8/dist-packages/torch/nn/modules/module.py:1102\u001b[0m, in \u001b[0;36mModule._call_impl\u001b[0;34m(self, *input, **kwargs)\u001b[0m\n\u001b[1;32m   1098\u001b[0m \u001b[38;5;66;03m# If we don't have any hooks, we want to skip the rest of the logic in\u001b[39;00m\n\u001b[1;32m   1099\u001b[0m \u001b[38;5;66;03m# this function, and just call forward.\u001b[39;00m\n\u001b[1;32m   1100\u001b[0m \u001b[38;5;28;01mif\u001b[39;00m \u001b[38;5;129;01mnot\u001b[39;00m (\u001b[38;5;28mself\u001b[39m\u001b[38;5;241m.\u001b[39m_backward_hooks \u001b[38;5;129;01mor\u001b[39;00m \u001b[38;5;28mself\u001b[39m\u001b[38;5;241m.\u001b[39m_forward_hooks \u001b[38;5;129;01mor\u001b[39;00m \u001b[38;5;28mself\u001b[39m\u001b[38;5;241m.\u001b[39m_forward_pre_hooks \u001b[38;5;129;01mor\u001b[39;00m _global_backward_hooks\n\u001b[1;32m   1101\u001b[0m         \u001b[38;5;129;01mor\u001b[39;00m _global_forward_hooks \u001b[38;5;129;01mor\u001b[39;00m _global_forward_pre_hooks):\n\u001b[0;32m-> 1102\u001b[0m     \u001b[38;5;28;01mreturn\u001b[39;00m \u001b[43mforward_call\u001b[49m\u001b[43m(\u001b[49m\u001b[38;5;241;43m*\u001b[39;49m\u001b[38;5;28;43minput\u001b[39;49m\u001b[43m,\u001b[49m\u001b[43m \u001b[49m\u001b[38;5;241;43m*\u001b[39;49m\u001b[38;5;241;43m*\u001b[39;49m\u001b[43mkwargs\u001b[49m\u001b[43m)\u001b[49m\n\u001b[1;32m   1103\u001b[0m \u001b[38;5;66;03m# Do not call functions when jit is used\u001b[39;00m\n\u001b[1;32m   1104\u001b[0m full_backward_hooks, non_full_backward_hooks \u001b[38;5;241m=\u001b[39m [], []\n",
      "File \u001b[0;32m/usr/local/lib/python3.8/dist-packages/mmdet/models/backbones/swin.py:231\u001b[0m, in \u001b[0;36mShiftWindowMSA.forward\u001b[0;34m(self, query, hw_shape)\u001b[0m\n\u001b[1;32m    228\u001b[0m query_windows \u001b[38;5;241m=\u001b[39m query_windows\u001b[38;5;241m.\u001b[39mview(\u001b[38;5;241m-\u001b[39m\u001b[38;5;241m1\u001b[39m, \u001b[38;5;28mself\u001b[39m\u001b[38;5;241m.\u001b[39mwindow_size\u001b[38;5;241m*\u001b[39m\u001b[38;5;241m*\u001b[39m\u001b[38;5;241m2\u001b[39m, C)\n\u001b[1;32m    230\u001b[0m \u001b[38;5;66;03m# W-MSA/SW-MSA (nW*B, window_size*window_size, C)\u001b[39;00m\n\u001b[0;32m--> 231\u001b[0m attn_windows \u001b[38;5;241m=\u001b[39m \u001b[38;5;28;43mself\u001b[39;49m\u001b[38;5;241;43m.\u001b[39;49m\u001b[43mw_msa\u001b[49m\u001b[43m(\u001b[49m\u001b[43mquery_windows\u001b[49m\u001b[43m,\u001b[49m\u001b[43m \u001b[49m\u001b[43mmask\u001b[49m\u001b[38;5;241;43m=\u001b[39;49m\u001b[43mattn_mask\u001b[49m\u001b[43m)\u001b[49m\n\u001b[1;32m    233\u001b[0m \u001b[38;5;66;03m# merge windows\u001b[39;00m\n\u001b[1;32m    234\u001b[0m attn_windows \u001b[38;5;241m=\u001b[39m attn_windows\u001b[38;5;241m.\u001b[39mview(\u001b[38;5;241m-\u001b[39m\u001b[38;5;241m1\u001b[39m, \u001b[38;5;28mself\u001b[39m\u001b[38;5;241m.\u001b[39mwindow_size,\n\u001b[1;32m    235\u001b[0m                                  \u001b[38;5;28mself\u001b[39m\u001b[38;5;241m.\u001b[39mwindow_size, C)\n",
      "File \u001b[0;32m/usr/local/lib/python3.8/dist-packages/torch/nn/modules/module.py:1102\u001b[0m, in \u001b[0;36mModule._call_impl\u001b[0;34m(self, *input, **kwargs)\u001b[0m\n\u001b[1;32m   1098\u001b[0m \u001b[38;5;66;03m# If we don't have any hooks, we want to skip the rest of the logic in\u001b[39;00m\n\u001b[1;32m   1099\u001b[0m \u001b[38;5;66;03m# this function, and just call forward.\u001b[39;00m\n\u001b[1;32m   1100\u001b[0m \u001b[38;5;28;01mif\u001b[39;00m \u001b[38;5;129;01mnot\u001b[39;00m (\u001b[38;5;28mself\u001b[39m\u001b[38;5;241m.\u001b[39m_backward_hooks \u001b[38;5;129;01mor\u001b[39;00m \u001b[38;5;28mself\u001b[39m\u001b[38;5;241m.\u001b[39m_forward_hooks \u001b[38;5;129;01mor\u001b[39;00m \u001b[38;5;28mself\u001b[39m\u001b[38;5;241m.\u001b[39m_forward_pre_hooks \u001b[38;5;129;01mor\u001b[39;00m _global_backward_hooks\n\u001b[1;32m   1101\u001b[0m         \u001b[38;5;129;01mor\u001b[39;00m _global_forward_hooks \u001b[38;5;129;01mor\u001b[39;00m _global_forward_pre_hooks):\n\u001b[0;32m-> 1102\u001b[0m     \u001b[38;5;28;01mreturn\u001b[39;00m \u001b[43mforward_call\u001b[49m\u001b[43m(\u001b[49m\u001b[38;5;241;43m*\u001b[39;49m\u001b[38;5;28;43minput\u001b[39;49m\u001b[43m,\u001b[49m\u001b[43m \u001b[49m\u001b[38;5;241;43m*\u001b[39;49m\u001b[38;5;241;43m*\u001b[39;49m\u001b[43mkwargs\u001b[49m\u001b[43m)\u001b[49m\n\u001b[1;32m   1103\u001b[0m \u001b[38;5;66;03m# Do not call functions when jit is used\u001b[39;00m\n\u001b[1;32m   1104\u001b[0m full_backward_hooks, non_full_backward_hooks \u001b[38;5;241m=\u001b[39m [], []\n",
      "File \u001b[0;32m/usr/local/lib/python3.8/dist-packages/mmdet/models/backbones/swin.py:116\u001b[0m, in \u001b[0;36mWindowMSA.forward\u001b[0;34m(self, x, mask)\u001b[0m\n\u001b[1;32m    112\u001b[0m attn \u001b[38;5;241m=\u001b[39m \u001b[38;5;28mself\u001b[39m\u001b[38;5;241m.\u001b[39msoftmax(attn)\n\u001b[1;32m    114\u001b[0m attn \u001b[38;5;241m=\u001b[39m \u001b[38;5;28mself\u001b[39m\u001b[38;5;241m.\u001b[39mattn_drop(attn)\n\u001b[0;32m--> 116\u001b[0m x \u001b[38;5;241m=\u001b[39m (\u001b[43mattn\u001b[49m\u001b[43m \u001b[49m\u001b[38;5;241;43m@\u001b[39;49m\u001b[43m \u001b[49m\u001b[43mv\u001b[49m)\u001b[38;5;241m.\u001b[39mtranspose(\u001b[38;5;241m1\u001b[39m, \u001b[38;5;241m2\u001b[39m)\u001b[38;5;241m.\u001b[39mreshape(B, N, C)\n\u001b[1;32m    117\u001b[0m x \u001b[38;5;241m=\u001b[39m \u001b[38;5;28mself\u001b[39m\u001b[38;5;241m.\u001b[39mproj(x)\n\u001b[1;32m    118\u001b[0m x \u001b[38;5;241m=\u001b[39m \u001b[38;5;28mself\u001b[39m\u001b[38;5;241m.\u001b[39mproj_drop(x)\n",
      "\u001b[0;31mRuntimeError\u001b[0m: expected scalar type Float but found Half"
     ]
    }
   ],
   "source": [
    "from tqdm import tqdm\n",
    "for data in tqdm(dataflow):\n",
    "        metas = data[\"metas\"].data[0][0]\n",
    "        name = \"{}-{}\".format(metas[\"timestamp\"], metas[\"token\"])\n",
    "        for key in data.keys():\n",
    "            data[key] = data[key].data[0]\n",
    "            if key =='points':\n",
    "                data[key][0] = data[key][0].to('cuda').half()\n",
    "            if isinstance(data[key], torch.Tensor):\n",
    "                data[key] = data[key].to('cuda')[:,:4].half()\n",
    "            if key.startswith('gt'):\n",
    "                data[key] = None\n",
    "        with torch.inference_mode():\n",
    "            outputs = model(**data)\n",
    "        break"
   ]
  },
  {
   "cell_type": "code",
   "execution_count": 18,
   "id": "3eff7cdd",
   "metadata": {
    "collapsed": true
   },
   "outputs": [
    {
     "data": {
      "text/plain": [
       "{'img': tensor([[[[[ 0.2649,  0.2649,  0.3335,  ..., -0.7798, -0.7627, -0.8481],\n",
       "            [ 0.2649,  0.2820,  0.2820,  ..., -0.8652, -0.8652, -0.9683],\n",
       "            [ 0.2307,  0.2478,  0.2478,  ..., -0.9336, -0.9336, -0.9683],\n",
       "            ...,\n",
       "            [-0.2488, -0.2317, -0.2146,  ..., -0.0262, -0.1289, -0.1461],\n",
       "            [-0.2488, -0.2488, -0.2659,  ..., -0.0433, -0.1461, -0.1803],\n",
       "            [-0.2659, -0.2830, -0.2830,  ...,  0.0080, -0.0262, -0.0947]],\n",
       " \n",
       "           [[-0.6353, -0.6177, -0.6177,  ..., -1.0381, -1.0205, -1.0908],\n",
       "            [-0.6704, -0.6528, -0.6353,  ..., -1.0557, -1.0381, -1.0908],\n",
       "            [-0.6875, -0.6875, -0.6704,  ..., -1.1250, -1.1250, -1.1602],\n",
       "            ...,\n",
       "            [-0.3726, -0.3550, -0.3376,  ..., -0.1449, -0.2500, -0.2676],\n",
       "            [-0.3726, -0.3726, -0.3901,  ..., -0.1625, -0.2676, -0.3025],\n",
       "            [-0.3901, -0.4075, -0.4075,  ..., -0.1099, -0.1449, -0.2150]],\n",
       " \n",
       "           [[-0.8657, -0.8833, -0.8481,  ..., -1.2666, -1.2490, -1.3193],\n",
       "            [-0.9180, -0.8833, -0.8311,  ..., -1.3535, -1.3535, -1.4238],\n",
       "            [-0.9531, -0.9009, -0.8657,  ..., -1.3887, -1.3887, -1.4414],\n",
       "            ...,\n",
       "            [-0.4998, -0.4824, -0.4648,  ..., -0.3081, -0.4126, -0.4302],\n",
       "            [-0.4998, -0.4998, -0.5171,  ..., -0.3254, -0.4302, -0.4648],\n",
       "            [-0.5171, -0.5347, -0.5347,  ..., -0.2732, -0.3081, -0.3777]]],\n",
       " \n",
       " \n",
       "          [[[-0.0776, -0.0947, -0.0947,  ..., -0.5400, -0.2146, -0.1803],\n",
       "            [-0.1632, -0.1289, -0.1118,  ..., -0.4885, -0.1974, -0.1803],\n",
       "            [-0.1974, -0.1289, -0.0776,  ..., -0.5571, -0.2659, -0.2488],\n",
       "            ...,\n",
       "            [ 0.8130,  0.7788,  0.7959,  ..., -0.0605, -0.0776, -0.0776],\n",
       "            [ 0.8130,  0.7446,  0.7617,  ...,  0.0080,  0.0252,  0.0252],\n",
       "            [ 0.7446,  0.6929,  0.6758,  ..., -0.0776, -0.0262,  0.0080]],\n",
       " \n",
       "           [[-0.5649, -0.5649, -0.5479,  ..., -0.7402, -0.4426, -0.4250],\n",
       "            [-0.6353, -0.6001, -0.5649,  ..., -0.7051, -0.4426, -0.4250],\n",
       "            [-0.7051, -0.6177, -0.5649,  ..., -0.7925, -0.5127, -0.4951],\n",
       "            ...,\n",
       "            [ 0.5376,  0.5029,  0.5205,  ..., -0.2849, -0.3025, -0.3025],\n",
       "            [ 0.5376,  0.5029,  0.5376,  ..., -0.2500, -0.2500, -0.2500],\n",
       "            [ 0.4678,  0.4329,  0.4502,  ..., -0.3550, -0.3025, -0.2676]],\n",
       " \n",
       "           [[-0.8135, -0.8311, -0.8135,  ..., -0.9355, -0.6216, -0.6045],\n",
       "            [-0.9009, -0.8481, -0.8311,  ..., -0.9180, -0.6392, -0.6392],\n",
       "            [-0.9531, -0.8657, -0.8135,  ..., -0.9531, -0.6914, -0.6567],\n",
       "            ...,\n",
       "            [ 0.3542,  0.3193,  0.3369,  ..., -0.6216, -0.6216, -0.6216],\n",
       "            [ 0.3716,  0.3369,  0.3716,  ..., -0.5171, -0.5171, -0.5171],\n",
       "            [ 0.3193,  0.2844,  0.2844,  ..., -0.6045, -0.5522, -0.5171]]],\n",
       " \n",
       " \n",
       "          [[[ 0.2478,  0.2820,  0.2649,  ..., -0.4885, -0.4714, -0.4885],\n",
       "            [ 0.3506,  0.3677,  0.3506,  ..., -0.6426, -0.5229, -0.4373],\n",
       "            [ 0.3506,  0.3506,  0.3506,  ..., -0.5571, -0.5059, -0.4543],\n",
       "            ...,\n",
       "            [-0.4885, -0.4885, -0.5059,  ..., -0.4543, -0.3857, -0.4028],\n",
       "            [-0.4885, -0.4885, -0.5400,  ..., -0.5059, -0.5059, -0.5059],\n",
       "            [-0.5059, -0.4885, -0.5571,  ..., -0.5742, -0.6084, -0.5742]],\n",
       " \n",
       "           [[ 0.1527,  0.1876,  0.1702,  ..., -0.7227, -0.7227, -0.7227],\n",
       "            [ 0.2578,  0.2751,  0.2578,  ..., -0.8628, -0.7578, -0.6875],\n",
       "            [ 0.2578,  0.2578,  0.2578,  ..., -0.7754, -0.7402, -0.7051],\n",
       "            ...,\n",
       "            [-0.6177, -0.6177, -0.6353,  ..., -0.6001, -0.5303, -0.5479],\n",
       "            [-0.6177, -0.6177, -0.6704,  ..., -0.6528, -0.6528, -0.6528],\n",
       "            [-0.6353, -0.6177, -0.6875,  ..., -0.7227, -0.7578, -0.7227]],\n",
       " \n",
       "           [[ 0.1974,  0.2323,  0.2148,  ..., -1.2148, -1.2314, -1.2490],\n",
       "            [ 0.3020,  0.3020,  0.2844,  ..., -1.3018, -1.2148, -1.1797],\n",
       "            [ 0.2671,  0.2671,  0.2671,  ..., -1.1973, -1.1797, -1.1621],\n",
       "            ...,\n",
       "            [-0.7788, -0.7788, -0.7959,  ..., -0.8311, -0.7612, -0.7788],\n",
       "            [-0.7788, -0.7788, -0.8311,  ..., -0.8833, -0.8833, -0.8833],\n",
       "            [-0.7959, -0.7788, -0.8481,  ..., -0.9531, -0.9878, -0.9531]]],\n",
       " \n",
       " \n",
       "          [[[-0.9165, -0.9336, -0.9336,  ..., -1.1221, -1.1562, -1.1738],\n",
       "            [-0.9683, -0.9512, -0.8994,  ..., -1.0879, -1.0713, -1.0537],\n",
       "            [-0.8652, -0.8140, -0.6938,  ..., -1.0195, -1.0537, -1.0537],\n",
       "            ...,\n",
       "            [ 0.7959,  0.7959,  0.8130,  ...,  0.6587,  0.6587,  0.6587],\n",
       "            [ 0.8301,  0.8301,  0.8301,  ...,  0.7446,  0.7271,  0.7271],\n",
       "            [ 0.7788,  0.7788,  0.7788,  ...,  0.7617,  0.7617,  0.7617]],\n",
       " \n",
       "           [[-1.1602, -1.1777, -1.1777,  ..., -1.2832, -1.3008, -1.3184],\n",
       "            [-1.2129, -1.1953, -1.1426,  ..., -1.2832, -1.2656, -1.2305],\n",
       "            [-1.1074, -1.0557, -0.9326,  ..., -1.2656, -1.2832, -1.2832],\n",
       "            ...,\n",
       "            [ 0.6777,  0.6953,  0.6953,  ...,  0.5728,  0.5728,  0.5728],\n",
       "            [ 0.6953,  0.7129,  0.6953,  ...,  0.6255,  0.6079,  0.6079],\n",
       "            [ 0.6431,  0.6431,  0.6431,  ...,  0.6431,  0.6431,  0.6431]],\n",
       " \n",
       "           [[-1.2842, -1.2842, -1.2842,  ..., -1.4756, -1.5283, -1.5459],\n",
       "            [-1.3193, -1.2842, -1.2490,  ..., -1.4580, -1.4414, -1.4238],\n",
       "            [-1.2490, -1.1973, -1.0752,  ..., -1.4238, -1.4580, -1.4414],\n",
       "            ...,\n",
       "            [ 0.4414,  0.4587,  0.4587,  ...,  0.3020,  0.3020,  0.3020],\n",
       "            [ 0.5283,  0.5283,  0.5283,  ...,  0.3892,  0.3716,  0.3716],\n",
       "            [ 0.4937,  0.4937,  0.4937,  ...,  0.4065,  0.4065,  0.4065]]]]],\n",
       "        device='cuda:0', dtype=torch.float16),\n",
       " 'points': [tensor([[-3.1230e+00, -4.2456e-01, -1.8770e+00,  4.0000e+00,  0.0000e+00],\n",
       "          [-3.2812e+00, -4.2310e-01, -1.8691e+00,  5.0000e+00,  0.0000e+00],\n",
       "          [-3.4941e+00, -4.2212e-01, -1.8818e+00,  6.0000e+00,  0.0000e+00],\n",
       "          ...,\n",
       "          [-7.9258e+00, -1.4181e-03, -1.6846e+00,  3.4000e+01,  0.0000e+00],\n",
       "          [-8.2266e+00,  1.4267e-03, -1.5498e+00,  2.0000e+01,  0.0000e+00],\n",
       "          [-8.5234e+00, -3.2745e-02, -1.1982e+00,  1.0000e+02,  0.0000e+00]],\n",
       "         device='cuda:0', dtype=torch.float16)],\n",
       " 'gt_bboxes_3d': None,\n",
       " 'gt_labels_3d': None,\n",
       " 'gt_masks_bev': None,\n",
       " 'camera_intrinsics': tensor([[[[1.2530e+03, 0.0000e+00, 8.2650e+02, 0.0000e+00],\n",
       "           [0.0000e+00, 1.2530e+03, 4.7000e+02, 0.0000e+00],\n",
       "           [0.0000e+00, 0.0000e+00, 1.0000e+00, 0.0000e+00],\n",
       "           [0.0000e+00, 0.0000e+00, 0.0000e+00, 1.0000e+00]],\n",
       " \n",
       "          [[1.2570e+03, 0.0000e+00, 8.1800e+02, 0.0000e+00],\n",
       "           [0.0000e+00, 1.2570e+03, 4.5200e+02, 0.0000e+00],\n",
       "           [0.0000e+00, 0.0000e+00, 1.0000e+00, 0.0000e+00],\n",
       "           [0.0000e+00, 0.0000e+00, 0.0000e+00, 1.0000e+00]],\n",
       " \n",
       "          [[1.2580e+03, 0.0000e+00, 8.2700e+02, 0.0000e+00],\n",
       "           [0.0000e+00, 1.2580e+03, 4.5100e+02, 0.0000e+00],\n",
       "           [0.0000e+00, 0.0000e+00, 1.0000e+00, 0.0000e+00],\n",
       "           [0.0000e+00, 0.0000e+00, 0.0000e+00, 1.0000e+00]],\n",
       " \n",
       "          [[7.9700e+02, 0.0000e+00, 8.5800e+02, 0.0000e+00],\n",
       "           [0.0000e+00, 7.9700e+02, 4.7700e+02, 0.0000e+00],\n",
       "           [0.0000e+00, 0.0000e+00, 1.0000e+00, 0.0000e+00],\n",
       "           [0.0000e+00, 0.0000e+00, 0.0000e+00, 1.0000e+00]]]], device='cuda:0',\n",
       "        dtype=torch.float16),\n",
       " 'camera2ego': tensor([[[[ 0.0103,  0.0084,  1.0000,  1.7217],\n",
       "           [-1.0000,  0.0123,  0.0102,  0.0048],\n",
       "           [-0.0122, -1.0000,  0.0086,  1.4951],\n",
       "           [ 0.0000,  0.0000,  0.0000,  1.0000]],\n",
       " \n",
       "          [[-0.8438,  0.0164,  0.5361,  1.5811],\n",
       "           [-0.5361,  0.0036, -0.8442, -0.4990],\n",
       "           [-0.0158, -1.0000,  0.0058,  1.5176],\n",
       "           [ 0.0000,  0.0000,  0.0000,  1.0000]],\n",
       " \n",
       "          [[ 0.8228,  0.0065,  0.5688,  1.5752],\n",
       "           [-0.5688,  0.0164,  0.8223,  0.5005],\n",
       "           [-0.0040, -1.0000,  0.0172,  1.5068],\n",
       "           [ 0.0000,  0.0000,  0.0000,  1.0000]],\n",
       " \n",
       "          [[ 0.0092, -0.0068, -1.0000,  0.0552],\n",
       "           [ 1.0000,  0.0113,  0.0091,  0.0108],\n",
       "           [ 0.0112, -1.0000,  0.0069,  1.5684],\n",
       "           [ 0.0000,  0.0000,  0.0000,  1.0000]]]], device='cuda:0',\n",
       "        dtype=torch.float16),\n",
       " 'lidar2ego': tensor([[[-5.4264e-04,  9.9902e-01,  4.6234e-02,  9.8584e-01],\n",
       "          [-1.0000e+00, -4.0579e-04, -2.9755e-03,  0.0000e+00],\n",
       "          [-2.9526e-03, -4.6234e-02,  9.9902e-01,  1.8398e+00],\n",
       "          [ 0.0000e+00,  0.0000e+00,  0.0000e+00,  1.0000e+00]]],\n",
       "        device='cuda:0', dtype=torch.float16),\n",
       " 'lidar2camera': tensor([[[[ 1.0000,  0.0122, -0.0095, -0.0023],\n",
       "           [-0.0101,  0.0539, -0.9985, -0.3550],\n",
       "           [-0.0117,  0.9985,  0.0540, -0.4253],\n",
       "           [ 0.0000,  0.0000,  0.0000,  1.0000]],\n",
       " \n",
       "          [[ 0.5371, -0.8418, -0.0530,  0.0298],\n",
       "           [-0.0014,  0.0620, -0.9980, -0.3315],\n",
       "           [ 0.8433,  0.5361,  0.0322, -0.6104],\n",
       "           [ 0.0000,  0.0000,  0.0000,  1.0000]],\n",
       " \n",
       "          [[ 0.5674,  0.8228,  0.0346,  0.1079],\n",
       "           [-0.0143,  0.0519, -0.9985, -0.3503],\n",
       "           [-0.8232,  0.5659,  0.0412, -0.5298],\n",
       "           [ 0.0000,  0.0000,  0.0000,  1.0000]],\n",
       " \n",
       "          [[-1.0000,  0.0080,  0.0089,  0.0014],\n",
       "           [-0.0086,  0.0392, -0.9990, -0.2810],\n",
       "           [-0.0083, -0.9990, -0.0391, -1.0166],\n",
       "           [ 0.0000,  0.0000,  0.0000,  1.0000]]]], device='cuda:0',\n",
       "        dtype=torch.float16),\n",
       " 'lidar2image': tensor([[[[ 1.2430e+03,  8.4050e+02,  3.2750e+01, -3.5425e+02],\n",
       "           [-1.8203e+01,  5.3700e+02, -1.2260e+03, -6.4450e+02],\n",
       "           [-1.1703e-02,  9.9854e-01,  5.4016e-02, -4.2529e-01],\n",
       "           [ 0.0000e+00,  0.0000e+00,  0.0000e+00,  1.0000e+00]],\n",
       " \n",
       "          [[ 1.3650e+03, -6.1950e+02, -4.0344e+01, -4.6175e+02],\n",
       "           [ 3.7950e+02,  3.2025e+02, -1.2400e+03, -6.9250e+02],\n",
       "           [ 8.4326e-01,  5.3613e-01,  3.2166e-02, -6.1035e-01],\n",
       "           [ 0.0000e+00,  0.0000e+00,  0.0000e+00,  1.0000e+00]],\n",
       " \n",
       "          [[ 3.2375e+01,  1.5030e+03,  7.7625e+01, -3.0250e+02],\n",
       "           [-3.8925e+02,  3.2050e+02, -1.2370e+03, -6.7950e+02],\n",
       "           [-8.2324e-01,  5.6592e-01,  4.1229e-02, -5.2979e-01],\n",
       "           [ 0.0000e+00,  0.0000e+00,  0.0000e+00,  1.0000e+00]],\n",
       " \n",
       "          [[-8.0400e+02, -8.5050e+02, -2.6438e+01, -8.7100e+02],\n",
       "           [-1.0820e+01, -4.4525e+02, -8.1500e+02, -7.0850e+02],\n",
       "           [-8.3313e-03, -9.9902e-01, -3.9093e-02, -1.0166e+00],\n",
       "           [ 0.0000e+00,  0.0000e+00,  0.0000e+00,  1.0000e+00]]]],\n",
       "        device='cuda:0', dtype=torch.float16),\n",
       " 'img_aug_matrix': tensor([[[[   0.4800,    0.0000,    0.0000,  -32.0000],\n",
       "           [   0.0000,    0.4800,    0.0000, -176.0000],\n",
       "           [   0.0000,    0.0000,    1.0000,    0.0000],\n",
       "           [   0.0000,    0.0000,    0.0000,    1.0000]],\n",
       " \n",
       "          [[   0.4800,    0.0000,    0.0000,  -32.0000],\n",
       "           [   0.0000,    0.4800,    0.0000, -176.0000],\n",
       "           [   0.0000,    0.0000,    1.0000,    0.0000],\n",
       "           [   0.0000,    0.0000,    0.0000,    1.0000]],\n",
       " \n",
       "          [[   0.4800,    0.0000,    0.0000,  -32.0000],\n",
       "           [   0.0000,    0.4800,    0.0000, -176.0000],\n",
       "           [   0.0000,    0.0000,    1.0000,    0.0000],\n",
       "           [   0.0000,    0.0000,    0.0000,    1.0000]],\n",
       " \n",
       "          [[   0.4800,    0.0000,    0.0000,  -32.0000],\n",
       "           [   0.0000,    0.4800,    0.0000, -176.0000],\n",
       "           [   0.0000,    0.0000,    1.0000,    0.0000],\n",
       "           [   0.0000,    0.0000,    0.0000,    1.0000]]]], device='cuda:0',\n",
       "        dtype=torch.float16),\n",
       " 'lidar_aug_matrix': tensor([[[1., 0., 0., 0.],\n",
       "          [0., 1., 0., 0.],\n",
       "          [0., 0., 1., 0.],\n",
       "          [0., 0., 0., 1.]]], device='cuda:0', dtype=torch.float16),\n",
       " 'metas': [{'filename': ['./data/nuscenes/v1.0-mini/samples/CAM_FRONT/n008-2018-08-01-15-16-36-0400__CAM_FRONT__1533151603512404.jpg',\n",
       "    './data/nuscenes/v1.0-mini/samples/CAM_FRONT_RIGHT/n008-2018-08-01-15-16-36-0400__CAM_FRONT_RIGHT__1533151603520482.jpg',\n",
       "    './data/nuscenes/v1.0-mini/samples/CAM_FRONT_LEFT/n008-2018-08-01-15-16-36-0400__CAM_FRONT_LEFT__1533151603504799.jpg',\n",
       "    './data/nuscenes/v1.0-mini/samples/CAM_BACK/n008-2018-08-01-15-16-36-0400__CAM_BACK__1533151603537558.jpg',\n",
       "    './data/nuscenes/v1.0-mini/samples/CAM_BACK_LEFT/n008-2018-08-01-15-16-36-0400__CAM_BACK_LEFT__1533151603547405.jpg',\n",
       "    './data/nuscenes/v1.0-mini/samples/CAM_BACK_RIGHT/n008-2018-08-01-15-16-36-0400__CAM_BACK_RIGHT__1533151603528113.jpg'],\n",
       "   'timestamp': 1533151603547590,\n",
       "   'ori_shape': (900, 1600, 3, 6),\n",
       "   'img_shape': (900, 1600, 3, 6),\n",
       "   'lidar2image': [array([[ 1.2429899e+03,  8.4064954e+02,  3.2762554e+01, -3.5435117e+02],\n",
       "           [-1.8201262e+01,  5.3679852e+02, -1.2255375e+03, -6.4470789e+02],\n",
       "           [-1.1702505e-02,  9.9847114e-01,  5.4022189e-02, -4.2520365e-01],\n",
       "           [ 0.0000000e+00,  0.0000000e+00,  0.0000000e+00,  1.0000000e+00]],\n",
       "          dtype=float32),\n",
       "    array([[ 1.3649467e+03, -6.1926489e+02, -4.0339165e+01, -4.6164282e+02],\n",
       "           [ 3.7946234e+02,  3.2030728e+02, -1.2397948e+03, -6.9255627e+02],\n",
       "           [ 8.4340686e-01,  5.3631204e-01,  3.2159850e-02, -6.1037183e-01],\n",
       "           [ 0.0000000e+00,  0.0000000e+00,  0.0000000e+00,  1.0000000e+00]],\n",
       "          dtype=float32),\n",
       "    array([[ 3.2369884e+01,  1.5031543e+03,  7.7623184e+01, -3.0243790e+02],\n",
       "           [-3.8932019e+02,  3.2044153e+02, -1.2374531e+03, -6.7942474e+02],\n",
       "           [-8.2341528e-01,  5.6594008e-01,  4.1219689e-02, -5.2967709e-01],\n",
       "           [ 0.0000000e+00,  0.0000000e+00,  0.0000000e+00,  1.0000000e+00]],\n",
       "          dtype=float32),\n",
       "    array([[-8.0398230e+02, -8.5072388e+02, -2.6437662e+01, -8.7079596e+02],\n",
       "           [-1.0823281e+01, -4.4528595e+02, -8.1489746e+02, -7.0868420e+02],\n",
       "           [-8.3335005e-03, -9.9920046e-01, -3.9102800e-02, -1.0164535e+00],\n",
       "           [ 0.0000000e+00,  0.0000000e+00,  0.0000000e+00,  1.0000000e+00]],\n",
       "          dtype=float32),\n",
       "    array([[-1.1865662e+03,  9.2326154e+02,  5.3264156e+01, -6.2534119e+02],\n",
       "           [-4.6262552e+02, -1.0254059e+02, -1.2524772e+03, -5.6182843e+02],\n",
       "           [-9.4758677e-01, -3.1948286e-01,  3.1694896e-03, -4.3252730e-01],\n",
       "           [ 0.0000000e+00,  0.0000000e+00,  0.0000000e+00,  1.0000000e+00]],\n",
       "          dtype=float32),\n",
       "    array([[ 2.8518930e+02, -1.4692765e+03, -5.9563427e+01, -2.7260034e+02],\n",
       "           [ 4.4473605e+02, -1.2282570e+02, -1.2503927e+03, -5.8824615e+02],\n",
       "           [ 9.2405295e-01, -3.8224655e-01, -3.7098916e-03, -4.6464515e-01],\n",
       "           [ 0.0000000e+00,  0.0000000e+00,  0.0000000e+00,  1.0000000e+00]],\n",
       "          dtype=float32)],\n",
       "   'pad_shape': (900, 1600, 3, 6),\n",
       "   'scale_factor': 1.0,\n",
       "   'box_mode_3d': <Box3DMode.LIDAR: 0>,\n",
       "   'box_type_3d': mmdet3d.core.bbox.structures.lidar_box3d.LiDARInstance3DBoxes,\n",
       "   'img_norm_cfg': {'mean': array([103.53 , 116.28 , 123.675], dtype=float32),\n",
       "    'std': array([58.395, 57.12 , 57.375], dtype=float32),\n",
       "    'to_rgb': True},\n",
       "   'token': '3e8750f331d7499e9b5123e9eb70f2e2',\n",
       "   'lidar_path': './data/nuscenes/v1.0-mini/samples/LIDAR_TOP/n008-2018-08-01-15-16-36-0400__LIDAR_TOP__1533151603547590.pcd.bin'}]}"
      ]
     },
     "execution_count": 18,
     "metadata": {},
     "output_type": "execute_result"
    }
   ],
   "source": [
    "data"
   ]
  },
  {
   "cell_type": "code",
   "execution_count": 16,
   "id": "af4e2e96",
   "metadata": {},
   "outputs": [
    {
     "data": {
      "text/plain": [
       "True"
      ]
     },
     "execution_count": 16,
     "metadata": {},
     "output_type": "execute_result"
    }
   ],
   "source": [
    "from mmcv.ops.voxelize import Voxelization, voxelization\n"
   ]
  },
  {
   "cell_type": "code",
   "execution_count": 9,
   "id": "559d320f",
   "metadata": {
    "scrolled": false
   },
   "outputs": [],
   "source": [
    "from copy import deepcopy\n",
    "data2 = deepcopy(data)"
   ]
  },
  {
   "cell_type": "code",
   "execution_count": 10,
   "id": "63502863",
   "metadata": {},
   "outputs": [],
   "source": [
    "data = deepcopy(data2)"
   ]
  },
  {
   "cell_type": "code",
   "execution_count": 20,
   "id": "501ad98f",
   "metadata": {},
   "outputs": [
    {
     "data": {
      "text/plain": [
       "torch.Size([1, 6, 4, 4])"
      ]
     },
     "execution_count": 20,
     "metadata": {},
     "output_type": "execute_result"
    }
   ],
   "source": [
    "data['camera2ego'].shape"
   ]
  },
  {
   "cell_type": "code",
   "execution_count": 14,
   "id": "81b6b589",
   "metadata": {},
   "outputs": [],
   "source": [
    "data['gt_bboxes_3d'] = None\n",
    "data['gt_bboxes_3d'] = None\n",
    "data['gt_masks_bev'] = None\n"
   ]
  },
  {
   "cell_type": "code",
   "execution_count": 10,
   "id": "1edda672",
   "metadata": {
    "collapsed": true
   },
   "outputs": [
    {
     "name": "stdout",
     "output_type": "stream",
     "text": [
      "camera\n",
      "lidar\n"
     ]
    }
   ],
   "source": [
    "for sensor in model.encoders:\n",
    "    print(sensor)"
   ]
  },
  {
   "cell_type": "code",
   "execution_count": 12,
   "id": "d5febec4",
   "metadata": {
    "collapsed": true
   },
   "outputs": [
    {
     "name": "stdout",
     "output_type": "stream",
     "text": [
      "[256, 704]\n",
      "B, N  1 6\n"
     ]
    },
    {
     "ename": "RuntimeError",
     "evalue": "CUDA out of memory. Tried to allocate 560.00 MiB (GPU 0; 7.80 GiB total capacity; 4.43 GiB already allocated; 547.25 MiB free; 4.62 GiB reserved in total by PyTorch) If reserved memory is >> allocated memory try setting max_split_size_mb to avoid fragmentation.  See documentation for Memory Management and PYTORCH_CUDA_ALLOC_CONF",
     "output_type": "error",
     "traceback": [
      "\u001b[0;31m---------------------------------------------------------------------------\u001b[0m",
      "\u001b[0;31mRuntimeError\u001b[0m                              Traceback (most recent call last)",
      "Input \u001b[0;32mIn [12]\u001b[0m, in \u001b[0;36m<module>\u001b[0;34m\u001b[0m\n\u001b[0;32m----> 1\u001b[0m outputs \u001b[38;5;241m=\u001b[39m \u001b[43mmodel\u001b[49m\u001b[43m(\u001b[49m\u001b[38;5;241;43m*\u001b[39;49m\u001b[38;5;241;43m*\u001b[39;49m\u001b[43mdata\u001b[49m\u001b[43m)\u001b[49m\n",
      "File \u001b[0;32m/usr/local/lib/python3.8/dist-packages/torch/nn/modules/module.py:1102\u001b[0m, in \u001b[0;36mModule._call_impl\u001b[0;34m(self, *input, **kwargs)\u001b[0m\n\u001b[1;32m   1098\u001b[0m \u001b[38;5;66;03m# If we don't have any hooks, we want to skip the rest of the logic in\u001b[39;00m\n\u001b[1;32m   1099\u001b[0m \u001b[38;5;66;03m# this function, and just call forward.\u001b[39;00m\n\u001b[1;32m   1100\u001b[0m \u001b[38;5;28;01mif\u001b[39;00m \u001b[38;5;129;01mnot\u001b[39;00m (\u001b[38;5;28mself\u001b[39m\u001b[38;5;241m.\u001b[39m_backward_hooks \u001b[38;5;129;01mor\u001b[39;00m \u001b[38;5;28mself\u001b[39m\u001b[38;5;241m.\u001b[39m_forward_hooks \u001b[38;5;129;01mor\u001b[39;00m \u001b[38;5;28mself\u001b[39m\u001b[38;5;241m.\u001b[39m_forward_pre_hooks \u001b[38;5;129;01mor\u001b[39;00m _global_backward_hooks\n\u001b[1;32m   1101\u001b[0m         \u001b[38;5;129;01mor\u001b[39;00m _global_forward_hooks \u001b[38;5;129;01mor\u001b[39;00m _global_forward_pre_hooks):\n\u001b[0;32m-> 1102\u001b[0m     \u001b[38;5;28;01mreturn\u001b[39;00m \u001b[43mforward_call\u001b[49m\u001b[43m(\u001b[49m\u001b[38;5;241;43m*\u001b[39;49m\u001b[38;5;28;43minput\u001b[39;49m\u001b[43m,\u001b[49m\u001b[43m \u001b[49m\u001b[38;5;241;43m*\u001b[39;49m\u001b[38;5;241;43m*\u001b[39;49m\u001b[43mkwargs\u001b[49m\u001b[43m)\u001b[49m\n\u001b[1;32m   1103\u001b[0m \u001b[38;5;66;03m# Do not call functions when jit is used\u001b[39;00m\n\u001b[1;32m   1104\u001b[0m full_backward_hooks, non_full_backward_hooks \u001b[38;5;241m=\u001b[39m [], []\n",
      "File \u001b[0;32m/usr/local/lib/python3.8/dist-packages/mmcv/runner/fp16_utils.py:98\u001b[0m, in \u001b[0;36mauto_fp16.<locals>.auto_fp16_wrapper.<locals>.new_func\u001b[0;34m(*args, **kwargs)\u001b[0m\n\u001b[1;32m     95\u001b[0m     \u001b[38;5;28;01mraise\u001b[39;00m \u001b[38;5;167;01mTypeError\u001b[39;00m(\u001b[38;5;124m'\u001b[39m\u001b[38;5;124m@auto_fp16 can only be used to decorate the \u001b[39m\u001b[38;5;124m'\u001b[39m\n\u001b[1;32m     96\u001b[0m                     \u001b[38;5;124m'\u001b[39m\u001b[38;5;124mmethod of nn.Module\u001b[39m\u001b[38;5;124m'\u001b[39m)\n\u001b[1;32m     97\u001b[0m \u001b[38;5;28;01mif\u001b[39;00m \u001b[38;5;129;01mnot\u001b[39;00m (\u001b[38;5;28mhasattr\u001b[39m(args[\u001b[38;5;241m0\u001b[39m], \u001b[38;5;124m'\u001b[39m\u001b[38;5;124mfp16_enabled\u001b[39m\u001b[38;5;124m'\u001b[39m) \u001b[38;5;129;01mand\u001b[39;00m args[\u001b[38;5;241m0\u001b[39m]\u001b[38;5;241m.\u001b[39mfp16_enabled):\n\u001b[0;32m---> 98\u001b[0m     \u001b[38;5;28;01mreturn\u001b[39;00m \u001b[43mold_func\u001b[49m\u001b[43m(\u001b[49m\u001b[38;5;241;43m*\u001b[39;49m\u001b[43margs\u001b[49m\u001b[43m,\u001b[49m\u001b[43m \u001b[49m\u001b[38;5;241;43m*\u001b[39;49m\u001b[38;5;241;43m*\u001b[39;49m\u001b[43mkwargs\u001b[49m\u001b[43m)\u001b[49m\n\u001b[1;32m    100\u001b[0m \u001b[38;5;66;03m# get the arg spec of the decorated method\u001b[39;00m\n\u001b[1;32m    101\u001b[0m args_info \u001b[38;5;241m=\u001b[39m getfullargspec(old_func)\n",
      "File \u001b[0;32m/workspace/catkin_ws_devel/src/conav_perception/conav_bev_detection/src/bevfusion/mmdet3d/models/fusion_models/bevfusion.py:169\u001b[0m, in \u001b[0;36mBEVFusion.forward\u001b[0;34m(self, img, points, camera2ego, lidar2ego, lidar2camera, lidar2image, camera_intrinsics, img_aug_matrix, lidar_aug_matrix, metas, gt_masks_bev, gt_bboxes_3d, gt_labels_3d, **kwargs)\u001b[0m\n\u001b[1;32m    167\u001b[0m \u001b[38;5;28;01mfor\u001b[39;00m sensor \u001b[38;5;129;01min\u001b[39;00m \u001b[38;5;28mself\u001b[39m\u001b[38;5;241m.\u001b[39mencoders:\n\u001b[1;32m    168\u001b[0m     \u001b[38;5;28;01mif\u001b[39;00m sensor \u001b[38;5;241m==\u001b[39m \u001b[38;5;124m\"\u001b[39m\u001b[38;5;124mcamera\u001b[39m\u001b[38;5;124m\"\u001b[39m:\n\u001b[0;32m--> 169\u001b[0m         feature \u001b[38;5;241m=\u001b[39m \u001b[38;5;28;43mself\u001b[39;49m\u001b[38;5;241;43m.\u001b[39;49m\u001b[43mextract_camera_features\u001b[49m\u001b[43m(\u001b[49m\n\u001b[1;32m    170\u001b[0m \u001b[43m            \u001b[49m\u001b[43mimg\u001b[49m\u001b[43m,\u001b[49m\n\u001b[1;32m    171\u001b[0m \u001b[43m            \u001b[49m\u001b[43mpoints\u001b[49m\u001b[43m,\u001b[49m\n\u001b[1;32m    172\u001b[0m \u001b[43m            \u001b[49m\u001b[43mcamera2ego\u001b[49m\u001b[43m,\u001b[49m\n\u001b[1;32m    173\u001b[0m \u001b[43m            \u001b[49m\u001b[43mlidar2ego\u001b[49m\u001b[43m,\u001b[49m\n\u001b[1;32m    174\u001b[0m \u001b[43m            \u001b[49m\u001b[43mlidar2camera\u001b[49m\u001b[43m,\u001b[49m\n\u001b[1;32m    175\u001b[0m \u001b[43m            \u001b[49m\u001b[43mlidar2image\u001b[49m\u001b[43m,\u001b[49m\n\u001b[1;32m    176\u001b[0m \u001b[43m            \u001b[49m\u001b[43mcamera_intrinsics\u001b[49m\u001b[43m,\u001b[49m\n\u001b[1;32m    177\u001b[0m \u001b[43m            \u001b[49m\u001b[43mimg_aug_matrix\u001b[49m\u001b[43m,\u001b[49m\n\u001b[1;32m    178\u001b[0m \u001b[43m            \u001b[49m\u001b[43mlidar_aug_matrix\u001b[49m\u001b[43m,\u001b[49m\n\u001b[1;32m    179\u001b[0m \u001b[43m            \u001b[49m\u001b[43mmetas\u001b[49m\u001b[43m,\u001b[49m\n\u001b[1;32m    180\u001b[0m \u001b[43m        \u001b[49m\u001b[43m)\u001b[49m\n\u001b[1;32m    181\u001b[0m     \u001b[38;5;28;01melif\u001b[39;00m sensor \u001b[38;5;241m==\u001b[39m \u001b[38;5;124m\"\u001b[39m\u001b[38;5;124mlidar\u001b[39m\u001b[38;5;124m\"\u001b[39m:\n\u001b[1;32m    182\u001b[0m         feature \u001b[38;5;241m=\u001b[39m \u001b[38;5;28mself\u001b[39m\u001b[38;5;241m.\u001b[39mextract_lidar_features(points)\n",
      "File \u001b[0;32m/workspace/catkin_ws_devel/src/conav_perception/conav_bev_detection/src/bevfusion/mmdet3d/models/fusion_models/bevfusion.py:108\u001b[0m, in \u001b[0;36mBEVFusion.extract_camera_features\u001b[0;34m(self, x, points, camera2ego, lidar2ego, lidar2camera, lidar2image, camera_intrinsics, img_aug_matrix, lidar_aug_matrix, img_metas)\u001b[0m\n\u001b[1;32m    105\u001b[0m BN, C, H, W \u001b[38;5;241m=\u001b[39m x\u001b[38;5;241m.\u001b[39msize()\n\u001b[1;32m    106\u001b[0m x \u001b[38;5;241m=\u001b[39m x\u001b[38;5;241m.\u001b[39mview(B, \u001b[38;5;28mint\u001b[39m(BN \u001b[38;5;241m/\u001b[39m B), C, H, W)\n\u001b[0;32m--> 108\u001b[0m x \u001b[38;5;241m=\u001b[39m \u001b[38;5;28;43mself\u001b[39;49m\u001b[38;5;241;43m.\u001b[39;49m\u001b[43mencoders\u001b[49m\u001b[43m[\u001b[49m\u001b[38;5;124;43m\"\u001b[39;49m\u001b[38;5;124;43mcamera\u001b[39;49m\u001b[38;5;124;43m\"\u001b[39;49m\u001b[43m]\u001b[49m\u001b[43m[\u001b[49m\u001b[38;5;124;43m\"\u001b[39;49m\u001b[38;5;124;43mvtransform\u001b[39;49m\u001b[38;5;124;43m\"\u001b[39;49m\u001b[43m]\u001b[49m\u001b[43m(\u001b[49m\n\u001b[1;32m    109\u001b[0m \u001b[43m    \u001b[49m\u001b[43mx\u001b[49m\u001b[43m,\u001b[49m\n\u001b[1;32m    110\u001b[0m \u001b[43m    \u001b[49m\u001b[43mpoints\u001b[49m\u001b[43m,\u001b[49m\n\u001b[1;32m    111\u001b[0m \u001b[43m    \u001b[49m\u001b[43mcamera2ego\u001b[49m\u001b[43m,\u001b[49m\n\u001b[1;32m    112\u001b[0m \u001b[43m    \u001b[49m\u001b[43mlidar2ego\u001b[49m\u001b[43m,\u001b[49m\n\u001b[1;32m    113\u001b[0m \u001b[43m    \u001b[49m\u001b[43mlidar2camera\u001b[49m\u001b[43m,\u001b[49m\n\u001b[1;32m    114\u001b[0m \u001b[43m    \u001b[49m\u001b[43mlidar2image\u001b[49m\u001b[43m,\u001b[49m\n\u001b[1;32m    115\u001b[0m \u001b[43m    \u001b[49m\u001b[43mcamera_intrinsics\u001b[49m\u001b[43m,\u001b[49m\n\u001b[1;32m    116\u001b[0m \u001b[43m    \u001b[49m\u001b[43mimg_aug_matrix\u001b[49m\u001b[43m,\u001b[49m\n\u001b[1;32m    117\u001b[0m \u001b[43m    \u001b[49m\u001b[43mlidar_aug_matrix\u001b[49m\u001b[43m,\u001b[49m\n\u001b[1;32m    118\u001b[0m \u001b[43m    \u001b[49m\u001b[43mimg_metas\u001b[49m\u001b[43m,\u001b[49m\n\u001b[1;32m    119\u001b[0m \u001b[43m\u001b[49m\u001b[43m)\u001b[49m\n\u001b[1;32m    120\u001b[0m \u001b[38;5;28;01mreturn\u001b[39;00m x\n",
      "File \u001b[0;32m/usr/local/lib/python3.8/dist-packages/torch/nn/modules/module.py:1102\u001b[0m, in \u001b[0;36mModule._call_impl\u001b[0;34m(self, *input, **kwargs)\u001b[0m\n\u001b[1;32m   1098\u001b[0m \u001b[38;5;66;03m# If we don't have any hooks, we want to skip the rest of the logic in\u001b[39;00m\n\u001b[1;32m   1099\u001b[0m \u001b[38;5;66;03m# this function, and just call forward.\u001b[39;00m\n\u001b[1;32m   1100\u001b[0m \u001b[38;5;28;01mif\u001b[39;00m \u001b[38;5;129;01mnot\u001b[39;00m (\u001b[38;5;28mself\u001b[39m\u001b[38;5;241m.\u001b[39m_backward_hooks \u001b[38;5;129;01mor\u001b[39;00m \u001b[38;5;28mself\u001b[39m\u001b[38;5;241m.\u001b[39m_forward_hooks \u001b[38;5;129;01mor\u001b[39;00m \u001b[38;5;28mself\u001b[39m\u001b[38;5;241m.\u001b[39m_forward_pre_hooks \u001b[38;5;129;01mor\u001b[39;00m _global_backward_hooks\n\u001b[1;32m   1101\u001b[0m         \u001b[38;5;129;01mor\u001b[39;00m _global_forward_hooks \u001b[38;5;129;01mor\u001b[39;00m _global_forward_pre_hooks):\n\u001b[0;32m-> 1102\u001b[0m     \u001b[38;5;28;01mreturn\u001b[39;00m \u001b[43mforward_call\u001b[49m\u001b[43m(\u001b[49m\u001b[38;5;241;43m*\u001b[39;49m\u001b[38;5;28;43minput\u001b[39;49m\u001b[43m,\u001b[49m\u001b[43m \u001b[49m\u001b[38;5;241;43m*\u001b[39;49m\u001b[38;5;241;43m*\u001b[39;49m\u001b[43mkwargs\u001b[49m\u001b[43m)\u001b[49m\n\u001b[1;32m   1103\u001b[0m \u001b[38;5;66;03m# Do not call functions when jit is used\u001b[39;00m\n\u001b[1;32m   1104\u001b[0m full_backward_hooks, non_full_backward_hooks \u001b[38;5;241m=\u001b[39m [], []\n",
      "File \u001b[0;32m/workspace/catkin_ws_devel/src/conav_perception/conav_bev_detection/src/bevfusion/mmdet3d/models/vtransforms/depth_lss.py:100\u001b[0m, in \u001b[0;36mDepthLSSTransform.forward\u001b[0;34m(self, *args, **kwargs)\u001b[0m\n\u001b[1;32m     99\u001b[0m \u001b[38;5;28;01mdef\u001b[39;00m \u001b[38;5;21mforward\u001b[39m(\u001b[38;5;28mself\u001b[39m, \u001b[38;5;241m*\u001b[39margs, \u001b[38;5;241m*\u001b[39m\u001b[38;5;241m*\u001b[39mkwargs):\n\u001b[0;32m--> 100\u001b[0m     x \u001b[38;5;241m=\u001b[39m \u001b[38;5;28;43msuper\u001b[39;49m\u001b[43m(\u001b[49m\u001b[43m)\u001b[49m\u001b[38;5;241;43m.\u001b[39;49m\u001b[43mforward\u001b[49m\u001b[43m(\u001b[49m\u001b[38;5;241;43m*\u001b[39;49m\u001b[43margs\u001b[49m\u001b[43m,\u001b[49m\u001b[43m \u001b[49m\u001b[38;5;241;43m*\u001b[39;49m\u001b[38;5;241;43m*\u001b[39;49m\u001b[43mkwargs\u001b[49m\u001b[43m)\u001b[49m\n\u001b[1;32m    101\u001b[0m     x \u001b[38;5;241m=\u001b[39m \u001b[38;5;28mself\u001b[39m\u001b[38;5;241m.\u001b[39mdownsample(x)\n\u001b[1;32m    102\u001b[0m     \u001b[38;5;28;01mreturn\u001b[39;00m x\n",
      "File \u001b[0;32m/usr/local/lib/python3.8/dist-packages/mmcv/runner/fp16_utils.py:186\u001b[0m, in \u001b[0;36mforce_fp32.<locals>.force_fp32_wrapper.<locals>.new_func\u001b[0;34m(*args, **kwargs)\u001b[0m\n\u001b[1;32m    183\u001b[0m     \u001b[38;5;28;01mraise\u001b[39;00m \u001b[38;5;167;01mTypeError\u001b[39;00m(\u001b[38;5;124m'\u001b[39m\u001b[38;5;124m@force_fp32 can only be used to decorate the \u001b[39m\u001b[38;5;124m'\u001b[39m\n\u001b[1;32m    184\u001b[0m                     \u001b[38;5;124m'\u001b[39m\u001b[38;5;124mmethod of nn.Module\u001b[39m\u001b[38;5;124m'\u001b[39m)\n\u001b[1;32m    185\u001b[0m \u001b[38;5;28;01mif\u001b[39;00m \u001b[38;5;129;01mnot\u001b[39;00m (\u001b[38;5;28mhasattr\u001b[39m(args[\u001b[38;5;241m0\u001b[39m], \u001b[38;5;124m'\u001b[39m\u001b[38;5;124mfp16_enabled\u001b[39m\u001b[38;5;124m'\u001b[39m) \u001b[38;5;129;01mand\u001b[39;00m args[\u001b[38;5;241m0\u001b[39m]\u001b[38;5;241m.\u001b[39mfp16_enabled):\n\u001b[0;32m--> 186\u001b[0m     \u001b[38;5;28;01mreturn\u001b[39;00m \u001b[43mold_func\u001b[49m\u001b[43m(\u001b[49m\u001b[38;5;241;43m*\u001b[39;49m\u001b[43margs\u001b[49m\u001b[43m,\u001b[49m\u001b[43m \u001b[49m\u001b[38;5;241;43m*\u001b[39;49m\u001b[38;5;241;43m*\u001b[39;49m\u001b[43mkwargs\u001b[49m\u001b[43m)\u001b[49m\n\u001b[1;32m    187\u001b[0m \u001b[38;5;66;03m# get the arg spec of the decorated method\u001b[39;00m\n\u001b[1;32m    188\u001b[0m args_info \u001b[38;5;241m=\u001b[39m getfullargspec(old_func)\n",
      "File \u001b[0;32m/workspace/catkin_ws_devel/src/conav_perception/conav_bev_detection/src/bevfusion/mmdet3d/models/vtransforms/base.py:293\u001b[0m, in \u001b[0;36mBaseDepthTransform.forward\u001b[0;34m(self, img, points, sensor2ego, lidar2ego, lidar2camera, lidar2image, cam_intrinsic, img_aug_matrix, lidar_aug_matrix, metas, **kwargs)\u001b[0m\n\u001b[1;32m    282\u001b[0m geom \u001b[38;5;241m=\u001b[39m \u001b[38;5;28mself\u001b[39m\u001b[38;5;241m.\u001b[39mget_geometry(\n\u001b[1;32m    283\u001b[0m     rots,\n\u001b[1;32m    284\u001b[0m     trans,\n\u001b[0;32m   (...)\u001b[0m\n\u001b[1;32m    289\u001b[0m     lidar2ego_trans,\n\u001b[1;32m    290\u001b[0m )\n\u001b[1;32m    292\u001b[0m x \u001b[38;5;241m=\u001b[39m \u001b[38;5;28mself\u001b[39m\u001b[38;5;241m.\u001b[39mget_cam_feats(img, depth)\n\u001b[0;32m--> 293\u001b[0m x \u001b[38;5;241m=\u001b[39m \u001b[38;5;28;43mself\u001b[39;49m\u001b[38;5;241;43m.\u001b[39;49m\u001b[43mbev_pool\u001b[49m\u001b[43m(\u001b[49m\u001b[43mgeom\u001b[49m\u001b[43m,\u001b[49m\u001b[43m \u001b[49m\u001b[43mx\u001b[49m\u001b[43m)\u001b[49m\n\u001b[1;32m    294\u001b[0m \u001b[38;5;28;01mreturn\u001b[39;00m x\n",
      "File \u001b[0;32m/usr/local/lib/python3.8/dist-packages/mmcv/runner/fp16_utils.py:186\u001b[0m, in \u001b[0;36mforce_fp32.<locals>.force_fp32_wrapper.<locals>.new_func\u001b[0;34m(*args, **kwargs)\u001b[0m\n\u001b[1;32m    183\u001b[0m     \u001b[38;5;28;01mraise\u001b[39;00m \u001b[38;5;167;01mTypeError\u001b[39;00m(\u001b[38;5;124m'\u001b[39m\u001b[38;5;124m@force_fp32 can only be used to decorate the \u001b[39m\u001b[38;5;124m'\u001b[39m\n\u001b[1;32m    184\u001b[0m                     \u001b[38;5;124m'\u001b[39m\u001b[38;5;124mmethod of nn.Module\u001b[39m\u001b[38;5;124m'\u001b[39m)\n\u001b[1;32m    185\u001b[0m \u001b[38;5;28;01mif\u001b[39;00m \u001b[38;5;129;01mnot\u001b[39;00m (\u001b[38;5;28mhasattr\u001b[39m(args[\u001b[38;5;241m0\u001b[39m], \u001b[38;5;124m'\u001b[39m\u001b[38;5;124mfp16_enabled\u001b[39m\u001b[38;5;124m'\u001b[39m) \u001b[38;5;129;01mand\u001b[39;00m args[\u001b[38;5;241m0\u001b[39m]\u001b[38;5;241m.\u001b[39mfp16_enabled):\n\u001b[0;32m--> 186\u001b[0m     \u001b[38;5;28;01mreturn\u001b[39;00m \u001b[43mold_func\u001b[49m\u001b[43m(\u001b[49m\u001b[38;5;241;43m*\u001b[39;49m\u001b[43margs\u001b[49m\u001b[43m,\u001b[49m\u001b[43m \u001b[49m\u001b[38;5;241;43m*\u001b[39;49m\u001b[38;5;241;43m*\u001b[39;49m\u001b[43mkwargs\u001b[49m\u001b[43m)\u001b[49m\n\u001b[1;32m    187\u001b[0m \u001b[38;5;66;03m# get the arg spec of the decorated method\u001b[39;00m\n\u001b[1;32m    188\u001b[0m args_info \u001b[38;5;241m=\u001b[39m getfullargspec(old_func)\n",
      "File \u001b[0;32m/workspace/catkin_ws_devel/src/conav_perception/conav_bev_detection/src/bevfusion/mmdet3d/models/vtransforms/base.py:166\u001b[0m, in \u001b[0;36mBaseTransform.bev_pool\u001b[0;34m(self, geom_feats, x)\u001b[0m\n\u001b[1;32m    157\u001b[0m \u001b[38;5;66;03m# filter out points that are outside box\u001b[39;00m\n\u001b[1;32m    158\u001b[0m kept \u001b[38;5;241m=\u001b[39m (\n\u001b[1;32m    159\u001b[0m     (geom_feats[:, \u001b[38;5;241m0\u001b[39m] \u001b[38;5;241m>\u001b[39m\u001b[38;5;241m=\u001b[39m \u001b[38;5;241m0\u001b[39m)\n\u001b[1;32m    160\u001b[0m     \u001b[38;5;241m&\u001b[39m (geom_feats[:, \u001b[38;5;241m0\u001b[39m] \u001b[38;5;241m<\u001b[39m \u001b[38;5;28mself\u001b[39m\u001b[38;5;241m.\u001b[39mnx[\u001b[38;5;241m0\u001b[39m])\n\u001b[0;32m   (...)\u001b[0m\n\u001b[1;32m    164\u001b[0m     \u001b[38;5;241m&\u001b[39m (geom_feats[:, \u001b[38;5;241m2\u001b[39m] \u001b[38;5;241m<\u001b[39m \u001b[38;5;28mself\u001b[39m\u001b[38;5;241m.\u001b[39mnx[\u001b[38;5;241m2\u001b[39m])\n\u001b[1;32m    165\u001b[0m )\n\u001b[0;32m--> 166\u001b[0m x \u001b[38;5;241m=\u001b[39m \u001b[43mx\u001b[49m\u001b[43m[\u001b[49m\u001b[43mkept\u001b[49m\u001b[43m]\u001b[49m\n\u001b[1;32m    167\u001b[0m geom_feats \u001b[38;5;241m=\u001b[39m geom_feats[kept]\n\u001b[1;32m    169\u001b[0m x \u001b[38;5;241m=\u001b[39m bev_pool(x, geom_feats, B, \u001b[38;5;28mself\u001b[39m\u001b[38;5;241m.\u001b[39mnx[\u001b[38;5;241m2\u001b[39m], \u001b[38;5;28mself\u001b[39m\u001b[38;5;241m.\u001b[39mnx[\u001b[38;5;241m0\u001b[39m], \u001b[38;5;28mself\u001b[39m\u001b[38;5;241m.\u001b[39mnx[\u001b[38;5;241m1\u001b[39m])\n",
      "\u001b[0;31mRuntimeError\u001b[0m: CUDA out of memory. Tried to allocate 560.00 MiB (GPU 0; 7.80 GiB total capacity; 4.43 GiB already allocated; 547.25 MiB free; 4.62 GiB reserved in total by PyTorch) If reserved memory is >> allocated memory try setting max_split_size_mb to avoid fragmentation.  See documentation for Memory Management and PYTORCH_CUDA_ALLOC_CONF"
     ]
    }
   ],
   "source": [
    "outputs = model(**data)"
   ]
  },
  {
   "cell_type": "code",
   "execution_count": 23,
   "id": "89710d5b",
   "metadata": {},
   "outputs": [
    {
     "name": "stdout",
     "output_type": "stream",
     "text": [
      "torch.Size([6, 3, 256, 704])\n"
     ]
    }
   ],
   "source": [
    "print(data['img'].data[0][0].shape)\n",
    "x = model.encoders['camera']['backbone'](data['img'].data[0][0].to('cuda'))"
   ]
  },
  {
   "cell_type": "code",
   "execution_count": 24,
   "id": "fa4b9171",
   "metadata": {
    "collapsed": true
   },
   "outputs": [
    {
     "name": "stdout",
     "output_type": "stream",
     "text": [
      "torch.Size([6, 192, 32, 88])\n",
      "torch.Size([6, 384, 16, 44])\n",
      "torch.Size([6, 768, 8, 22])\n"
     ]
    }
   ],
   "source": [
    "for i in range(len(x)):\n",
    "    print(x[i].shape)"
   ]
  },
  {
   "cell_type": "code",
   "execution_count": 26,
   "id": "bf1b72cb",
   "metadata": {
    "collapsed": true
   },
   "outputs": [
    {
     "data": {
      "text/plain": [
       "GeneralizedLSSFPN(\n",
       "  (lateral_convs): ModuleList(\n",
       "    (0): ConvModule(\n",
       "      (conv): Conv2d(448, 256, kernel_size=(1, 1), stride=(1, 1), bias=False)\n",
       "      (bn): BatchNorm2d(256, eps=1e-05, momentum=0.1, affine=True, track_running_stats=True)\n",
       "      (activate): ReLU(inplace=True)\n",
       "    )\n",
       "    (1): ConvModule(\n",
       "      (conv): Conv2d(1152, 256, kernel_size=(1, 1), stride=(1, 1), bias=False)\n",
       "      (bn): BatchNorm2d(256, eps=1e-05, momentum=0.1, affine=True, track_running_stats=True)\n",
       "      (activate): ReLU(inplace=True)\n",
       "    )\n",
       "  )\n",
       "  (fpn_convs): ModuleList(\n",
       "    (0): ConvModule(\n",
       "      (conv): Conv2d(256, 256, kernel_size=(3, 3), stride=(1, 1), padding=(1, 1), bias=False)\n",
       "      (bn): BatchNorm2d(256, eps=1e-05, momentum=0.1, affine=True, track_running_stats=True)\n",
       "      (activate): ReLU(inplace=True)\n",
       "    )\n",
       "    (1): ConvModule(\n",
       "      (conv): Conv2d(256, 256, kernel_size=(3, 3), stride=(1, 1), padding=(1, 1), bias=False)\n",
       "      (bn): BatchNorm2d(256, eps=1e-05, momentum=0.1, affine=True, track_running_stats=True)\n",
       "      (activate): ReLU(inplace=True)\n",
       "    )\n",
       "  )\n",
       ")"
      ]
     },
     "execution_count": 26,
     "metadata": {},
     "output_type": "execute_result"
    }
   ],
   "source": [
    "model.encoders['camera']['neck']"
   ]
  },
  {
   "cell_type": "code",
   "execution_count": 27,
   "id": "890004ab",
   "metadata": {},
   "outputs": [
    {
     "name": "stdout",
     "output_type": "stream",
     "text": [
      "torch.Size([6, 256, 32, 88])\n",
      "torch.Size([6, 256, 16, 44])\n"
     ]
    }
   ],
   "source": [
    "x = model.encoders['camera']['neck'](x)\n",
    "for i in range(len(x)):\n",
    "    print(x[i].shape)"
   ]
  }
 ],
 "metadata": {
  "kernelspec": {
   "display_name": "Python 3 (ipykernel)",
   "language": "python",
   "name": "python3"
  },
  "language_info": {
   "codemirror_mode": {
    "name": "ipython",
    "version": 3
   },
   "file_extension": ".py",
   "mimetype": "text/x-python",
   "name": "python",
   "nbconvert_exporter": "python",
   "pygments_lexer": "ipython3",
   "version": "3.8.5"
  }
 },
 "nbformat": 4,
 "nbformat_minor": 5
}
